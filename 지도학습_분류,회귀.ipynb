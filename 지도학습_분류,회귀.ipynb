{
  "nbformat": 4,
  "nbformat_minor": 0,
  "metadata": {
    "colab": {
      "name": "지도학습_분류,회귀.ipynb",
      "provenance": [],
      "authorship_tag": "ABX9TyOkFuzBNLnx0REdfqxgCXbm",
      "include_colab_link": true
    },
    "kernelspec": {
      "name": "python3",
      "display_name": "Python 3"
    },
    "language_info": {
      "name": "python"
    }
  },
  "cells": [
    {
      "cell_type": "markdown",
      "metadata": {
        "id": "view-in-github",
        "colab_type": "text"
      },
      "source": [
        "<a href=\"https://colab.research.google.com/github/Kimjibeom/Python_Example/blob/main/%EC%A7%80%EB%8F%84%ED%95%99%EC%8A%B5_%EB%B6%84%EB%A5%98%2C%ED%9A%8C%EA%B7%80.ipynb\" target=\"_parent\"><img src=\"https://colab.research.google.com/assets/colab-badge.svg\" alt=\"Open In Colab\"/></a>"
      ]
    },
    {
      "cell_type": "markdown",
      "metadata": {
        "id": "eVuKfdroXZrx"
      },
      "source": [
        "# 지도 학습\n",
        "\n",
        "*   분류\n",
        "*   회귀\n",
        "\n"
      ]
    },
    {
      "cell_type": "markdown",
      "metadata": {
        "id": "nj8YB1ANXcOc"
      },
      "source": [
        "지도 학습 알고리즘"
      ]
    },
    {
      "cell_type": "code",
      "metadata": {
        "colab": {
          "base_uri": "https://localhost:8080/"
        },
        "id": "pYVY64BpXR9Z",
        "outputId": "19d6c098-cc36-4d45-d834-768e5564f71e"
      },
      "source": [
        "pip install mglearn"
      ],
      "execution_count": 1,
      "outputs": [
        {
          "output_type": "stream",
          "text": [
            "Collecting mglearn\n",
            "\u001b[?25l  Downloading https://files.pythonhosted.org/packages/65/38/8aced26fce0b2ae82c3c87cd3b6105f38ca6d9d51704ecc44aa54473e6b9/mglearn-0.1.9.tar.gz (540kB)\n",
            "\r\u001b[K     |▋                               | 10kB 14.2MB/s eta 0:00:01\r\u001b[K     |█▏                              | 20kB 19.5MB/s eta 0:00:01\r\u001b[K     |█▉                              | 30kB 23.4MB/s eta 0:00:01\r\u001b[K     |██▍                             | 40kB 22.5MB/s eta 0:00:01\r\u001b[K     |███                             | 51kB 17.1MB/s eta 0:00:01\r\u001b[K     |███▋                            | 61kB 11.9MB/s eta 0:00:01\r\u001b[K     |████▎                           | 71kB 12.2MB/s eta 0:00:01\r\u001b[K     |████▉                           | 81kB 12.9MB/s eta 0:00:01\r\u001b[K     |█████▌                          | 92kB 13.1MB/s eta 0:00:01\r\u001b[K     |██████                          | 102kB 14.1MB/s eta 0:00:01\r\u001b[K     |██████▊                         | 112kB 14.1MB/s eta 0:00:01\r\u001b[K     |███████▎                        | 122kB 14.1MB/s eta 0:00:01\r\u001b[K     |███████▉                        | 133kB 14.1MB/s eta 0:00:01\r\u001b[K     |████████▌                       | 143kB 14.1MB/s eta 0:00:01\r\u001b[K     |█████████                       | 153kB 14.1MB/s eta 0:00:01\r\u001b[K     |█████████▊                      | 163kB 14.1MB/s eta 0:00:01\r\u001b[K     |██████████▎                     | 174kB 14.1MB/s eta 0:00:01\r\u001b[K     |███████████                     | 184kB 14.1MB/s eta 0:00:01\r\u001b[K     |███████████▌                    | 194kB 14.1MB/s eta 0:00:01\r\u001b[K     |████████████▏                   | 204kB 14.1MB/s eta 0:00:01\r\u001b[K     |████████████▊                   | 215kB 14.1MB/s eta 0:00:01\r\u001b[K     |█████████████▍                  | 225kB 14.1MB/s eta 0:00:01\r\u001b[K     |██████████████                  | 235kB 14.1MB/s eta 0:00:01\r\u001b[K     |██████████████▋                 | 245kB 14.1MB/s eta 0:00:01\r\u001b[K     |███████████████▏                | 256kB 14.1MB/s eta 0:00:01\r\u001b[K     |███████████████▊                | 266kB 14.1MB/s eta 0:00:01\r\u001b[K     |████████████████▍               | 276kB 14.1MB/s eta 0:00:01\r\u001b[K     |█████████████████               | 286kB 14.1MB/s eta 0:00:01\r\u001b[K     |█████████████████▋              | 296kB 14.1MB/s eta 0:00:01\r\u001b[K     |██████████████████▏             | 307kB 14.1MB/s eta 0:00:01\r\u001b[K     |██████████████████▉             | 317kB 14.1MB/s eta 0:00:01\r\u001b[K     |███████████████████▍            | 327kB 14.1MB/s eta 0:00:01\r\u001b[K     |████████████████████            | 337kB 14.1MB/s eta 0:00:01\r\u001b[K     |████████████████████▋           | 348kB 14.1MB/s eta 0:00:01\r\u001b[K     |█████████████████████▎          | 358kB 14.1MB/s eta 0:00:01\r\u001b[K     |█████████████████████▉          | 368kB 14.1MB/s eta 0:00:01\r\u001b[K     |██████████████████████▌         | 378kB 14.1MB/s eta 0:00:01\r\u001b[K     |███████████████████████         | 389kB 14.1MB/s eta 0:00:01\r\u001b[K     |███████████████████████▋        | 399kB 14.1MB/s eta 0:00:01\r\u001b[K     |████████████████████████▎       | 409kB 14.1MB/s eta 0:00:01\r\u001b[K     |████████████████████████▉       | 419kB 14.1MB/s eta 0:00:01\r\u001b[K     |█████████████████████████▌      | 430kB 14.1MB/s eta 0:00:01\r\u001b[K     |██████████████████████████      | 440kB 14.1MB/s eta 0:00:01\r\u001b[K     |██████████████████████████▊     | 450kB 14.1MB/s eta 0:00:01\r\u001b[K     |███████████████████████████▎    | 460kB 14.1MB/s eta 0:00:01\r\u001b[K     |████████████████████████████    | 471kB 14.1MB/s eta 0:00:01\r\u001b[K     |████████████████████████████▌   | 481kB 14.1MB/s eta 0:00:01\r\u001b[K     |█████████████████████████████▏  | 491kB 14.1MB/s eta 0:00:01\r\u001b[K     |█████████████████████████████▊  | 501kB 14.1MB/s eta 0:00:01\r\u001b[K     |██████████████████████████████▍ | 512kB 14.1MB/s eta 0:00:01\r\u001b[K     |███████████████████████████████ | 522kB 14.1MB/s eta 0:00:01\r\u001b[K     |███████████████████████████████▌| 532kB 14.1MB/s eta 0:00:01\r\u001b[K     |████████████████████████████████| 542kB 14.1MB/s \n",
            "\u001b[?25hRequirement already satisfied: numpy in /usr/local/lib/python3.7/dist-packages (from mglearn) (1.19.5)\n",
            "Requirement already satisfied: matplotlib in /usr/local/lib/python3.7/dist-packages (from mglearn) (3.2.2)\n",
            "Requirement already satisfied: scikit-learn in /usr/local/lib/python3.7/dist-packages (from mglearn) (0.22.2.post1)\n",
            "Requirement already satisfied: pandas in /usr/local/lib/python3.7/dist-packages (from mglearn) (1.1.5)\n",
            "Requirement already satisfied: pillow in /usr/local/lib/python3.7/dist-packages (from mglearn) (7.1.2)\n",
            "Requirement already satisfied: cycler in /usr/local/lib/python3.7/dist-packages (from mglearn) (0.10.0)\n",
            "Requirement already satisfied: imageio in /usr/local/lib/python3.7/dist-packages (from mglearn) (2.4.1)\n",
            "Requirement already satisfied: joblib in /usr/local/lib/python3.7/dist-packages (from mglearn) (1.0.1)\n",
            "Requirement already satisfied: pyparsing!=2.0.4,!=2.1.2,!=2.1.6,>=2.0.1 in /usr/local/lib/python3.7/dist-packages (from matplotlib->mglearn) (2.4.7)\n",
            "Requirement already satisfied: kiwisolver>=1.0.1 in /usr/local/lib/python3.7/dist-packages (from matplotlib->mglearn) (1.3.1)\n",
            "Requirement already satisfied: python-dateutil>=2.1 in /usr/local/lib/python3.7/dist-packages (from matplotlib->mglearn) (2.8.1)\n",
            "Requirement already satisfied: scipy>=0.17.0 in /usr/local/lib/python3.7/dist-packages (from scikit-learn->mglearn) (1.4.1)\n",
            "Requirement already satisfied: pytz>=2017.2 in /usr/local/lib/python3.7/dist-packages (from pandas->mglearn) (2018.9)\n",
            "Requirement already satisfied: six in /usr/local/lib/python3.7/dist-packages (from cycler->mglearn) (1.15.0)\n",
            "Building wheels for collected packages: mglearn\n",
            "  Building wheel for mglearn (setup.py) ... \u001b[?25l\u001b[?25hdone\n",
            "  Created wheel for mglearn: filename=mglearn-0.1.9-py2.py3-none-any.whl size=582638 sha256=52287cb382ef65707615a356688f0fa8ae2156573522af4e4f9c1e14ab6f10ae\n",
            "  Stored in directory: /root/.cache/pip/wheels/eb/a6/ea/a6a3716233fa62fc561259b5cb1e28f79e9ff3592c0adac5f0\n",
            "Successfully built mglearn\n",
            "Installing collected packages: mglearn\n",
            "Successfully installed mglearn-0.1.9\n"
          ],
          "name": "stdout"
        }
      ]
    },
    {
      "cell_type": "markdown",
      "metadata": {
        "id": "-D76Suf6XqQ0"
      },
      "source": [
        "한글 깨짐 방지"
      ]
    },
    {
      "cell_type": "code",
      "metadata": {
        "colab": {
          "base_uri": "https://localhost:8080/"
        },
        "id": "N5kc3IlFXrkl",
        "outputId": "8ac6fe57-d37c-494b-f3ca-8094226982c5"
      },
      "source": [
        "import matplotlib as mpl\n",
        "import matplotlib.pyplot as plt\n",
        " \n",
        "%config InlineBackend.figure_format = 'retina'\n",
        " \n",
        "!apt -qq -y install fonts-nanum\n",
        " \n",
        "import matplotlib.font_manager as fm\n",
        "\n",
        "fontpath = '/usr/share/fonts/truetype/nanum/NanumBarunGothic.ttf'\n",
        "font = fm.FontProperties(fname=fontpath, size=9)\n",
        "plt.rc('font', family='NanumBarunGothic') \n",
        "mpl.font_manager._rebuild()"
      ],
      "execution_count": 2,
      "outputs": [
        {
          "output_type": "stream",
          "text": [
            "The following NEW packages will be installed:\n",
            "  fonts-nanum\n",
            "0 upgraded, 1 newly installed, 0 to remove and 39 not upgraded.\n",
            "Need to get 9,604 kB of archives.\n",
            "After this operation, 29.5 MB of additional disk space will be used.\n",
            "Selecting previously unselected package fonts-nanum.\n",
            "(Reading database ... 160772 files and directories currently installed.)\n",
            "Preparing to unpack .../fonts-nanum_20170925-1_all.deb ...\n",
            "Unpacking fonts-nanum (20170925-1) ...\n",
            "Setting up fonts-nanum (20170925-1) ...\n",
            "Processing triggers for fontconfig (2.12.6-0ubuntu2) ...\n"
          ],
          "name": "stdout"
        }
      ]
    },
    {
      "cell_type": "markdown",
      "metadata": {
        "id": "28kj_nKWXuWI"
      },
      "source": [
        "# 예제에 사용할 데이터셋"
      ]
    },
    {
      "cell_type": "markdown",
      "metadata": {
        "id": "M3eE7nzCXw0y"
      },
      "source": [
        "1. 이진 부류 데이터셋(forge) 확인하기"
      ]
    },
    {
      "cell_type": "code",
      "metadata": {
        "colab": {
          "base_uri": "https://localhost:8080/"
        },
        "id": "3mryuBsuX1tK",
        "outputId": "9d768b96-271f-4a60-877f-f5e5510a869f"
      },
      "source": [
        "import mglearn\n",
        "import matplotlib.pyplot as plt\n",
        "\n",
        "#데이터셋 만들기\n",
        "X,y = mglearn.datasets.make_forge()"
      ],
      "execution_count": 3,
      "outputs": [
        {
          "output_type": "stream",
          "text": [
            "/usr/local/lib/python3.7/dist-packages/sklearn/utils/deprecation.py:87: FutureWarning: Function make_blobs is deprecated; Please import make_blobs directly from scikit-learn\n",
            "  warnings.warn(msg, category=FutureWarning)\n"
          ],
          "name": "stderr"
        }
      ]
    },
    {
      "cell_type": "markdown",
      "metadata": {
        "id": "ElIkLTxOX5XG"
      },
      "source": [
        "데이터 확인하기"
      ]
    },
    {
      "cell_type": "code",
      "metadata": {
        "colab": {
          "base_uri": "https://localhost:8080/"
        },
        "id": "M_Xs6l2DX6zV",
        "outputId": "82268671-cb2b-4221-eee2-14e13a388956"
      },
      "source": [
        "print(\"X.shape:\",X.shape)\n",
        "print(\"y.shape:\",y.shape)"
      ],
      "execution_count": 4,
      "outputs": [
        {
          "output_type": "stream",
          "text": [
            "X.shape: (26, 2)\n",
            "y.shape: (26,)\n"
          ],
          "name": "stdout"
        }
      ]
    },
    {
      "cell_type": "code",
      "metadata": {
        "colab": {
          "base_uri": "https://localhost:8080/"
        },
        "id": "MJ4TK2hLX97C",
        "outputId": "08f201b8-3806-463e-8359-3c182f27b2ed"
      },
      "source": [
        "y"
      ],
      "execution_count": 5,
      "outputs": [
        {
          "output_type": "execute_result",
          "data": {
            "text/plain": [
              "array([1, 0, 1, 0, 0, 1, 1, 0, 1, 1, 1, 1, 0, 0, 1, 1, 1, 0, 0, 1, 0, 0,\n",
              "       0, 0, 1, 0])"
            ]
          },
          "metadata": {
            "tags": []
          },
          "execution_count": 5
        }
      ]
    },
    {
      "cell_type": "code",
      "metadata": {
        "colab": {
          "base_uri": "https://localhost:8080/"
        },
        "id": "5gzvbVI-X_T2",
        "outputId": "e680154e-997f-47e3-8770-746ce869eaab"
      },
      "source": [
        "X"
      ],
      "execution_count": 6,
      "outputs": [
        {
          "output_type": "execute_result",
          "data": {
            "text/plain": [
              "array([[ 9.96346605,  4.59676542],\n",
              "       [11.0329545 , -0.16816717],\n",
              "       [11.54155807,  5.21116083],\n",
              "       [ 8.69289001,  1.54322016],\n",
              "       [ 8.1062269 ,  4.28695977],\n",
              "       [ 8.30988863,  4.80623966],\n",
              "       [11.93027136,  4.64866327],\n",
              "       [ 9.67284681, -0.20283165],\n",
              "       [ 8.34810316,  5.13415623],\n",
              "       [ 8.67494727,  4.47573059],\n",
              "       [ 9.17748385,  5.09283177],\n",
              "       [10.24028948,  2.45544401],\n",
              "       [ 8.68937095,  1.48709629],\n",
              "       [ 8.92229526, -0.63993225],\n",
              "       [ 9.49123469,  4.33224792],\n",
              "       [ 9.25694192,  5.13284858],\n",
              "       [ 7.99815287,  4.8525051 ],\n",
              "       [ 8.18378052,  1.29564214],\n",
              "       [ 8.7337095 ,  2.49162431],\n",
              "       [ 9.32298256,  5.09840649],\n",
              "       [10.06393839,  0.99078055],\n",
              "       [ 9.50048972, -0.26430318],\n",
              "       [ 8.34468785,  1.63824349],\n",
              "       [ 9.50169345,  1.93824624],\n",
              "       [ 9.15072323,  5.49832246],\n",
              "       [11.563957  ,  1.3389402 ]])"
            ]
          },
          "metadata": {
            "tags": []
          },
          "execution_count": 6
        }
      ]
    },
    {
      "cell_type": "code",
      "metadata": {
        "colab": {
          "base_uri": "https://localhost:8080/",
          "height": 1000
        },
        "id": "Vjqf15J7YCFP",
        "outputId": "e97a2d56-ae09-4003-fe98-1a8abcae23f5"
      },
      "source": [
        "plt.figure(dpi=200)\n",
        "plt.rc('font',family='NanumBarunGothic')\n",
        "\n",
        "# 산점도 그리기\n",
        "mglearn.discrete_scatter(X[:,0],X[:,1],y)\n",
        "\n",
        "plt.legend(['클래스 0','클래스 1'], loc=4)\n",
        "plt.xlabel(\"첫 번째 특성\")\n",
        "plt.ylabel(\"두 번째 특성\")\n",
        "plt.show()"
      ],
      "execution_count": 7,
      "outputs": [
        {
          "output_type": "stream",
          "text": [
            "findfont: Font family ['NanumBarunGothic'] not found. Falling back to DejaVu Sans.\n",
            "/usr/local/lib/python3.7/dist-packages/matplotlib/backends/backend_agg.py:214: RuntimeWarning: Glyph 52395 missing from current font.\n",
            "  font.set_text(s, 0.0, flags=flags)\n",
            "/usr/local/lib/python3.7/dist-packages/matplotlib/backends/backend_agg.py:214: RuntimeWarning: Glyph 48264 missing from current font.\n",
            "  font.set_text(s, 0.0, flags=flags)\n",
            "/usr/local/lib/python3.7/dist-packages/matplotlib/backends/backend_agg.py:214: RuntimeWarning: Glyph 51704 missing from current font.\n",
            "  font.set_text(s, 0.0, flags=flags)\n",
            "/usr/local/lib/python3.7/dist-packages/matplotlib/backends/backend_agg.py:214: RuntimeWarning: Glyph 53945 missing from current font.\n",
            "  font.set_text(s, 0.0, flags=flags)\n",
            "/usr/local/lib/python3.7/dist-packages/matplotlib/backends/backend_agg.py:214: RuntimeWarning: Glyph 49457 missing from current font.\n",
            "  font.set_text(s, 0.0, flags=flags)\n",
            "/usr/local/lib/python3.7/dist-packages/matplotlib/backends/backend_agg.py:214: RuntimeWarning: Glyph 46160 missing from current font.\n",
            "  font.set_text(s, 0.0, flags=flags)\n",
            "/usr/local/lib/python3.7/dist-packages/matplotlib/backends/backend_agg.py:214: RuntimeWarning: Glyph 53364 missing from current font.\n",
            "  font.set_text(s, 0.0, flags=flags)\n",
            "/usr/local/lib/python3.7/dist-packages/matplotlib/backends/backend_agg.py:214: RuntimeWarning: Glyph 47000 missing from current font.\n",
            "  font.set_text(s, 0.0, flags=flags)\n",
            "/usr/local/lib/python3.7/dist-packages/matplotlib/backends/backend_agg.py:214: RuntimeWarning: Glyph 49828 missing from current font.\n",
            "  font.set_text(s, 0.0, flags=flags)\n",
            "/usr/local/lib/python3.7/dist-packages/matplotlib/backends/backend_agg.py:183: RuntimeWarning: Glyph 52395 missing from current font.\n",
            "  font.set_text(s, 0, flags=flags)\n",
            "/usr/local/lib/python3.7/dist-packages/matplotlib/backends/backend_agg.py:183: RuntimeWarning: Glyph 48264 missing from current font.\n",
            "  font.set_text(s, 0, flags=flags)\n",
            "/usr/local/lib/python3.7/dist-packages/matplotlib/backends/backend_agg.py:183: RuntimeWarning: Glyph 51704 missing from current font.\n",
            "  font.set_text(s, 0, flags=flags)\n",
            "/usr/local/lib/python3.7/dist-packages/matplotlib/backends/backend_agg.py:183: RuntimeWarning: Glyph 53945 missing from current font.\n",
            "  font.set_text(s, 0, flags=flags)\n",
            "/usr/local/lib/python3.7/dist-packages/matplotlib/backends/backend_agg.py:183: RuntimeWarning: Glyph 49457 missing from current font.\n",
            "  font.set_text(s, 0, flags=flags)\n",
            "/usr/local/lib/python3.7/dist-packages/matplotlib/backends/backend_agg.py:183: RuntimeWarning: Glyph 46160 missing from current font.\n",
            "  font.set_text(s, 0, flags=flags)\n",
            "/usr/local/lib/python3.7/dist-packages/matplotlib/backends/backend_agg.py:183: RuntimeWarning: Glyph 53364 missing from current font.\n",
            "  font.set_text(s, 0, flags=flags)\n",
            "/usr/local/lib/python3.7/dist-packages/matplotlib/backends/backend_agg.py:183: RuntimeWarning: Glyph 47000 missing from current font.\n",
            "  font.set_text(s, 0, flags=flags)\n",
            "/usr/local/lib/python3.7/dist-packages/matplotlib/backends/backend_agg.py:183: RuntimeWarning: Glyph 49828 missing from current font.\n",
            "  font.set_text(s, 0, flags=flags)\n"
          ],
          "name": "stderr"
        },
        {
          "output_type": "display_data",
          "data": {
            "image/png": "[encoded data removed]",
            "text/plain": [
              "<Figure size 1200x800 with 1 Axes>"
            ]
          },
          "metadata": {
            "tags": [],
            "image/png": {
              "width": 1068,
              "height": 728
            },
            "needs_background": "light"
          }
        }
      ]
    },
    {
      "cell_type": "markdown",
      "metadata": {
        "id": "-uWU5mRAYEMs"
      },
      "source": [
        "# 회귀"
      ]
    },
    {
      "cell_type": "markdown",
      "metadata": {
        "id": "PEI5Q3GyYG2c"
      },
      "source": [
        "데이터 다운로드"
      ]
    },
    {
      "cell_type": "code",
      "metadata": {
        "id": "bbphYdBPYFi0"
      },
      "source": [
        "X,y = mglearn.datasets.make_wave(n_samples=40)"
      ],
      "execution_count": 8,
      "outputs": []
    },
    {
      "cell_type": "markdown",
      "metadata": {
        "id": "wMdFPpdxYK5I"
      },
      "source": [
        "데이터 확인하기"
      ]
    },
    {
      "cell_type": "code",
      "metadata": {
        "colab": {
          "base_uri": "https://localhost:8080/"
        },
        "id": "JSuCU4i2YMGH",
        "outputId": "548bdb1e-a6c8-421f-8d8f-dcd5d53aca50"
      },
      "source": [
        "print(\"X.shape:\",X.shape)\n",
        "print(\"y.shape:\",y.shape)"
      ],
      "execution_count": 9,
      "outputs": [
        {
          "output_type": "stream",
          "text": [
            "X.shape: (40, 1)\n",
            "y.shape: (40,)\n"
          ],
          "name": "stdout"
        }
      ]
    },
    {
      "cell_type": "code",
      "metadata": {
        "colab": {
          "base_uri": "https://localhost:8080/"
        },
        "id": "gJ0EdnovYNz8",
        "outputId": "57c5ebd4-c57f-477e-c105-39734ffca093"
      },
      "source": [
        "X"
      ],
      "execution_count": 10,
      "outputs": [
        {
          "output_type": "execute_result",
          "data": {
            "text/plain": [
              "array([[-0.75275929],\n",
              "       [ 2.70428584],\n",
              "       [ 1.39196365],\n",
              "       [ 0.59195091],\n",
              "       [-2.06388816],\n",
              "       [-2.06403288],\n",
              "       [-2.65149833],\n",
              "       [ 2.19705687],\n",
              "       [ 0.60669007],\n",
              "       [ 1.24843547],\n",
              "       [-2.87649303],\n",
              "       [ 2.81945911],\n",
              "       [ 1.99465584],\n",
              "       [-1.72596534],\n",
              "       [-1.9090502 ],\n",
              "       [-1.89957294],\n",
              "       [-1.17454654],\n",
              "       [ 0.14853859],\n",
              "       [-0.40832989],\n",
              "       [-1.25262516],\n",
              "       [ 0.67111737],\n",
              "       [-2.16303684],\n",
              "       [-1.24713211],\n",
              "       [-0.80182894],\n",
              "       [-0.26358009],\n",
              "       [ 1.71105577],\n",
              "       [-1.80195731],\n",
              "       [ 0.08540663],\n",
              "       [ 0.55448741],\n",
              "       [-2.72129752],\n",
              "       [ 0.64526911],\n",
              "       [-1.97685526],\n",
              "       [-2.60969044],\n",
              "       [ 2.69331322],\n",
              "       [ 2.7937922 ],\n",
              "       [ 1.85038409],\n",
              "       [-1.17231738],\n",
              "       [-2.41396732],\n",
              "       [ 1.10539816],\n",
              "       [-0.35908504]])"
            ]
          },
          "metadata": {
            "tags": []
          },
          "execution_count": 10
        }
      ]
    },
    {
      "cell_type": "code",
      "metadata": {
        "colab": {
          "base_uri": "https://localhost:8080/"
        },
        "id": "nbAyYqB4YP6f",
        "outputId": "f2fc52d7-2489-45ad-a9b3-f8dc42f36ee4"
      },
      "source": [
        "y"
      ],
      "execution_count": 11,
      "outputs": [
        {
          "output_type": "execute_result",
          "data": {
            "text/plain": [
              "array([-0.44822073,  0.33122576,  0.77932073,  0.03497884, -1.38773632,\n",
              "       -2.47196233, -1.52730805,  1.49417157,  1.00032374,  0.22956153,\n",
              "       -1.05979555,  0.7789638 ,  0.75418806, -1.51369739, -1.67303415,\n",
              "       -0.90496988,  0.08448544, -0.52734666, -0.54114599, -0.3409073 ,\n",
              "        0.21778193, -1.12469096,  0.37299129,  0.09756349, -0.98618122,\n",
              "        0.96695428, -1.13455014,  0.69798591,  0.43655826, -0.95652133,\n",
              "        0.03527881, -2.08581717, -0.47411033,  1.53708251,  0.86893293,\n",
              "        1.87664889,  0.0945257 , -1.41502356,  0.25438895,  0.09398858])"
            ]
          },
          "metadata": {
            "tags": []
          },
          "execution_count": 11
        }
      ]
    },
    {
      "cell_type": "markdown",
      "metadata": {
        "id": "fHPCgeDBYRVF"
      },
      "source": [
        "# 산점도 그리기"
      ]
    },
    {
      "cell_type": "code",
      "metadata": {
        "colab": {
          "base_uri": "https://localhost:8080/",
          "height": 676
        },
        "id": "Re6I0IdPYTZb",
        "outputId": "04abab8c-64e2-402c-ba66-004c55502fa8"
      },
      "source": [
        "plt.figure(dpi=100)\n",
        "plt.rc('font',family='NanumBarunGothic')\n",
        "\n",
        "# 산점도 그리기\n",
        "plt.rcParams['axes.unicode_minus'] = False # 마이너스 기호 깨짐 방지\n",
        "plt.plot(X,y,'o')\n",
        "plt.ylim(-3,3)\n",
        "plt.xlabel(\"특성\")\n",
        "plt.ylabel(\"타깃\")\n",
        "plt.show()"
      ],
      "execution_count": 12,
      "outputs": [
        {
          "output_type": "stream",
          "text": [
            "/usr/local/lib/python3.7/dist-packages/matplotlib/backends/backend_agg.py:214: RuntimeWarning: Glyph 53945 missing from current font.\n",
            "  font.set_text(s, 0.0, flags=flags)\n",
            "/usr/local/lib/python3.7/dist-packages/matplotlib/backends/backend_agg.py:214: RuntimeWarning: Glyph 49457 missing from current font.\n",
            "  font.set_text(s, 0.0, flags=flags)\n",
            "/usr/local/lib/python3.7/dist-packages/matplotlib/backends/backend_agg.py:214: RuntimeWarning: Glyph 53440 missing from current font.\n",
            "  font.set_text(s, 0.0, flags=flags)\n",
            "/usr/local/lib/python3.7/dist-packages/matplotlib/backends/backend_agg.py:214: RuntimeWarning: Glyph 44611 missing from current font.\n",
            "  font.set_text(s, 0.0, flags=flags)\n",
            "/usr/local/lib/python3.7/dist-packages/matplotlib/backends/backend_agg.py:183: RuntimeWarning: Glyph 53945 missing from current font.\n",
            "  font.set_text(s, 0, flags=flags)\n",
            "/usr/local/lib/python3.7/dist-packages/matplotlib/backends/backend_agg.py:183: RuntimeWarning: Glyph 49457 missing from current font.\n",
            "  font.set_text(s, 0, flags=flags)\n",
            "/usr/local/lib/python3.7/dist-packages/matplotlib/backends/backend_agg.py:183: RuntimeWarning: Glyph 53440 missing from current font.\n",
            "  font.set_text(s, 0, flags=flags)\n",
            "/usr/local/lib/python3.7/dist-packages/matplotlib/backends/backend_agg.py:183: RuntimeWarning: Glyph 44611 missing from current font.\n",
            "  font.set_text(s, 0, flags=flags)\n"
          ],
          "name": "stderr"
        },
        {
          "output_type": "display_data",
          "data": {
            "image/png": "[encoded data removed]",
            "text/plain": [
              "<Figure size 600x400 with 1 Axes>"
            ]
          },
          "metadata": {
            "tags": [],
            "image/png": {
              "width": 528,
              "height": 370
            },
            "needs_background": "light"
          }
        }
      ]
    },
    {
      "cell_type": "markdown",
      "metadata": {
        "id": "l-YIlQM1YW2F"
      },
      "source": [
        "분류 문제정의 : 위스콘신 유방암 데이터 셋을 사용한 악성 종야(Label,1) 예측하기\n",
        "\n",
        "UCI 데이터셋 https://archive.ics.uci.edu/ml/datasets/Breast+Cancer+Wisconsin+(Diagnostic)"
      ]
    },
    {
      "cell_type": "code",
      "metadata": {
        "colab": {
          "base_uri": "https://localhost:8080/"
        },
        "id": "V0WqP10yYacD",
        "outputId": "779a4fa3-35a5-4b6c-c1eb-c417485d99dc"
      },
      "source": [
        "from sklearn.datasets import load_breast_cancer\n",
        "\n",
        "cancer = load_breast_cancer()\n",
        "print(cancer.keys()) # 데이터셋 키 확인"
      ],
      "execution_count": 13,
      "outputs": [
        {
          "output_type": "stream",
          "text": [
            "dict_keys(['data', 'target', 'target_names', 'DESCR', 'feature_names', 'filename'])\n"
          ],
          "name": "stdout"
        }
      ]
    },
    {
      "cell_type": "code",
      "metadata": {
        "colab": {
          "base_uri": "https://localhost:8080/"
        },
        "id": "zVn30ouRYdXG",
        "outputId": "0c3b970a-44fd-479c-eb95-9eb152abd38d"
      },
      "source": [
        "cancer.data.shape # 유방암 데이터의 형태 -> 569건, 특성 30개"
      ],
      "execution_count": 14,
      "outputs": [
        {
          "output_type": "execute_result",
          "data": {
            "text/plain": [
              "(569, 30)"
            ]
          },
          "metadata": {
            "tags": []
          },
          "execution_count": 14
        }
      ]
    },
    {
      "cell_type": "code",
      "metadata": {
        "colab": {
          "base_uri": "https://localhost:8080/"
        },
        "id": "9eyKIHbfYe6G",
        "outputId": "f8cbb5ff-d14c-4cea-b48f-ce8a64ac8d7a"
      },
      "source": [
        "# 클래스별 샘플 갯수\n",
        "\n",
        "import numpy as np\n",
        "\n",
        "{n: v for n, v in zip(cancer.target_names, np.bincount(cancer.target))}"
      ],
      "execution_count": 15,
      "outputs": [
        {
          "output_type": "execute_result",
          "data": {
            "text/plain": [
              "{'benign': 357, 'malignant': 212}"
            ]
          },
          "metadata": {
            "tags": []
          },
          "execution_count": 15
        }
      ]
    },
    {
      "cell_type": "code",
      "metadata": {
        "colab": {
          "base_uri": "https://localhost:8080/"
        },
        "id": "y-I0gih3Yh7b",
        "outputId": "25d62905-37cd-472e-b774-29061cc80c1a"
      },
      "source": [
        "# 데이터의 특성 확인\n",
        "cancer.feature_names"
      ],
      "execution_count": 16,
      "outputs": [
        {
          "output_type": "execute_result",
          "data": {
            "text/plain": [
              "array(['mean radius', 'mean texture', 'mean perimeter', 'mean area',\n",
              "       'mean smoothness', 'mean compactness', 'mean concavity',\n",
              "       'mean concave points', 'mean symmetry', 'mean fractal dimension',\n",
              "       'radius error', 'texture error', 'perimeter error', 'area error',\n",
              "       'smoothness error', 'compactness error', 'concavity error',\n",
              "       'concave points error', 'symmetry error',\n",
              "       'fractal dimension error', 'worst radius', 'worst texture',\n",
              "       'worst perimeter', 'worst area', 'worst smoothness',\n",
              "       'worst compactness', 'worst concavity', 'worst concave points',\n",
              "       'worst symmetry', 'worst fractal dimension'], dtype='<U23')"
            ]
          },
          "metadata": {
            "tags": []
          },
          "execution_count": 16
        }
      ]
    },
    {
      "cell_type": "markdown",
      "metadata": {
        "id": "vUHvnULWYkpy"
      },
      "source": [
        "회귀 문제점의: 보스톤 주택 가격 데이터 셋을 사용한 보스턴 주변의 주택 평균 가격 예측하기\n",
        "https://www.kaggle.com/c/boston-housing"
      ]
    },
    {
      "cell_type": "code",
      "metadata": {
        "id": "BN_Zh6IPYl6Y"
      },
      "source": [
        "from sklearn.datasets import load_boston\n",
        "\n",
        "boston = load_boston()"
      ],
      "execution_count": 17,
      "outputs": []
    },
    {
      "cell_type": "code",
      "metadata": {
        "colab": {
          "base_uri": "https://localhost:8080/"
        },
        "id": "C3JGZoWQYnip",
        "outputId": "285f0ba8-9cbc-476e-8689-c2815aaecbf7"
      },
      "source": [
        "# 데이터 형태 확인\n",
        "\n",
        "boston.data.shape"
      ],
      "execution_count": 18,
      "outputs": [
        {
          "output_type": "execute_result",
          "data": {
            "text/plain": [
              "(506, 13)"
            ]
          },
          "metadata": {
            "tags": []
          },
          "execution_count": 18
        }
      ]
    },
    {
      "cell_type": "code",
      "metadata": {
        "colab": {
          "base_uri": "https://localhost:8080/"
        },
        "id": "yHR6PqXNYqAs",
        "outputId": "8f362367-7c61-4214-ab89-cc8c5ed81605"
      },
      "source": [
        "# 데이터의 특성 확인\n",
        "\n",
        "boston.feature_names"
      ],
      "execution_count": 19,
      "outputs": [
        {
          "output_type": "execute_result",
          "data": {
            "text/plain": [
              "array(['CRIM', 'ZN', 'INDUS', 'CHAS', 'NOX', 'RM', 'AGE', 'DIS', 'RAD',\n",
              "       'TAX', 'PTRATIO', 'B', 'LSTAT'], dtype='<U7')"
            ]
          },
          "metadata": {
            "tags": []
          },
          "execution_count": 19
        }
      ]
    }
  ]
}