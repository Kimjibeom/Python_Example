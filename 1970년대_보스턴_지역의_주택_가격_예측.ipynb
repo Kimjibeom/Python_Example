{
  "nbformat": 4,
  "nbformat_minor": 0,
  "metadata": {
    "colab": {
      "name": "1970년대 보스턴 지역의 주택 가격 예측.ipynb",
      "provenance": [],
      "authorship_tag": "ABX9TyMys30cG1PHvEWsh2KiOu5Z",
      "include_colab_link": true
    },
    "kernelspec": {
      "name": "python3",
      "display_name": "Python 3"
    },
    "language_info": {
      "name": "python"
    }
  },
  "cells": [
    {
      "cell_type": "markdown",
      "metadata": {
        "id": "view-in-github",
        "colab_type": "text"
      },
      "source": [
        "<a href=\"https://colab.research.google.com/github/Kimjibeom/Python_Example/blob/main/1970%EB%85%84%EB%8C%80_%EB%B3%B4%EC%8A%A4%ED%84%B4_%EC%A7%80%EC%97%AD%EC%9D%98_%EC%A3%BC%ED%83%9D_%EA%B0%80%EA%B2%A9_%EC%98%88%EC%B8%A1.ipynb\" target=\"_parent\"><img src=\"https://colab.research.google.com/assets/colab-badge.svg\" alt=\"Open In Colab\"/></a>"
      ]
    },
    {
      "cell_type": "markdown",
      "metadata": {
        "id": "hlyhaen_i1dj"
      },
      "source": [
        "1970년대 보스턴 지역의 주택 가격 예측 => 회귀"
      ]
    },
    {
      "cell_type": "markdown",
      "metadata": {
        "id": "DZyeTdWMi385"
      },
      "source": [
        "데이터 준비하기"
      ]
    },
    {
      "cell_type": "code",
      "metadata": {
        "colab": {
          "base_uri": "https://localhost:8080/"
        },
        "id": "E5SCm1U-ivEr",
        "outputId": "ce18215a-f6e3-4b6e-ce90-f9ef9a38819b"
      },
      "source": [
        "from tensorflow.keras.datasets.boston_housing import load_data\n",
        "\n",
        "# 데이터를 다운받습니다.\n",
        "(X_train, y_train), (X_test,y_test) = load_data(path='boston_housing.npz',\n",
        "                                                test_split=0.2,\n",
        "                                                seed=777)"
      ],
      "execution_count": 1,
      "outputs": [
        {
          "output_type": "stream",
          "text": [
            "Downloading data from https://storage.googleapis.com/tensorflow/tf-keras-datasets/boston_housing.npz\n",
            "57344/57026 [==============================] - 0s 0us/step\n"
          ],
          "name": "stdout"
        }
      ]
    },
    {
      "cell_type": "markdown",
      "metadata": {
        "id": "Yh7cc2JKjUSP"
      },
      "source": [
        "데이터 형태 확인하기"
      ]
    },
    {
      "cell_type": "code",
      "metadata": {
        "colab": {
          "base_uri": "https://localhost:8080/"
        },
        "id": "SPxYrcD4jTaM",
        "outputId": "d51a5a92-b19a-49ab-c804-3997727f341c"
      },
      "source": [
        "print(X_train.shape, y_train.shape)\n",
        "print(X_test.shape, y_test.shape)"
      ],
      "execution_count": 2,
      "outputs": [
        {
          "output_type": "stream",
          "text": [
            "(404, 13) (404,)\n",
            "(102, 13) (102,)\n"
          ],
          "name": "stdout"
        }
      ]
    },
    {
      "cell_type": "markdown",
      "metadata": {
        "id": "l-DnfwF8kJ6_"
      },
      "source": [
        "데이터 전처리 및 검증 데이터셋 만들기"
      ]
    },
    {
      "cell_type": "code",
      "metadata": {
        "colab": {
          "base_uri": "https://localhost:8080/"
        },
        "id": "xQFMtcoHjdDP",
        "outputId": "1e4bc629-34cc-4dc7-b15a-270328befa8b"
      },
      "source": [
        "import numpy as np\n",
        "np.set_printoptions(suppress=True)\n",
        "\n",
        "print(X_train[0])"
      ],
      "execution_count": 3,
      "outputs": [
        {
          "output_type": "stream",
          "text": [
            "[  0.25199   0.       10.59      0.        0.489     5.783    72.7\n",
            "   4.3549    4.      277.       18.6     389.43     18.06   ]\n"
          ],
          "name": "stdout"
        }
      ]
    },
    {
      "cell_type": "code",
      "metadata": {
        "colab": {
          "base_uri": "https://localhost:8080/"
        },
        "id": "9Wn6iYbwkUzh",
        "outputId": "096bc0a3-7d33-4cc0-efa6-20ab3c788680"
      },
      "source": [
        "# 데이터 전처리 -> 표준화(Standardization)\n",
        "\n",
        "mean = np.mean(X_train, axis = 0)\n",
        "std = np.std(X_train, axis = 0)\n",
        "\n",
        "# 데이터(훈련, 테스트 데이터 모두) - 평균 / 표준편차 (Standardization)\n",
        "X_train = (X_train - mean) / std\n",
        "X_test = (X_test - mean) / std\n",
        "\n",
        "print(X_train[0])"
      ],
      "execution_count": 5,
      "outputs": [
        {
          "output_type": "stream",
          "text": [
            "[-0.40102395 -0.48033655 -0.12089418 -0.28828791 -0.58254176 -0.68137272\n",
            "  0.11117586  0.26484408 -0.65187119 -0.80249043  0.0756568   0.37366783\n",
            "  0.69211835]\n"
          ],
          "name": "stdout"
        }
      ]
    },
    {
      "cell_type": "code",
      "metadata": {
        "id": "s8oyO85kkisl"
      },
      "source": [
        "# 검증 데이터셋을 만듭니다.\n",
        "from sklearn.model_selection import train_test_split\n",
        "\n",
        "X_train, X_val, y_train, y_val = train_test_split(X_train, y_train,\n",
        "                                                  test_size=0.33,\n",
        "                                                  random_state = 777)"
      ],
      "execution_count": 6,
      "outputs": []
    },
    {
      "cell_type": "code",
      "metadata": {
        "colab": {
          "base_uri": "https://localhost:8080/"
        },
        "id": "SbJHqcfClVks",
        "outputId": "7465a9b0-ecfc-49e0-cf42-1e71d20be839"
      },
      "source": [
        "print(X_train.shape, X_val.shape)"
      ],
      "execution_count": 7,
      "outputs": [
        {
          "output_type": "stream",
          "text": [
            "(270, 13) (134, 13)\n"
          ],
          "name": "stdout"
        }
      ]
    },
    {
      "cell_type": "markdown",
      "metadata": {
        "id": "2lM4-S-ymJOe"
      },
      "source": [
        "모델 구성하기"
      ]
    },
    {
      "cell_type": "code",
      "metadata": {
        "id": "jOTatPPLlYXA"
      },
      "source": [
        "from tensorflow.keras.models import Sequential\n",
        "from tensorflow.keras.layers import Dense\n",
        "\n",
        "model = Sequential()\n",
        "model.add(Dense(64, activation='relu', input_shape=(13,)))\n",
        "model.add(Dense(32, activation='relu'))\n",
        "model.add(Dense(1)) # 하나의 값을 출력 -> 주택가격"
      ],
      "execution_count": 8,
      "outputs": []
    },
    {
      "cell_type": "markdown",
      "metadata": {
        "id": "t8TN_jdam9Yb"
      },
      "source": [
        "모델 설정하기"
      ]
    },
    {
      "cell_type": "code",
      "metadata": {
        "id": "LjKMuMiPmmro"
      },
      "source": [
        "model.compile(optimizer = 'adam', loss = 'mse', metrics=['mae','mse'])"
      ],
      "execution_count": 9,
      "outputs": []
    },
    {
      "cell_type": "markdown",
      "metadata": {
        "id": "1GXH_74FnYIM"
      },
      "source": [
        "모델 학습하기"
      ]
    },
    {
      "cell_type": "code",
      "metadata": {
        "colab": {
          "base_uri": "https://localhost:8080/"
        },
        "id": "lXtc949ZnWsA",
        "outputId": "9203b7b0-18e9-4aee-b202-562f4880c935"
      },
      "source": [
        "history = model.fit(X_train, y_train,\n",
        "                    epochs =300,\n",
        "                    validation_data = (X_val, y_val))"
      ],
      "execution_count": 10,
      "outputs": [
        {
          "output_type": "stream",
          "text": [
            "Epoch 1/300\n",
            "9/9 [==============================] - 1s 30ms/step - loss: 565.4744 - mae: 22.1693 - mse: 565.4744 - val_loss: 615.9771 - val_mae: 22.6634 - val_mse: 615.9771\n",
            "Epoch 2/300\n",
            "9/9 [==============================] - 0s 6ms/step - loss: 539.0820 - mae: 21.5681 - mse: 539.0820 - val_loss: 589.6467 - val_mae: 22.0840 - val_mse: 589.6467\n",
            "Epoch 3/300\n",
            "9/9 [==============================] - 0s 5ms/step - loss: 514.6718 - mae: 21.0031 - mse: 514.6718 - val_loss: 562.1135 - val_mae: 21.4780 - val_mse: 562.1135\n",
            "Epoch 4/300\n",
            "9/9 [==============================] - 0s 5ms/step - loss: 487.1674 - mae: 20.3610 - mse: 487.1674 - val_loss: 529.3162 - val_mae: 20.7407 - val_mse: 529.3162\n",
            "Epoch 5/300\n",
            "9/9 [==============================] - 0s 6ms/step - loss: 453.3883 - mae: 19.5656 - mse: 453.3883 - val_loss: 489.5458 - val_mae: 19.8173 - val_mse: 489.5458\n",
            "Epoch 6/300\n",
            "9/9 [==============================] - 0s 4ms/step - loss: 413.5780 - mae: 18.5798 - mse: 413.5780 - val_loss: 440.0225 - val_mae: 18.6132 - val_mse: 440.0225\n",
            "Epoch 7/300\n",
            "9/9 [==============================] - 0s 6ms/step - loss: 364.4582 - mae: 17.3119 - mse: 364.4582 - val_loss: 381.5830 - val_mae: 17.0908 - val_mse: 381.5830\n",
            "Epoch 8/300\n",
            "9/9 [==============================] - 0s 5ms/step - loss: 308.3403 - mae: 15.7025 - mse: 308.3403 - val_loss: 316.9471 - val_mae: 15.2237 - val_mse: 316.9471\n",
            "Epoch 9/300\n",
            "9/9 [==============================] - 0s 5ms/step - loss: 247.9549 - mae: 13.8959 - mse: 247.9549 - val_loss: 251.5429 - val_mae: 13.0485 - val_mse: 251.5429\n",
            "Epoch 10/300\n",
            "9/9 [==============================] - 0s 5ms/step - loss: 189.1887 - mae: 11.7987 - mse: 189.1887 - val_loss: 192.4458 - val_mae: 10.9644 - val_mse: 192.4458\n",
            "Epoch 11/300\n",
            "9/9 [==============================] - 0s 5ms/step - loss: 139.3155 - mae: 9.8097 - mse: 139.3155 - val_loss: 146.6515 - val_mae: 9.1357 - val_mse: 146.6515\n",
            "Epoch 12/300\n",
            "9/9 [==============================] - 0s 7ms/step - loss: 103.3561 - mae: 8.2677 - mse: 103.3561 - val_loss: 116.6828 - val_mae: 7.9843 - val_mse: 116.6828\n",
            "Epoch 13/300\n",
            "9/9 [==============================] - 0s 4ms/step - loss: 80.5636 - mae: 7.0660 - mse: 80.5636 - val_loss: 97.4469 - val_mae: 7.2424 - val_mse: 97.4469\n",
            "Epoch 14/300\n",
            "9/9 [==============================] - 0s 4ms/step - loss: 65.9705 - mae: 6.2921 - mse: 65.9705 - val_loss: 83.7523 - val_mae: 6.7164 - val_mse: 83.7523\n",
            "Epoch 15/300\n",
            "9/9 [==============================] - 0s 6ms/step - loss: 55.0292 - mae: 5.7423 - mse: 55.0292 - val_loss: 72.8039 - val_mae: 6.2404 - val_mse: 72.8039\n",
            "Epoch 16/300\n",
            "9/9 [==============================] - 0s 4ms/step - loss: 46.8314 - mae: 5.2731 - mse: 46.8314 - val_loss: 63.7488 - val_mae: 5.8090 - val_mse: 63.7488\n",
            "Epoch 17/300\n",
            "9/9 [==============================] - 0s 5ms/step - loss: 40.3685 - mae: 4.8685 - mse: 40.3685 - val_loss: 56.7293 - val_mae: 5.4480 - val_mse: 56.7293\n",
            "Epoch 18/300\n",
            "9/9 [==============================] - 0s 7ms/step - loss: 35.6038 - mae: 4.5467 - mse: 35.6038 - val_loss: 51.4363 - val_mae: 5.1596 - val_mse: 51.4363\n",
            "Epoch 19/300\n",
            "9/9 [==============================] - 0s 7ms/step - loss: 32.2309 - mae: 4.2997 - mse: 32.2309 - val_loss: 47.1133 - val_mae: 4.9218 - val_mse: 47.1133\n",
            "Epoch 20/300\n",
            "9/9 [==============================] - 0s 4ms/step - loss: 29.7148 - mae: 4.0919 - mse: 29.7148 - val_loss: 43.8205 - val_mae: 4.7256 - val_mse: 43.8205\n",
            "Epoch 21/300\n",
            "9/9 [==============================] - 0s 4ms/step - loss: 27.7754 - mae: 3.9068 - mse: 27.7754 - val_loss: 41.2264 - val_mae: 4.5472 - val_mse: 41.2264\n",
            "Epoch 22/300\n",
            "9/9 [==============================] - 0s 4ms/step - loss: 26.4332 - mae: 3.7727 - mse: 26.4332 - val_loss: 39.1241 - val_mae: 4.4154 - val_mse: 39.1241\n",
            "Epoch 23/300\n",
            "9/9 [==============================] - 0s 5ms/step - loss: 25.3282 - mae: 3.6657 - mse: 25.3282 - val_loss: 37.6118 - val_mae: 4.2991 - val_mse: 37.6118\n",
            "Epoch 24/300\n",
            "9/9 [==============================] - 0s 5ms/step - loss: 24.4307 - mae: 3.5687 - mse: 24.4307 - val_loss: 36.3360 - val_mae: 4.1950 - val_mse: 36.3360\n",
            "Epoch 25/300\n",
            "9/9 [==============================] - 0s 4ms/step - loss: 23.7519 - mae: 3.4964 - mse: 23.7519 - val_loss: 35.0278 - val_mae: 4.0888 - val_mse: 35.0278\n",
            "Epoch 26/300\n",
            "9/9 [==============================] - 0s 5ms/step - loss: 23.0269 - mae: 3.4269 - mse: 23.0269 - val_loss: 34.3797 - val_mae: 4.0499 - val_mse: 34.3797\n",
            "Epoch 27/300\n",
            "9/9 [==============================] - 0s 4ms/step - loss: 22.4978 - mae: 3.3790 - mse: 22.4978 - val_loss: 33.6774 - val_mae: 4.0047 - val_mse: 33.6774\n",
            "Epoch 28/300\n",
            "9/9 [==============================] - 0s 4ms/step - loss: 21.9274 - mae: 3.3238 - mse: 21.9274 - val_loss: 32.8200 - val_mae: 3.9308 - val_mse: 32.8200\n",
            "Epoch 29/300\n",
            "9/9 [==============================] - 0s 4ms/step - loss: 21.4116 - mae: 3.2740 - mse: 21.4116 - val_loss: 31.8676 - val_mae: 3.8570 - val_mse: 31.8676\n",
            "Epoch 30/300\n",
            "9/9 [==============================] - 0s 5ms/step - loss: 20.9665 - mae: 3.2459 - mse: 20.9665 - val_loss: 31.1331 - val_mae: 3.8288 - val_mse: 31.1331\n",
            "Epoch 31/300\n",
            "9/9 [==============================] - 0s 5ms/step - loss: 20.6279 - mae: 3.2104 - mse: 20.6279 - val_loss: 30.8621 - val_mae: 3.8200 - val_mse: 30.8621\n",
            "Epoch 32/300\n",
            "9/9 [==============================] - 0s 5ms/step - loss: 20.0280 - mae: 3.1584 - mse: 20.0280 - val_loss: 30.0522 - val_mae: 3.7692 - val_mse: 30.0522\n",
            "Epoch 33/300\n",
            "9/9 [==============================] - 0s 4ms/step - loss: 19.6242 - mae: 3.1298 - mse: 19.6242 - val_loss: 29.4392 - val_mae: 3.7423 - val_mse: 29.4392\n",
            "Epoch 34/300\n",
            "9/9 [==============================] - 0s 6ms/step - loss: 19.2712 - mae: 3.0917 - mse: 19.2712 - val_loss: 29.0207 - val_mae: 3.7078 - val_mse: 29.0207\n",
            "Epoch 35/300\n",
            "9/9 [==============================] - 0s 6ms/step - loss: 18.9217 - mae: 3.0547 - mse: 18.9217 - val_loss: 28.5559 - val_mae: 3.6603 - val_mse: 28.5559\n",
            "Epoch 36/300\n",
            "9/9 [==============================] - 0s 4ms/step - loss: 18.5418 - mae: 3.0100 - mse: 18.5418 - val_loss: 28.0233 - val_mae: 3.6076 - val_mse: 28.0233\n",
            "Epoch 37/300\n",
            "9/9 [==============================] - 0s 7ms/step - loss: 18.2528 - mae: 2.9887 - mse: 18.2528 - val_loss: 27.3550 - val_mae: 3.5983 - val_mse: 27.3550\n",
            "Epoch 38/300\n",
            "9/9 [==============================] - 0s 4ms/step - loss: 17.8907 - mae: 2.9617 - mse: 17.8907 - val_loss: 26.8649 - val_mae: 3.5638 - val_mse: 26.8649\n",
            "Epoch 39/300\n",
            "9/9 [==============================] - 0s 4ms/step - loss: 17.6749 - mae: 2.9309 - mse: 17.6749 - val_loss: 26.5657 - val_mae: 3.5017 - val_mse: 26.5657\n",
            "Epoch 40/300\n",
            "9/9 [==============================] - 0s 4ms/step - loss: 17.4417 - mae: 2.9076 - mse: 17.4417 - val_loss: 25.9308 - val_mae: 3.4842 - val_mse: 25.9308\n",
            "Epoch 41/300\n",
            "9/9 [==============================] - 0s 4ms/step - loss: 17.0418 - mae: 2.8674 - mse: 17.0418 - val_loss: 25.7751 - val_mae: 3.4634 - val_mse: 25.7751\n",
            "Epoch 42/300\n",
            "9/9 [==============================] - 0s 7ms/step - loss: 16.7791 - mae: 2.8321 - mse: 16.7791 - val_loss: 25.5205 - val_mae: 3.4170 - val_mse: 25.5205\n",
            "Epoch 43/300\n",
            "9/9 [==============================] - 0s 5ms/step - loss: 16.5280 - mae: 2.8021 - mse: 16.5280 - val_loss: 24.9181 - val_mae: 3.3648 - val_mse: 24.9181\n",
            "Epoch 44/300\n",
            "9/9 [==============================] - 0s 5ms/step - loss: 16.3245 - mae: 2.7699 - mse: 16.3245 - val_loss: 24.5634 - val_mae: 3.3308 - val_mse: 24.5634\n",
            "Epoch 45/300\n",
            "9/9 [==============================] - 0s 7ms/step - loss: 16.1278 - mae: 2.7571 - mse: 16.1278 - val_loss: 24.1038 - val_mae: 3.3466 - val_mse: 24.1038\n",
            "Epoch 46/300\n",
            "9/9 [==============================] - 0s 6ms/step - loss: 15.8837 - mae: 2.7507 - mse: 15.8837 - val_loss: 24.0636 - val_mae: 3.3308 - val_mse: 24.0636\n",
            "Epoch 47/300\n",
            "9/9 [==============================] - 0s 4ms/step - loss: 15.7159 - mae: 2.7290 - mse: 15.7159 - val_loss: 23.5980 - val_mae: 3.2848 - val_mse: 23.5980\n",
            "Epoch 48/300\n",
            "9/9 [==============================] - 0s 4ms/step - loss: 15.4909 - mae: 2.6992 - mse: 15.4909 - val_loss: 23.4053 - val_mae: 3.2483 - val_mse: 23.4053\n",
            "Epoch 49/300\n",
            "9/9 [==============================] - 0s 6ms/step - loss: 15.3215 - mae: 2.6794 - mse: 15.3215 - val_loss: 23.4173 - val_mae: 3.2345 - val_mse: 23.4173\n",
            "Epoch 50/300\n",
            "9/9 [==============================] - 0s 4ms/step - loss: 15.0977 - mae: 2.6560 - mse: 15.0977 - val_loss: 23.1168 - val_mae: 3.2071 - val_mse: 23.1168\n",
            "Epoch 51/300\n",
            "9/9 [==============================] - 0s 6ms/step - loss: 14.9264 - mae: 2.6403 - mse: 14.9264 - val_loss: 22.4320 - val_mae: 3.1674 - val_mse: 22.4320\n",
            "Epoch 52/300\n",
            "9/9 [==============================] - 0s 5ms/step - loss: 14.7280 - mae: 2.6215 - mse: 14.7280 - val_loss: 22.1651 - val_mae: 3.1509 - val_mse: 22.1651\n",
            "Epoch 53/300\n",
            "9/9 [==============================] - 0s 4ms/step - loss: 14.5621 - mae: 2.6027 - mse: 14.5621 - val_loss: 22.1685 - val_mae: 3.1424 - val_mse: 22.1685\n",
            "Epoch 54/300\n",
            "9/9 [==============================] - 0s 5ms/step - loss: 14.4255 - mae: 2.5826 - mse: 14.4255 - val_loss: 22.0706 - val_mae: 3.1212 - val_mse: 22.0706\n",
            "Epoch 55/300\n",
            "9/9 [==============================] - 0s 6ms/step - loss: 14.2509 - mae: 2.5789 - mse: 14.2509 - val_loss: 21.3194 - val_mae: 3.1045 - val_mse: 21.3194\n",
            "Epoch 56/300\n",
            "9/9 [==============================] - 0s 5ms/step - loss: 14.1045 - mae: 2.5754 - mse: 14.1045 - val_loss: 21.0723 - val_mae: 3.0903 - val_mse: 21.0723\n",
            "Epoch 57/300\n",
            "9/9 [==============================] - 0s 5ms/step - loss: 13.9541 - mae: 2.5603 - mse: 13.9541 - val_loss: 20.9705 - val_mae: 3.0894 - val_mse: 20.9705\n",
            "Epoch 58/300\n",
            "9/9 [==============================] - 0s 6ms/step - loss: 13.9634 - mae: 2.5445 - mse: 13.9634 - val_loss: 21.2268 - val_mae: 3.0592 - val_mse: 21.2268\n",
            "Epoch 59/300\n",
            "9/9 [==============================] - 0s 5ms/step - loss: 13.6424 - mae: 2.5199 - mse: 13.6424 - val_loss: 20.6622 - val_mae: 3.0557 - val_mse: 20.6622\n",
            "Epoch 60/300\n",
            "9/9 [==============================] - 0s 6ms/step - loss: 13.5497 - mae: 2.5169 - mse: 13.5497 - val_loss: 20.3679 - val_mae: 3.0711 - val_mse: 20.3679\n",
            "Epoch 61/300\n",
            "9/9 [==============================] - 0s 7ms/step - loss: 13.4303 - mae: 2.5013 - mse: 13.4303 - val_loss: 20.0999 - val_mae: 3.0262 - val_mse: 20.0999\n",
            "Epoch 62/300\n",
            "9/9 [==============================] - 0s 5ms/step - loss: 13.3131 - mae: 2.4771 - mse: 13.3131 - val_loss: 20.1179 - val_mae: 3.0023 - val_mse: 20.1179\n",
            "Epoch 63/300\n",
            "9/9 [==============================] - 0s 6ms/step - loss: 13.2759 - mae: 2.4711 - mse: 13.2759 - val_loss: 19.7059 - val_mae: 2.9995 - val_mse: 19.7059\n",
            "Epoch 64/300\n",
            "9/9 [==============================] - 0s 7ms/step - loss: 13.1433 - mae: 2.4628 - mse: 13.1433 - val_loss: 19.5005 - val_mae: 3.0221 - val_mse: 19.5005\n",
            "Epoch 65/300\n",
            "9/9 [==============================] - 0s 5ms/step - loss: 12.9536 - mae: 2.4582 - mse: 12.9536 - val_loss: 19.5589 - val_mae: 2.9827 - val_mse: 19.5589\n",
            "Epoch 66/300\n",
            "9/9 [==============================] - 0s 6ms/step - loss: 12.8790 - mae: 2.4329 - mse: 12.8790 - val_loss: 19.6808 - val_mae: 2.9568 - val_mse: 19.6808\n",
            "Epoch 67/300\n",
            "9/9 [==============================] - 0s 8ms/step - loss: 12.7407 - mae: 2.4218 - mse: 12.7407 - val_loss: 19.5774 - val_mae: 2.9655 - val_mse: 19.5774\n",
            "Epoch 68/300\n",
            "9/9 [==============================] - 0s 5ms/step - loss: 12.6529 - mae: 2.4101 - mse: 12.6529 - val_loss: 19.5542 - val_mae: 2.9877 - val_mse: 19.5542\n",
            "Epoch 69/300\n",
            "9/9 [==============================] - 0s 4ms/step - loss: 12.5113 - mae: 2.4011 - mse: 12.5113 - val_loss: 19.0403 - val_mae: 2.9467 - val_mse: 19.0403\n",
            "Epoch 70/300\n",
            "9/9 [==============================] - 0s 4ms/step - loss: 12.5575 - mae: 2.4115 - mse: 12.5575 - val_loss: 18.6039 - val_mae: 2.9303 - val_mse: 18.6039\n",
            "Epoch 71/300\n",
            "9/9 [==============================] - 0s 7ms/step - loss: 12.3564 - mae: 2.3960 - mse: 12.3564 - val_loss: 18.8450 - val_mae: 2.9176 - val_mse: 18.8450\n",
            "Epoch 72/300\n",
            "9/9 [==============================] - 0s 7ms/step - loss: 12.3650 - mae: 2.3787 - mse: 12.3650 - val_loss: 19.1711 - val_mae: 2.9275 - val_mse: 19.1711\n",
            "Epoch 73/300\n",
            "9/9 [==============================] - 0s 7ms/step - loss: 12.3434 - mae: 2.3746 - mse: 12.3434 - val_loss: 18.8586 - val_mae: 2.9462 - val_mse: 18.8586\n",
            "Epoch 74/300\n",
            "9/9 [==============================] - 0s 5ms/step - loss: 12.1944 - mae: 2.3688 - mse: 12.1944 - val_loss: 18.6520 - val_mae: 2.8976 - val_mse: 18.6520\n",
            "Epoch 75/300\n",
            "9/9 [==============================] - 0s 7ms/step - loss: 12.0764 - mae: 2.3534 - mse: 12.0764 - val_loss: 18.8020 - val_mae: 2.9172 - val_mse: 18.8020\n",
            "Epoch 76/300\n",
            "9/9 [==============================] - 0s 7ms/step - loss: 11.9827 - mae: 2.3450 - mse: 11.9827 - val_loss: 18.4658 - val_mae: 2.8901 - val_mse: 18.4658\n",
            "Epoch 77/300\n",
            "9/9 [==============================] - 0s 6ms/step - loss: 12.0015 - mae: 2.3595 - mse: 12.0015 - val_loss: 17.9747 - val_mae: 2.8910 - val_mse: 17.9747\n",
            "Epoch 78/300\n",
            "9/9 [==============================] - 0s 5ms/step - loss: 11.8330 - mae: 2.3527 - mse: 11.8330 - val_loss: 18.0799 - val_mae: 2.8756 - val_mse: 18.0799\n",
            "Epoch 79/300\n",
            "9/9 [==============================] - 0s 5ms/step - loss: 11.7363 - mae: 2.3290 - mse: 11.7363 - val_loss: 18.2345 - val_mae: 2.8783 - val_mse: 18.2345\n",
            "Epoch 80/300\n",
            "9/9 [==============================] - 0s 7ms/step - loss: 11.6689 - mae: 2.3144 - mse: 11.6689 - val_loss: 18.0999 - val_mae: 2.8605 - val_mse: 18.0999\n",
            "Epoch 81/300\n",
            "9/9 [==============================] - 0s 5ms/step - loss: 11.6457 - mae: 2.3114 - mse: 11.6457 - val_loss: 18.0197 - val_mae: 2.8439 - val_mse: 18.0197\n",
            "Epoch 82/300\n",
            "9/9 [==============================] - 0s 7ms/step - loss: 11.5441 - mae: 2.3031 - mse: 11.5441 - val_loss: 17.9983 - val_mae: 2.8544 - val_mse: 17.9983\n",
            "Epoch 83/300\n",
            "9/9 [==============================] - 0s 6ms/step - loss: 11.4881 - mae: 2.3038 - mse: 11.4881 - val_loss: 17.6726 - val_mae: 2.8481 - val_mse: 17.6726\n",
            "Epoch 84/300\n",
            "9/9 [==============================] - 0s 4ms/step - loss: 11.4619 - mae: 2.3057 - mse: 11.4619 - val_loss: 17.6044 - val_mae: 2.8574 - val_mse: 17.6044\n",
            "Epoch 85/300\n",
            "9/9 [==============================] - 0s 6ms/step - loss: 11.3754 - mae: 2.2949 - mse: 11.3754 - val_loss: 17.6321 - val_mae: 2.8442 - val_mse: 17.6321\n",
            "Epoch 86/300\n",
            "9/9 [==============================] - 0s 6ms/step - loss: 11.2899 - mae: 2.2883 - mse: 11.2899 - val_loss: 17.1576 - val_mae: 2.7989 - val_mse: 17.1576\n",
            "Epoch 87/300\n",
            "9/9 [==============================] - 0s 7ms/step - loss: 11.2830 - mae: 2.2840 - mse: 11.2830 - val_loss: 17.5737 - val_mae: 2.8200 - val_mse: 17.5737\n",
            "Epoch 88/300\n",
            "9/9 [==============================] - 0s 5ms/step - loss: 11.2077 - mae: 2.2712 - mse: 11.2077 - val_loss: 17.4295 - val_mae: 2.8115 - val_mse: 17.4295\n",
            "Epoch 89/300\n",
            "9/9 [==============================] - 0s 7ms/step - loss: 11.1784 - mae: 2.2615 - mse: 11.1784 - val_loss: 17.8072 - val_mae: 2.8508 - val_mse: 17.8072\n",
            "Epoch 90/300\n",
            "9/9 [==============================] - 0s 6ms/step - loss: 11.1816 - mae: 2.2627 - mse: 11.1816 - val_loss: 17.1776 - val_mae: 2.8166 - val_mse: 17.1776\n",
            "Epoch 91/300\n",
            "9/9 [==============================] - 0s 5ms/step - loss: 11.0875 - mae: 2.2606 - mse: 11.0875 - val_loss: 17.2496 - val_mae: 2.8043 - val_mse: 17.2496\n",
            "Epoch 92/300\n",
            "9/9 [==============================] - 0s 4ms/step - loss: 10.9602 - mae: 2.2491 - mse: 10.9602 - val_loss: 17.0568 - val_mae: 2.8188 - val_mse: 17.0568\n",
            "Epoch 93/300\n",
            "9/9 [==============================] - 0s 4ms/step - loss: 11.0162 - mae: 2.2743 - mse: 11.0162 - val_loss: 16.6482 - val_mae: 2.7944 - val_mse: 16.6482\n",
            "Epoch 94/300\n",
            "9/9 [==============================] - 0s 5ms/step - loss: 10.9030 - mae: 2.2525 - mse: 10.9030 - val_loss: 17.0099 - val_mae: 2.8031 - val_mse: 17.0099\n",
            "Epoch 95/300\n",
            "9/9 [==============================] - 0s 6ms/step - loss: 10.8377 - mae: 2.2371 - mse: 10.8377 - val_loss: 16.7404 - val_mae: 2.7790 - val_mse: 16.7404\n",
            "Epoch 96/300\n",
            "9/9 [==============================] - 0s 5ms/step - loss: 10.7864 - mae: 2.2345 - mse: 10.7864 - val_loss: 16.7199 - val_mae: 2.7697 - val_mse: 16.7199\n",
            "Epoch 97/300\n",
            "9/9 [==============================] - 0s 4ms/step - loss: 10.7290 - mae: 2.2190 - mse: 10.7290 - val_loss: 16.9732 - val_mae: 2.7935 - val_mse: 16.9732\n",
            "Epoch 98/300\n",
            "9/9 [==============================] - 0s 5ms/step - loss: 10.6811 - mae: 2.2186 - mse: 10.6811 - val_loss: 16.7911 - val_mae: 2.7886 - val_mse: 16.7911\n",
            "Epoch 99/300\n",
            "9/9 [==============================] - 0s 6ms/step - loss: 10.6353 - mae: 2.2217 - mse: 10.6353 - val_loss: 16.4690 - val_mae: 2.7825 - val_mse: 16.4690\n",
            "Epoch 100/300\n",
            "9/9 [==============================] - 0s 7ms/step - loss: 10.6257 - mae: 2.2166 - mse: 10.6257 - val_loss: 16.4609 - val_mae: 2.7682 - val_mse: 16.4609\n",
            "Epoch 101/300\n",
            "9/9 [==============================] - 0s 5ms/step - loss: 10.6139 - mae: 2.2071 - mse: 10.6139 - val_loss: 16.3787 - val_mae: 2.7468 - val_mse: 16.3787\n",
            "Epoch 102/300\n",
            "9/9 [==============================] - 0s 5ms/step - loss: 10.5568 - mae: 2.2125 - mse: 10.5568 - val_loss: 16.2962 - val_mae: 2.7613 - val_mse: 16.2962\n",
            "Epoch 103/300\n",
            "9/9 [==============================] - 0s 4ms/step - loss: 10.4598 - mae: 2.1988 - mse: 10.4598 - val_loss: 16.6939 - val_mae: 2.7868 - val_mse: 16.6939\n",
            "Epoch 104/300\n",
            "9/9 [==============================] - 0s 4ms/step - loss: 10.4911 - mae: 2.1900 - mse: 10.4911 - val_loss: 16.8212 - val_mae: 2.7905 - val_mse: 16.8212\n",
            "Epoch 105/300\n",
            "9/9 [==============================] - 0s 6ms/step - loss: 10.3808 - mae: 2.1913 - mse: 10.3808 - val_loss: 16.1538 - val_mae: 2.7512 - val_mse: 16.1538\n",
            "Epoch 106/300\n",
            "9/9 [==============================] - 0s 4ms/step - loss: 10.4151 - mae: 2.2030 - mse: 10.4151 - val_loss: 15.9692 - val_mae: 2.7303 - val_mse: 15.9692\n",
            "Epoch 107/300\n",
            "9/9 [==============================] - 0s 7ms/step - loss: 10.4228 - mae: 2.1886 - mse: 10.4228 - val_loss: 16.5412 - val_mae: 2.7819 - val_mse: 16.5412\n",
            "Epoch 108/300\n",
            "9/9 [==============================] - 0s 5ms/step - loss: 10.2469 - mae: 2.1794 - mse: 10.2469 - val_loss: 16.1087 - val_mae: 2.7529 - val_mse: 16.1087\n",
            "Epoch 109/300\n",
            "9/9 [==============================] - 0s 7ms/step - loss: 10.3084 - mae: 2.2017 - mse: 10.3084 - val_loss: 15.7015 - val_mae: 2.7182 - val_mse: 15.7015\n",
            "Epoch 110/300\n",
            "9/9 [==============================] - 0s 5ms/step - loss: 10.1382 - mae: 2.1697 - mse: 10.1382 - val_loss: 16.3069 - val_mae: 2.7686 - val_mse: 16.3069\n",
            "Epoch 111/300\n",
            "9/9 [==============================] - 0s 7ms/step - loss: 10.1480 - mae: 2.1610 - mse: 10.1480 - val_loss: 16.3602 - val_mae: 2.7763 - val_mse: 16.3602\n",
            "Epoch 112/300\n",
            "9/9 [==============================] - 0s 4ms/step - loss: 10.1359 - mae: 2.1558 - mse: 10.1359 - val_loss: 16.2041 - val_mae: 2.7537 - val_mse: 16.2041\n",
            "Epoch 113/300\n",
            "9/9 [==============================] - 0s 4ms/step - loss: 10.0626 - mae: 2.1526 - mse: 10.0626 - val_loss: 15.8574 - val_mae: 2.7151 - val_mse: 15.8574\n",
            "Epoch 114/300\n",
            "9/9 [==============================] - 0s 5ms/step - loss: 10.1330 - mae: 2.1690 - mse: 10.1330 - val_loss: 15.4913 - val_mae: 2.7066 - val_mse: 15.4913\n",
            "Epoch 115/300\n",
            "9/9 [==============================] - 0s 5ms/step - loss: 10.0056 - mae: 2.1586 - mse: 10.0056 - val_loss: 15.6273 - val_mae: 2.7238 - val_mse: 15.6273\n",
            "Epoch 116/300\n",
            "9/9 [==============================] - 0s 5ms/step - loss: 9.9141 - mae: 2.1369 - mse: 9.9141 - val_loss: 15.8268 - val_mae: 2.7251 - val_mse: 15.8268\n",
            "Epoch 117/300\n",
            "9/9 [==============================] - 0s 5ms/step - loss: 10.0192 - mae: 2.1326 - mse: 10.0192 - val_loss: 16.0763 - val_mae: 2.7373 - val_mse: 16.0763\n",
            "Epoch 118/300\n",
            "9/9 [==============================] - 0s 5ms/step - loss: 9.9290 - mae: 2.1336 - mse: 9.9290 - val_loss: 15.7300 - val_mae: 2.7183 - val_mse: 15.7300\n",
            "Epoch 119/300\n",
            "9/9 [==============================] - 0s 4ms/step - loss: 9.8241 - mae: 2.1314 - mse: 9.8241 - val_loss: 15.6016 - val_mae: 2.7199 - val_mse: 15.6016\n",
            "Epoch 120/300\n",
            "9/9 [==============================] - 0s 6ms/step - loss: 9.8678 - mae: 2.1340 - mse: 9.8678 - val_loss: 15.9061 - val_mae: 2.7440 - val_mse: 15.9061\n",
            "Epoch 121/300\n",
            "9/9 [==============================] - 0s 4ms/step - loss: 9.7513 - mae: 2.1119 - mse: 9.7513 - val_loss: 15.5398 - val_mae: 2.7025 - val_mse: 15.5398\n",
            "Epoch 122/300\n",
            "9/9 [==============================] - 0s 4ms/step - loss: 9.8503 - mae: 2.1481 - mse: 9.8503 - val_loss: 15.2242 - val_mae: 2.6933 - val_mse: 15.2242\n",
            "Epoch 123/300\n",
            "9/9 [==============================] - 0s 4ms/step - loss: 9.7139 - mae: 2.1295 - mse: 9.7139 - val_loss: 15.4587 - val_mae: 2.7007 - val_mse: 15.4587\n",
            "Epoch 124/300\n",
            "9/9 [==============================] - 0s 5ms/step - loss: 9.7319 - mae: 2.1111 - mse: 9.7319 - val_loss: 15.8296 - val_mae: 2.7227 - val_mse: 15.8296\n",
            "Epoch 125/300\n",
            "9/9 [==============================] - 0s 4ms/step - loss: 9.6763 - mae: 2.1074 - mse: 9.6763 - val_loss: 15.4142 - val_mae: 2.6938 - val_mse: 15.4142\n",
            "Epoch 126/300\n",
            "9/9 [==============================] - 0s 7ms/step - loss: 9.6187 - mae: 2.1131 - mse: 9.6187 - val_loss: 15.2997 - val_mae: 2.6993 - val_mse: 15.2997\n",
            "Epoch 127/300\n",
            "9/9 [==============================] - 0s 4ms/step - loss: 9.6366 - mae: 2.1140 - mse: 9.6366 - val_loss: 15.6384 - val_mae: 2.7365 - val_mse: 15.6384\n",
            "Epoch 128/300\n",
            "9/9 [==============================] - 0s 5ms/step - loss: 9.6483 - mae: 2.1251 - mse: 9.6483 - val_loss: 15.0146 - val_mae: 2.6894 - val_mse: 15.0146\n",
            "Epoch 129/300\n",
            "9/9 [==============================] - 0s 4ms/step - loss: 9.5853 - mae: 2.1193 - mse: 9.5853 - val_loss: 15.3349 - val_mae: 2.7022 - val_mse: 15.3349\n",
            "Epoch 130/300\n",
            "9/9 [==============================] - 0s 5ms/step - loss: 9.5196 - mae: 2.1003 - mse: 9.5196 - val_loss: 15.0102 - val_mae: 2.6574 - val_mse: 15.0102\n",
            "Epoch 131/300\n",
            "9/9 [==============================] - 0s 6ms/step - loss: 9.4509 - mae: 2.0932 - mse: 9.4509 - val_loss: 15.0237 - val_mae: 2.6769 - val_mse: 15.0237\n",
            "Epoch 132/300\n",
            "9/9 [==============================] - 0s 8ms/step - loss: 9.4437 - mae: 2.1033 - mse: 9.4437 - val_loss: 15.0937 - val_mae: 2.7014 - val_mse: 15.0937\n",
            "Epoch 133/300\n",
            "9/9 [==============================] - 0s 6ms/step - loss: 9.4812 - mae: 2.1101 - mse: 9.4812 - val_loss: 15.0417 - val_mae: 2.6961 - val_mse: 15.0417\n",
            "Epoch 134/300\n",
            "9/9 [==============================] - 0s 7ms/step - loss: 9.3937 - mae: 2.0896 - mse: 9.3937 - val_loss: 15.0742 - val_mae: 2.6680 - val_mse: 15.0742\n",
            "Epoch 135/300\n",
            "9/9 [==============================] - 0s 7ms/step - loss: 9.3477 - mae: 2.0779 - mse: 9.3477 - val_loss: 14.8727 - val_mae: 2.6582 - val_mse: 14.8727\n",
            "Epoch 136/300\n",
            "9/9 [==============================] - 0s 7ms/step - loss: 9.3936 - mae: 2.0926 - mse: 9.3936 - val_loss: 14.8610 - val_mae: 2.6821 - val_mse: 14.8610\n",
            "Epoch 137/300\n",
            "9/9 [==============================] - 0s 5ms/step - loss: 9.3010 - mae: 2.0763 - mse: 9.3010 - val_loss: 15.1907 - val_mae: 2.6797 - val_mse: 15.1907\n",
            "Epoch 138/300\n",
            "9/9 [==============================] - 0s 5ms/step - loss: 9.2757 - mae: 2.0592 - mse: 9.2757 - val_loss: 15.0272 - val_mae: 2.6687 - val_mse: 15.0272\n",
            "Epoch 139/300\n",
            "9/9 [==============================] - 0s 7ms/step - loss: 9.1951 - mae: 2.0619 - mse: 9.1951 - val_loss: 14.9152 - val_mae: 2.6718 - val_mse: 14.9152\n",
            "Epoch 140/300\n",
            "9/9 [==============================] - 0s 5ms/step - loss: 9.1863 - mae: 2.0711 - mse: 9.1863 - val_loss: 14.6571 - val_mae: 2.6706 - val_mse: 14.6571\n",
            "Epoch 141/300\n",
            "9/9 [==============================] - 0s 5ms/step - loss: 9.1885 - mae: 2.0762 - mse: 9.1885 - val_loss: 14.7702 - val_mae: 2.6682 - val_mse: 14.7702\n",
            "Epoch 142/300\n",
            "9/9 [==============================] - 0s 5ms/step - loss: 9.1326 - mae: 2.0559 - mse: 9.1326 - val_loss: 14.6939 - val_mae: 2.6565 - val_mse: 14.6939\n",
            "Epoch 143/300\n",
            "9/9 [==============================] - 0s 7ms/step - loss: 9.0847 - mae: 2.0457 - mse: 9.0847 - val_loss: 14.7199 - val_mae: 2.6450 - val_mse: 14.7199\n",
            "Epoch 144/300\n",
            "9/9 [==============================] - 0s 5ms/step - loss: 9.0688 - mae: 2.0443 - mse: 9.0688 - val_loss: 14.5839 - val_mae: 2.6484 - val_mse: 14.5839\n",
            "Epoch 145/300\n",
            "9/9 [==============================] - 0s 5ms/step - loss: 9.0232 - mae: 2.0507 - mse: 9.0232 - val_loss: 14.5752 - val_mae: 2.6497 - val_mse: 14.5752\n",
            "Epoch 146/300\n",
            "9/9 [==============================] - 0s 5ms/step - loss: 8.9840 - mae: 2.0520 - mse: 8.9840 - val_loss: 14.6916 - val_mae: 2.6860 - val_mse: 14.6916\n",
            "Epoch 147/300\n",
            "9/9 [==============================] - 0s 7ms/step - loss: 9.0098 - mae: 2.0549 - mse: 9.0098 - val_loss: 14.2803 - val_mae: 2.6306 - val_mse: 14.2803\n",
            "Epoch 148/300\n",
            "9/9 [==============================] - 0s 7ms/step - loss: 8.9710 - mae: 2.0548 - mse: 8.9710 - val_loss: 14.1600 - val_mae: 2.6218 - val_mse: 14.1600\n",
            "Epoch 149/300\n",
            "9/9 [==============================] - 0s 4ms/step - loss: 8.8937 - mae: 2.0413 - mse: 8.8937 - val_loss: 14.7394 - val_mae: 2.6634 - val_mse: 14.7394\n",
            "Epoch 150/300\n",
            "9/9 [==============================] - 0s 5ms/step - loss: 8.8947 - mae: 2.0357 - mse: 8.8947 - val_loss: 14.7491 - val_mae: 2.6608 - val_mse: 14.7491\n",
            "Epoch 151/300\n",
            "9/9 [==============================] - 0s 5ms/step - loss: 8.8218 - mae: 2.0280 - mse: 8.8218 - val_loss: 14.5120 - val_mae: 2.6376 - val_mse: 14.5120\n",
            "Epoch 152/300\n",
            "9/9 [==============================] - 0s 7ms/step - loss: 8.8406 - mae: 2.0274 - mse: 8.8406 - val_loss: 14.2456 - val_mae: 2.6206 - val_mse: 14.2456\n",
            "Epoch 153/300\n",
            "9/9 [==============================] - 0s 5ms/step - loss: 8.8157 - mae: 2.0292 - mse: 8.8157 - val_loss: 14.3238 - val_mae: 2.6145 - val_mse: 14.3238\n",
            "Epoch 154/300\n",
            "9/9 [==============================] - 0s 5ms/step - loss: 8.8090 - mae: 2.0223 - mse: 8.8090 - val_loss: 14.8011 - val_mae: 2.6686 - val_mse: 14.8011\n",
            "Epoch 155/300\n",
            "9/9 [==============================] - 0s 5ms/step - loss: 8.7435 - mae: 2.0266 - mse: 8.7435 - val_loss: 14.2614 - val_mae: 2.6265 - val_mse: 14.2614\n",
            "Epoch 156/300\n",
            "9/9 [==============================] - 0s 5ms/step - loss: 8.7198 - mae: 2.0257 - mse: 8.7198 - val_loss: 14.5064 - val_mae: 2.6504 - val_mse: 14.5064\n",
            "Epoch 157/300\n",
            "9/9 [==============================] - 0s 5ms/step - loss: 8.6889 - mae: 2.0091 - mse: 8.6889 - val_loss: 14.4037 - val_mae: 2.6157 - val_mse: 14.4037\n",
            "Epoch 158/300\n",
            "9/9 [==============================] - 0s 7ms/step - loss: 8.6783 - mae: 2.0089 - mse: 8.6783 - val_loss: 14.1584 - val_mae: 2.6157 - val_mse: 14.1584\n",
            "Epoch 159/300\n",
            "9/9 [==============================] - 0s 5ms/step - loss: 8.6150 - mae: 2.0120 - mse: 8.6150 - val_loss: 14.5833 - val_mae: 2.6486 - val_mse: 14.5833\n",
            "Epoch 160/300\n",
            "9/9 [==============================] - 0s 5ms/step - loss: 8.5988 - mae: 1.9987 - mse: 8.5988 - val_loss: 14.0903 - val_mae: 2.6066 - val_mse: 14.0903\n",
            "Epoch 161/300\n",
            "9/9 [==============================] - 0s 5ms/step - loss: 8.5552 - mae: 1.9998 - mse: 8.5552 - val_loss: 14.0664 - val_mae: 2.6035 - val_mse: 14.0664\n",
            "Epoch 162/300\n",
            "9/9 [==============================] - 0s 5ms/step - loss: 8.4741 - mae: 1.9913 - mse: 8.4741 - val_loss: 14.4209 - val_mae: 2.6176 - val_mse: 14.4209\n",
            "Epoch 163/300\n",
            "9/9 [==============================] - 0s 5ms/step - loss: 8.6235 - mae: 1.9917 - mse: 8.6235 - val_loss: 14.5557 - val_mae: 2.6223 - val_mse: 14.5557\n",
            "Epoch 164/300\n",
            "9/9 [==============================] - 0s 5ms/step - loss: 8.5415 - mae: 2.0177 - mse: 8.5415 - val_loss: 13.7838 - val_mae: 2.6138 - val_mse: 13.7838\n",
            "Epoch 165/300\n",
            "9/9 [==============================] - 0s 5ms/step - loss: 8.4833 - mae: 2.0173 - mse: 8.4833 - val_loss: 13.8244 - val_mae: 2.6012 - val_mse: 13.8244\n",
            "Epoch 166/300\n",
            "9/9 [==============================] - 0s 5ms/step - loss: 8.4002 - mae: 1.9868 - mse: 8.4002 - val_loss: 14.0882 - val_mae: 2.5999 - val_mse: 14.0882\n",
            "Epoch 167/300\n",
            "9/9 [==============================] - 0s 5ms/step - loss: 8.4207 - mae: 1.9821 - mse: 8.4207 - val_loss: 14.1527 - val_mae: 2.6135 - val_mse: 14.1527\n",
            "Epoch 168/300\n",
            "9/9 [==============================] - 0s 5ms/step - loss: 8.3422 - mae: 1.9769 - mse: 8.3422 - val_loss: 13.8755 - val_mae: 2.5953 - val_mse: 13.8755\n",
            "Epoch 169/300\n",
            "9/9 [==============================] - 0s 7ms/step - loss: 8.3221 - mae: 1.9851 - mse: 8.3221 - val_loss: 13.6644 - val_mae: 2.5934 - val_mse: 13.6644\n",
            "Epoch 170/300\n",
            "9/9 [==============================] - 0s 5ms/step - loss: 8.3546 - mae: 1.9801 - mse: 8.3546 - val_loss: 13.7903 - val_mae: 2.5804 - val_mse: 13.7903\n",
            "Epoch 171/300\n",
            "9/9 [==============================] - 0s 8ms/step - loss: 8.2531 - mae: 1.9608 - mse: 8.2531 - val_loss: 13.8979 - val_mae: 2.5989 - val_mse: 13.8979\n",
            "Epoch 172/300\n",
            "9/9 [==============================] - 0s 9ms/step - loss: 8.2439 - mae: 1.9662 - mse: 8.2439 - val_loss: 13.7532 - val_mae: 2.5912 - val_mse: 13.7532\n",
            "Epoch 173/300\n",
            "9/9 [==============================] - 0s 6ms/step - loss: 8.1924 - mae: 1.9658 - mse: 8.1924 - val_loss: 13.4574 - val_mae: 2.5731 - val_mse: 13.4574\n",
            "Epoch 174/300\n",
            "9/9 [==============================] - 0s 4ms/step - loss: 8.1896 - mae: 1.9712 - mse: 8.1896 - val_loss: 13.5438 - val_mae: 2.5845 - val_mse: 13.5438\n",
            "Epoch 175/300\n",
            "9/9 [==============================] - 0s 5ms/step - loss: 8.2168 - mae: 1.9670 - mse: 8.2168 - val_loss: 13.8185 - val_mae: 2.5805 - val_mse: 13.8185\n",
            "Epoch 176/300\n",
            "9/9 [==============================] - 0s 5ms/step - loss: 8.1279 - mae: 1.9504 - mse: 8.1279 - val_loss: 13.6903 - val_mae: 2.5651 - val_mse: 13.6903\n",
            "Epoch 177/300\n",
            "9/9 [==============================] - 0s 5ms/step - loss: 8.1478 - mae: 1.9543 - mse: 8.1478 - val_loss: 13.8148 - val_mae: 2.5758 - val_mse: 13.8148\n",
            "Epoch 178/300\n",
            "9/9 [==============================] - 0s 6ms/step - loss: 8.0958 - mae: 1.9710 - mse: 8.0958 - val_loss: 13.5889 - val_mae: 2.5995 - val_mse: 13.5889\n",
            "Epoch 179/300\n",
            "9/9 [==============================] - 0s 6ms/step - loss: 8.1202 - mae: 1.9829 - mse: 8.1202 - val_loss: 13.3302 - val_mae: 2.5708 - val_mse: 13.3302\n",
            "Epoch 180/300\n",
            "9/9 [==============================] - 0s 5ms/step - loss: 8.0725 - mae: 1.9654 - mse: 8.0725 - val_loss: 13.5225 - val_mae: 2.5628 - val_mse: 13.5225\n",
            "Epoch 181/300\n",
            "9/9 [==============================] - 0s 5ms/step - loss: 8.0035 - mae: 1.9555 - mse: 8.0035 - val_loss: 13.4908 - val_mae: 2.5722 - val_mse: 13.4908\n",
            "Epoch 182/300\n",
            "9/9 [==============================] - 0s 5ms/step - loss: 7.9611 - mae: 1.9533 - mse: 7.9611 - val_loss: 13.4532 - val_mae: 2.5619 - val_mse: 13.4532\n",
            "Epoch 183/300\n",
            "9/9 [==============================] - 0s 5ms/step - loss: 8.0429 - mae: 1.9692 - mse: 8.0429 - val_loss: 13.3700 - val_mae: 2.5762 - val_mse: 13.3700\n",
            "Epoch 184/300\n",
            "9/9 [==============================] - 0s 5ms/step - loss: 8.0514 - mae: 1.9657 - mse: 8.0514 - val_loss: 13.7209 - val_mae: 2.5669 - val_mse: 13.7209\n",
            "Epoch 185/300\n",
            "9/9 [==============================] - 0s 5ms/step - loss: 7.9502 - mae: 1.9407 - mse: 7.9502 - val_loss: 13.8458 - val_mae: 2.5903 - val_mse: 13.8458\n",
            "Epoch 186/300\n",
            "9/9 [==============================] - 0s 5ms/step - loss: 7.8757 - mae: 1.9465 - mse: 7.8757 - val_loss: 13.5814 - val_mae: 2.5817 - val_mse: 13.5814\n",
            "Epoch 187/300\n",
            "9/9 [==============================] - 0s 6ms/step - loss: 7.9339 - mae: 1.9593 - mse: 7.9339 - val_loss: 13.3211 - val_mae: 2.5619 - val_mse: 13.3211\n",
            "Epoch 188/300\n",
            "9/9 [==============================] - 0s 6ms/step - loss: 8.0091 - mae: 1.9536 - mse: 8.0091 - val_loss: 13.8437 - val_mae: 2.5702 - val_mse: 13.8437\n",
            "Epoch 189/300\n",
            "9/9 [==============================] - 0s 5ms/step - loss: 7.9188 - mae: 1.9414 - mse: 7.9188 - val_loss: 13.3543 - val_mae: 2.5689 - val_mse: 13.3543\n",
            "Epoch 190/300\n",
            "9/9 [==============================] - 0s 6ms/step - loss: 7.7869 - mae: 1.9415 - mse: 7.7869 - val_loss: 13.3583 - val_mae: 2.5553 - val_mse: 13.3583\n",
            "Epoch 191/300\n",
            "9/9 [==============================] - 0s 8ms/step - loss: 7.8423 - mae: 1.9513 - mse: 7.8423 - val_loss: 13.3553 - val_mae: 2.5683 - val_mse: 13.3553\n",
            "Epoch 192/300\n",
            "9/9 [==============================] - 0s 8ms/step - loss: 7.7691 - mae: 1.9390 - mse: 7.7691 - val_loss: 13.2854 - val_mae: 2.5416 - val_mse: 13.2854\n",
            "Epoch 193/300\n",
            "9/9 [==============================] - 0s 5ms/step - loss: 7.7137 - mae: 1.9308 - mse: 7.7137 - val_loss: 13.1336 - val_mae: 2.5335 - val_mse: 13.1336\n",
            "Epoch 194/300\n",
            "9/9 [==============================] - 0s 5ms/step - loss: 7.6754 - mae: 1.9145 - mse: 7.6754 - val_loss: 13.4436 - val_mae: 2.5597 - val_mse: 13.4436\n",
            "Epoch 195/300\n",
            "9/9 [==============================] - 0s 5ms/step - loss: 7.6505 - mae: 1.9202 - mse: 7.6505 - val_loss: 13.4765 - val_mae: 2.5713 - val_mse: 13.4765\n",
            "Epoch 196/300\n",
            "9/9 [==============================] - 0s 6ms/step - loss: 7.6517 - mae: 1.9249 - mse: 7.6517 - val_loss: 12.9223 - val_mae: 2.5300 - val_mse: 12.9223\n",
            "Epoch 197/300\n",
            "9/9 [==============================] - 0s 5ms/step - loss: 7.5991 - mae: 1.9253 - mse: 7.5991 - val_loss: 12.9594 - val_mae: 2.5215 - val_mse: 12.9594\n",
            "Epoch 198/300\n",
            "9/9 [==============================] - 0s 5ms/step - loss: 7.5682 - mae: 1.9137 - mse: 7.5682 - val_loss: 13.2757 - val_mae: 2.5393 - val_mse: 13.2757\n",
            "Epoch 199/300\n",
            "9/9 [==============================] - 0s 5ms/step - loss: 7.5435 - mae: 1.9140 - mse: 7.5435 - val_loss: 13.0971 - val_mae: 2.5306 - val_mse: 13.0971\n",
            "Epoch 200/300\n",
            "9/9 [==============================] - 0s 5ms/step - loss: 7.4988 - mae: 1.9002 - mse: 7.4988 - val_loss: 13.0500 - val_mae: 2.5168 - val_mse: 13.0500\n",
            "Epoch 201/300\n",
            "9/9 [==============================] - 0s 5ms/step - loss: 7.4921 - mae: 1.8968 - mse: 7.4921 - val_loss: 13.0398 - val_mae: 2.5223 - val_mse: 13.0398\n",
            "Epoch 202/300\n",
            "9/9 [==============================] - 0s 8ms/step - loss: 7.5180 - mae: 1.9097 - mse: 7.5180 - val_loss: 12.8825 - val_mae: 2.5186 - val_mse: 12.8825\n",
            "Epoch 203/300\n",
            "9/9 [==============================] - 0s 5ms/step - loss: 7.4919 - mae: 1.9059 - mse: 7.4919 - val_loss: 13.1000 - val_mae: 2.5305 - val_mse: 13.1000\n",
            "Epoch 204/300\n",
            "9/9 [==============================] - 0s 7ms/step - loss: 7.4220 - mae: 1.8994 - mse: 7.4220 - val_loss: 12.8985 - val_mae: 2.5278 - val_mse: 12.8985\n",
            "Epoch 205/300\n",
            "9/9 [==============================] - 0s 5ms/step - loss: 7.4182 - mae: 1.8987 - mse: 7.4182 - val_loss: 12.8944 - val_mae: 2.5135 - val_mse: 12.8944\n",
            "Epoch 206/300\n",
            "9/9 [==============================] - 0s 6ms/step - loss: 7.3764 - mae: 1.8910 - mse: 7.3764 - val_loss: 13.0526 - val_mae: 2.5202 - val_mse: 13.0526\n",
            "Epoch 207/300\n",
            "9/9 [==============================] - 0s 6ms/step - loss: 7.4090 - mae: 1.8892 - mse: 7.4090 - val_loss: 13.0760 - val_mae: 2.5178 - val_mse: 13.0760\n",
            "Epoch 208/300\n",
            "9/9 [==============================] - 0s 4ms/step - loss: 7.4328 - mae: 1.9016 - mse: 7.4328 - val_loss: 13.1186 - val_mae: 2.5464 - val_mse: 13.1186\n",
            "Epoch 209/300\n",
            "9/9 [==============================] - 0s 7ms/step - loss: 7.3522 - mae: 1.8962 - mse: 7.3522 - val_loss: 12.6365 - val_mae: 2.5106 - val_mse: 12.6365\n",
            "Epoch 210/300\n",
            "9/9 [==============================] - 0s 5ms/step - loss: 7.3046 - mae: 1.8838 - mse: 7.3046 - val_loss: 12.7475 - val_mae: 2.5052 - val_mse: 12.7475\n",
            "Epoch 211/300\n",
            "9/9 [==============================] - 0s 7ms/step - loss: 7.3006 - mae: 1.8824 - mse: 7.3006 - val_loss: 12.8247 - val_mae: 2.5127 - val_mse: 12.8247\n",
            "Epoch 212/300\n",
            "9/9 [==============================] - 0s 5ms/step - loss: 7.2363 - mae: 1.8775 - mse: 7.2363 - val_loss: 12.8308 - val_mae: 2.5173 - val_mse: 12.8308\n",
            "Epoch 213/300\n",
            "9/9 [==============================] - 0s 4ms/step - loss: 7.2337 - mae: 1.8802 - mse: 7.2337 - val_loss: 12.9903 - val_mae: 2.5330 - val_mse: 12.9903\n",
            "Epoch 214/300\n",
            "9/9 [==============================] - 0s 5ms/step - loss: 7.2310 - mae: 1.8772 - mse: 7.2310 - val_loss: 12.9843 - val_mae: 2.5307 - val_mse: 12.9843\n",
            "Epoch 215/300\n",
            "9/9 [==============================] - 0s 5ms/step - loss: 7.2036 - mae: 1.8733 - mse: 7.2036 - val_loss: 12.9745 - val_mae: 2.5325 - val_mse: 12.9745\n",
            "Epoch 216/300\n",
            "9/9 [==============================] - 0s 5ms/step - loss: 7.2093 - mae: 1.8804 - mse: 7.2093 - val_loss: 12.6029 - val_mae: 2.5082 - val_mse: 12.6029\n",
            "Epoch 217/300\n",
            "9/9 [==============================] - 0s 7ms/step - loss: 7.1615 - mae: 1.8796 - mse: 7.1615 - val_loss: 12.5140 - val_mae: 2.4923 - val_mse: 12.5140\n",
            "Epoch 218/300\n",
            "9/9 [==============================] - 0s 4ms/step - loss: 7.1292 - mae: 1.8588 - mse: 7.1292 - val_loss: 12.8903 - val_mae: 2.5120 - val_mse: 12.8903\n",
            "Epoch 219/300\n",
            "9/9 [==============================] - 0s 4ms/step - loss: 7.1168 - mae: 1.8551 - mse: 7.1168 - val_loss: 12.7810 - val_mae: 2.5084 - val_mse: 12.7810\n",
            "Epoch 220/300\n",
            "9/9 [==============================] - 0s 4ms/step - loss: 7.0494 - mae: 1.8525 - mse: 7.0494 - val_loss: 12.3616 - val_mae: 2.5006 - val_mse: 12.3616\n",
            "Epoch 221/300\n",
            "9/9 [==============================] - 0s 6ms/step - loss: 7.0505 - mae: 1.8576 - mse: 7.0505 - val_loss: 12.4939 - val_mae: 2.4979 - val_mse: 12.4939\n",
            "Epoch 222/300\n",
            "9/9 [==============================] - 0s 7ms/step - loss: 6.9986 - mae: 1.8581 - mse: 6.9986 - val_loss: 12.5516 - val_mae: 2.5138 - val_mse: 12.5516\n",
            "Epoch 223/300\n",
            "9/9 [==============================] - 0s 4ms/step - loss: 7.0239 - mae: 1.8684 - mse: 7.0239 - val_loss: 12.3275 - val_mae: 2.4869 - val_mse: 12.3275\n",
            "Epoch 224/300\n",
            "9/9 [==============================] - 0s 5ms/step - loss: 7.0066 - mae: 1.8625 - mse: 7.0066 - val_loss: 12.7364 - val_mae: 2.5103 - val_mse: 12.7364\n",
            "Epoch 225/300\n",
            "9/9 [==============================] - 0s 7ms/step - loss: 6.9842 - mae: 1.8577 - mse: 6.9842 - val_loss: 12.5737 - val_mae: 2.5058 - val_mse: 12.5737\n",
            "Epoch 226/300\n",
            "9/9 [==============================] - 0s 5ms/step - loss: 6.9169 - mae: 1.8472 - mse: 6.9169 - val_loss: 12.7166 - val_mae: 2.5140 - val_mse: 12.7166\n",
            "Epoch 227/300\n",
            "9/9 [==============================] - 0s 7ms/step - loss: 6.8958 - mae: 1.8451 - mse: 6.8958 - val_loss: 12.5359 - val_mae: 2.4991 - val_mse: 12.5359\n",
            "Epoch 228/300\n",
            "9/9 [==============================] - 0s 5ms/step - loss: 6.8919 - mae: 1.8455 - mse: 6.8919 - val_loss: 12.2865 - val_mae: 2.4864 - val_mse: 12.2865\n",
            "Epoch 229/300\n",
            "9/9 [==============================] - 0s 5ms/step - loss: 6.8989 - mae: 1.8518 - mse: 6.8989 - val_loss: 12.5582 - val_mae: 2.5187 - val_mse: 12.5582\n",
            "Epoch 230/300\n",
            "9/9 [==============================] - 0s 5ms/step - loss: 6.9459 - mae: 1.8541 - mse: 6.9459 - val_loss: 12.5345 - val_mae: 2.4849 - val_mse: 12.5345\n",
            "Epoch 231/300\n",
            "9/9 [==============================] - 0s 5ms/step - loss: 6.8640 - mae: 1.8407 - mse: 6.8640 - val_loss: 12.4657 - val_mae: 2.5034 - val_mse: 12.4657\n",
            "Epoch 232/300\n",
            "9/9 [==============================] - 0s 5ms/step - loss: 6.8025 - mae: 1.8345 - mse: 6.8025 - val_loss: 12.1514 - val_mae: 2.4811 - val_mse: 12.1514\n",
            "Epoch 233/300\n",
            "9/9 [==============================] - 0s 4ms/step - loss: 6.7703 - mae: 1.8338 - mse: 6.7703 - val_loss: 12.5350 - val_mae: 2.4979 - val_mse: 12.5350\n",
            "Epoch 234/300\n",
            "9/9 [==============================] - 0s 7ms/step - loss: 6.8419 - mae: 1.8373 - mse: 6.8419 - val_loss: 12.4034 - val_mae: 2.5050 - val_mse: 12.4034\n",
            "Epoch 235/300\n",
            "9/9 [==============================] - 0s 5ms/step - loss: 6.8171 - mae: 1.8312 - mse: 6.8171 - val_loss: 12.2843 - val_mae: 2.4815 - val_mse: 12.2843\n",
            "Epoch 236/300\n",
            "9/9 [==============================] - 0s 6ms/step - loss: 6.7601 - mae: 1.8414 - mse: 6.7601 - val_loss: 11.8841 - val_mae: 2.4823 - val_mse: 11.8841\n",
            "Epoch 237/300\n",
            "9/9 [==============================] - 0s 7ms/step - loss: 6.7261 - mae: 1.8428 - mse: 6.7261 - val_loss: 12.1212 - val_mae: 2.4819 - val_mse: 12.1212\n",
            "Epoch 238/300\n",
            "9/9 [==============================] - 0s 5ms/step - loss: 6.6540 - mae: 1.8294 - mse: 6.6540 - val_loss: 12.3224 - val_mae: 2.4862 - val_mse: 12.3224\n",
            "Epoch 239/300\n",
            "9/9 [==============================] - 0s 7ms/step - loss: 6.7441 - mae: 1.8189 - mse: 6.7441 - val_loss: 12.5668 - val_mae: 2.4984 - val_mse: 12.5668\n",
            "Epoch 240/300\n",
            "9/9 [==============================] - 0s 5ms/step - loss: 6.6073 - mae: 1.8061 - mse: 6.6073 - val_loss: 12.0507 - val_mae: 2.4879 - val_mse: 12.0507\n",
            "Epoch 241/300\n",
            "9/9 [==============================] - 0s 4ms/step - loss: 6.6226 - mae: 1.8299 - mse: 6.6226 - val_loss: 12.1122 - val_mae: 2.4905 - val_mse: 12.1122\n",
            "Epoch 242/300\n",
            "9/9 [==============================] - 0s 6ms/step - loss: 6.6554 - mae: 1.8137 - mse: 6.6554 - val_loss: 12.2643 - val_mae: 2.4767 - val_mse: 12.2643\n",
            "Epoch 243/300\n",
            "9/9 [==============================] - 0s 7ms/step - loss: 6.5759 - mae: 1.8006 - mse: 6.5759 - val_loss: 12.3788 - val_mae: 2.4938 - val_mse: 12.3788\n",
            "Epoch 244/300\n",
            "9/9 [==============================] - 0s 4ms/step - loss: 6.5568 - mae: 1.8216 - mse: 6.5568 - val_loss: 11.9278 - val_mae: 2.4841 - val_mse: 11.9278\n",
            "Epoch 245/300\n",
            "9/9 [==============================] - 0s 5ms/step - loss: 6.5224 - mae: 1.8012 - mse: 6.5224 - val_loss: 12.1524 - val_mae: 2.4872 - val_mse: 12.1524\n",
            "Epoch 246/300\n",
            "9/9 [==============================] - 0s 6ms/step - loss: 6.5068 - mae: 1.8000 - mse: 6.5068 - val_loss: 12.1568 - val_mae: 2.4901 - val_mse: 12.1568\n",
            "Epoch 247/300\n",
            "9/9 [==============================] - 0s 5ms/step - loss: 6.4750 - mae: 1.7857 - mse: 6.4750 - val_loss: 12.3596 - val_mae: 2.4914 - val_mse: 12.3596\n",
            "Epoch 248/300\n",
            "9/9 [==============================] - 0s 5ms/step - loss: 6.4596 - mae: 1.7851 - mse: 6.4596 - val_loss: 12.1491 - val_mae: 2.4951 - val_mse: 12.1491\n",
            "Epoch 249/300\n",
            "9/9 [==============================] - 0s 5ms/step - loss: 6.4734 - mae: 1.8057 - mse: 6.4734 - val_loss: 11.7727 - val_mae: 2.4609 - val_mse: 11.7727\n",
            "Epoch 250/300\n",
            "9/9 [==============================] - 0s 5ms/step - loss: 6.4309 - mae: 1.7988 - mse: 6.4309 - val_loss: 11.9220 - val_mae: 2.4805 - val_mse: 11.9220\n",
            "Epoch 251/300\n",
            "9/9 [==============================] - 0s 4ms/step - loss: 6.4186 - mae: 1.7885 - mse: 6.4186 - val_loss: 12.0048 - val_mae: 2.4699 - val_mse: 12.0048\n",
            "Epoch 252/300\n",
            "9/9 [==============================] - 0s 5ms/step - loss: 6.3462 - mae: 1.7768 - mse: 6.3462 - val_loss: 11.7848 - val_mae: 2.4667 - val_mse: 11.7848\n",
            "Epoch 253/300\n",
            "9/9 [==============================] - 0s 6ms/step - loss: 6.3374 - mae: 1.7854 - mse: 6.3374 - val_loss: 11.7993 - val_mae: 2.4849 - val_mse: 11.7993\n",
            "Epoch 254/300\n",
            "9/9 [==============================] - 0s 5ms/step - loss: 6.3700 - mae: 1.7975 - mse: 6.3700 - val_loss: 11.8442 - val_mae: 2.4774 - val_mse: 11.8442\n",
            "Epoch 255/300\n",
            "9/9 [==============================] - 0s 4ms/step - loss: 6.3224 - mae: 1.7728 - mse: 6.3224 - val_loss: 12.2515 - val_mae: 2.4805 - val_mse: 12.2515\n",
            "Epoch 256/300\n",
            "9/9 [==============================] - 0s 7ms/step - loss: 6.2746 - mae: 1.7668 - mse: 6.2746 - val_loss: 11.9289 - val_mae: 2.4854 - val_mse: 11.9289\n",
            "Epoch 257/300\n",
            "9/9 [==============================] - 0s 4ms/step - loss: 6.2302 - mae: 1.7740 - mse: 6.2302 - val_loss: 11.9653 - val_mae: 2.5023 - val_mse: 11.9653\n",
            "Epoch 258/300\n",
            "9/9 [==============================] - 0s 5ms/step - loss: 6.2865 - mae: 1.7873 - mse: 6.2865 - val_loss: 12.0488 - val_mae: 2.4933 - val_mse: 12.0488\n",
            "Epoch 259/300\n",
            "9/9 [==============================] - 0s 6ms/step - loss: 6.2412 - mae: 1.7738 - mse: 6.2412 - val_loss: 11.9478 - val_mae: 2.4807 - val_mse: 11.9478\n",
            "Epoch 260/300\n",
            "9/9 [==============================] - 0s 5ms/step - loss: 6.1967 - mae: 1.7718 - mse: 6.1967 - val_loss: 11.8977 - val_mae: 2.4744 - val_mse: 11.8977\n",
            "Epoch 261/300\n",
            "9/9 [==============================] - 0s 5ms/step - loss: 6.1582 - mae: 1.7607 - mse: 6.1582 - val_loss: 11.8637 - val_mae: 2.4629 - val_mse: 11.8637\n",
            "Epoch 262/300\n",
            "9/9 [==============================] - 0s 7ms/step - loss: 6.1604 - mae: 1.7535 - mse: 6.1604 - val_loss: 11.6776 - val_mae: 2.4586 - val_mse: 11.6776\n",
            "Epoch 263/300\n",
            "9/9 [==============================] - 0s 5ms/step - loss: 6.0950 - mae: 1.7509 - mse: 6.0950 - val_loss: 11.7604 - val_mae: 2.4790 - val_mse: 11.7604\n",
            "Epoch 264/300\n",
            "9/9 [==============================] - 0s 5ms/step - loss: 6.1854 - mae: 1.7626 - mse: 6.1854 - val_loss: 12.1629 - val_mae: 2.4953 - val_mse: 12.1629\n",
            "Epoch 265/300\n",
            "9/9 [==============================] - 0s 6ms/step - loss: 6.1712 - mae: 1.7800 - mse: 6.1712 - val_loss: 11.5178 - val_mae: 2.4668 - val_mse: 11.5178\n",
            "Epoch 266/300\n",
            "9/9 [==============================] - 0s 5ms/step - loss: 6.0721 - mae: 1.7561 - mse: 6.0721 - val_loss: 11.6644 - val_mae: 2.4700 - val_mse: 11.6644\n",
            "Epoch 267/300\n",
            "9/9 [==============================] - 0s 4ms/step - loss: 6.0083 - mae: 1.7402 - mse: 6.0083 - val_loss: 11.6441 - val_mae: 2.4649 - val_mse: 11.6441\n",
            "Epoch 268/300\n",
            "9/9 [==============================] - 0s 6ms/step - loss: 6.0139 - mae: 1.7388 - mse: 6.0139 - val_loss: 11.4889 - val_mae: 2.4419 - val_mse: 11.4889\n",
            "Epoch 269/300\n",
            "9/9 [==============================] - 0s 5ms/step - loss: 6.0076 - mae: 1.7443 - mse: 6.0076 - val_loss: 11.4956 - val_mae: 2.4577 - val_mse: 11.4956\n",
            "Epoch 270/300\n",
            "9/9 [==============================] - 0s 7ms/step - loss: 5.9718 - mae: 1.7445 - mse: 5.9718 - val_loss: 11.5797 - val_mae: 2.4615 - val_mse: 11.5797\n",
            "Epoch 271/300\n",
            "9/9 [==============================] - 0s 7ms/step - loss: 5.9603 - mae: 1.7267 - mse: 5.9603 - val_loss: 11.7736 - val_mae: 2.4693 - val_mse: 11.7736\n",
            "Epoch 272/300\n",
            "9/9 [==============================] - 0s 5ms/step - loss: 5.9546 - mae: 1.7434 - mse: 5.9546 - val_loss: 11.5012 - val_mae: 2.4768 - val_mse: 11.5012\n",
            "Epoch 273/300\n",
            "9/9 [==============================] - 0s 6ms/step - loss: 5.9144 - mae: 1.7306 - mse: 5.9144 - val_loss: 11.5440 - val_mae: 2.4567 - val_mse: 11.5440\n",
            "Epoch 274/300\n",
            "9/9 [==============================] - 0s 5ms/step - loss: 5.9201 - mae: 1.7222 - mse: 5.9201 - val_loss: 11.6075 - val_mae: 2.4589 - val_mse: 11.6075\n",
            "Epoch 275/300\n",
            "9/9 [==============================] - 0s 5ms/step - loss: 5.8679 - mae: 1.7145 - mse: 5.8679 - val_loss: 11.3887 - val_mae: 2.4520 - val_mse: 11.3887\n",
            "Epoch 276/300\n",
            "9/9 [==============================] - 0s 5ms/step - loss: 5.8906 - mae: 1.7254 - mse: 5.8906 - val_loss: 11.5104 - val_mae: 2.4608 - val_mse: 11.5104\n",
            "Epoch 277/300\n",
            "9/9 [==============================] - 0s 5ms/step - loss: 5.8408 - mae: 1.7239 - mse: 5.8408 - val_loss: 11.1807 - val_mae: 2.4425 - val_mse: 11.1807\n",
            "Epoch 278/300\n",
            "9/9 [==============================] - 0s 5ms/step - loss: 5.9525 - mae: 1.7282 - mse: 5.9525 - val_loss: 11.4551 - val_mae: 2.4386 - val_mse: 11.4551\n",
            "Epoch 279/300\n",
            "9/9 [==============================] - 0s 5ms/step - loss: 5.8211 - mae: 1.7068 - mse: 5.8211 - val_loss: 11.5452 - val_mae: 2.4651 - val_mse: 11.5452\n",
            "Epoch 280/300\n",
            "9/9 [==============================] - 0s 7ms/step - loss: 5.8017 - mae: 1.7149 - mse: 5.8017 - val_loss: 11.2630 - val_mae: 2.4519 - val_mse: 11.2630\n",
            "Epoch 281/300\n",
            "9/9 [==============================] - 0s 4ms/step - loss: 5.7735 - mae: 1.7143 - mse: 5.7735 - val_loss: 11.4533 - val_mae: 2.4591 - val_mse: 11.4533\n",
            "Epoch 282/300\n",
            "9/9 [==============================] - 0s 7ms/step - loss: 5.8872 - mae: 1.7126 - mse: 5.8872 - val_loss: 11.7081 - val_mae: 2.4602 - val_mse: 11.7081\n",
            "Epoch 283/300\n",
            "9/9 [==============================] - 0s 5ms/step - loss: 5.7918 - mae: 1.7180 - mse: 5.7918 - val_loss: 11.1941 - val_mae: 2.4479 - val_mse: 11.1941\n",
            "Epoch 284/300\n",
            "9/9 [==============================] - 0s 6ms/step - loss: 5.7666 - mae: 1.7036 - mse: 5.7666 - val_loss: 11.5180 - val_mae: 2.4474 - val_mse: 11.5180\n",
            "Epoch 285/300\n",
            "9/9 [==============================] - 0s 7ms/step - loss: 5.6796 - mae: 1.7001 - mse: 5.6796 - val_loss: 11.2628 - val_mae: 2.4656 - val_mse: 11.2628\n",
            "Epoch 286/300\n",
            "9/9 [==============================] - 0s 4ms/step - loss: 5.6811 - mae: 1.7139 - mse: 5.6811 - val_loss: 11.5078 - val_mae: 2.4600 - val_mse: 11.5078\n",
            "Epoch 287/300\n",
            "9/9 [==============================] - 0s 5ms/step - loss: 5.6719 - mae: 1.6848 - mse: 5.6719 - val_loss: 11.6311 - val_mae: 2.4680 - val_mse: 11.6311\n",
            "Epoch 288/300\n",
            "9/9 [==============================] - 0s 4ms/step - loss: 5.6736 - mae: 1.6895 - mse: 5.6736 - val_loss: 11.4291 - val_mae: 2.4454 - val_mse: 11.4291\n",
            "Epoch 289/300\n",
            "9/9 [==============================] - 0s 4ms/step - loss: 5.6150 - mae: 1.6909 - mse: 5.6150 - val_loss: 11.2384 - val_mae: 2.4438 - val_mse: 11.2384\n",
            "Epoch 290/300\n",
            "9/9 [==============================] - 0s 5ms/step - loss: 5.5775 - mae: 1.6784 - mse: 5.5775 - val_loss: 11.2042 - val_mae: 2.4222 - val_mse: 11.2042\n",
            "Epoch 291/300\n",
            "9/9 [==============================] - 0s 5ms/step - loss: 5.6319 - mae: 1.6752 - mse: 5.6319 - val_loss: 11.1661 - val_mae: 2.4132 - val_mse: 11.1661\n",
            "Epoch 292/300\n",
            "9/9 [==============================] - 0s 5ms/step - loss: 5.6066 - mae: 1.6790 - mse: 5.6066 - val_loss: 11.1426 - val_mae: 2.4363 - val_mse: 11.1426\n",
            "Epoch 293/300\n",
            "9/9 [==============================] - 0s 5ms/step - loss: 5.5475 - mae: 1.6764 - mse: 5.5475 - val_loss: 11.0698 - val_mae: 2.4204 - val_mse: 11.0698\n",
            "Epoch 294/300\n",
            "9/9 [==============================] - 0s 5ms/step - loss: 5.5602 - mae: 1.6608 - mse: 5.5602 - val_loss: 10.9743 - val_mae: 2.4090 - val_mse: 10.9743\n",
            "Epoch 295/300\n",
            "9/9 [==============================] - 0s 4ms/step - loss: 5.5091 - mae: 1.6603 - mse: 5.5091 - val_loss: 11.1066 - val_mae: 2.4231 - val_mse: 11.1066\n",
            "Epoch 296/300\n",
            "9/9 [==============================] - 0s 7ms/step - loss: 5.5149 - mae: 1.6715 - mse: 5.5149 - val_loss: 11.1696 - val_mae: 2.4406 - val_mse: 11.1696\n",
            "Epoch 297/300\n",
            "9/9 [==============================] - 0s 7ms/step - loss: 5.5458 - mae: 1.6842 - mse: 5.5458 - val_loss: 10.9152 - val_mae: 2.4243 - val_mse: 10.9152\n",
            "Epoch 298/300\n",
            "9/9 [==============================] - 0s 7ms/step - loss: 5.4339 - mae: 1.6630 - mse: 5.4339 - val_loss: 11.3670 - val_mae: 2.4442 - val_mse: 11.3670\n",
            "Epoch 299/300\n",
            "9/9 [==============================] - 0s 5ms/step - loss: 5.4612 - mae: 1.6637 - mse: 5.4612 - val_loss: 11.2193 - val_mae: 2.4388 - val_mse: 11.2193\n",
            "Epoch 300/300\n",
            "9/9 [==============================] - 0s 5ms/step - loss: 5.4537 - mae: 1.6497 - mse: 5.4537 - val_loss: 11.3738 - val_mae: 2.4397 - val_mse: 11.3738\n"
          ],
          "name": "stdout"
        }
      ]
    },
    {
      "cell_type": "markdown",
      "metadata": {
        "id": "q5XmgjA4nuk4"
      },
      "source": [
        "모델 결과 그리기"
      ]
    },
    {
      "cell_type": "code",
      "metadata": {
        "colab": {
          "base_uri": "https://localhost:8080/",
          "height": 350
        },
        "id": "ImCKBLxOng-V",
        "outputId": "d5aa1b15-f825-47ea-cb51-2045ae4e5559"
      },
      "source": [
        "import matplotlib.pyplot as plt\n",
        "\n",
        "his_dict = history.history\n",
        "mse = his_dict['mse']\n",
        "val_mse = his_dict['val_mse'] # 검증 데이터가 있는 경우 ‘val_’ 수식어가 붙습니다.\n",
        "\n",
        "epochs = range(1, len(mse) + 1)\n",
        "fig = plt.figure(figsize = (10, 5))\n",
        "\n",
        "# 훈련 및 검증 손실 그리기\n",
        "ax1 = fig.add_subplot(1, 2, 1)\n",
        "ax1.plot(epochs, mse, color = 'blue', label = 'train_mse')\n",
        "ax1.plot(epochs, val_mse, color = 'orange', label = 'val_mse')\n",
        "ax1.set_title('train and val mse')\n",
        "ax1.set_xlabel('epochs')\n",
        "ax1.set_ylabel('mse')\n",
        "ax1.legend()\n",
        "\n",
        "mae = his_dict['mae']\n",
        "val_mae = his_dict['val_mae']\n",
        "\n",
        "# 훈련 및 검증 정확도 그리기\n",
        "ax2 = fig.add_subplot(1, 2, 2)\n",
        "ax2.plot(epochs, mae, color = 'blue', label = 'train_mae')\n",
        "ax2.plot(epochs, val_mae, color = 'orange', label = 'val_mae')\n",
        "ax2.set_title('train and val mae')\n",
        "ax2.set_xlabel('epochs')\n",
        "ax2.set_ylabel('mae')\n",
        "ax2.legend()\n",
        "\n",
        "plt.show()"
      ],
      "execution_count": 11,
      "outputs": [
        {
          "output_type": "display_data",
          "data": {
            "image/png": "[encoded data removed]",
            "text/plain": [
              "<Figure size 720x360 with 2 Axes>"
            ]
          },
          "metadata": {
            "tags": [],
            "needs_background": "light"
          }
        }
      ]
    },
    {
      "cell_type": "markdown",
      "metadata": {
        "id": "CZVUqEmgn8HE"
      },
      "source": [
        "모델 평가하기"
      ]
    },
    {
      "cell_type": "code",
      "metadata": {
        "colab": {
          "base_uri": "https://localhost:8080/"
        },
        "id": "DTVngWXvnz7h",
        "outputId": "0a122b4e-f784-41d8-a86b-4ff90fb6cc9a"
      },
      "source": [
        "model.evaluate(X_test, y_test)  # mae 2.0 -> 실제 집값과 2,000 달러정도 차이"
      ],
      "execution_count": 12,
      "outputs": [
        {
          "output_type": "stream",
          "text": [
            "4/4 [==============================] - 0s 3ms/step - loss: 9.6430 - mae: 2.2537 - mse: 9.6430\n"
          ],
          "name": "stdout"
        },
        {
          "output_type": "execute_result",
          "data": {
            "text/plain": [
              "[9.642966270446777, 2.2537364959716797, 9.642966270446777]"
            ]
          },
          "metadata": {
            "tags": []
          },
          "execution_count": 12
        }
      ]
    },
    {
      "cell_type": "markdown",
      "metadata": {
        "id": "Dv85YC6DoKat"
      },
      "source": [
        "모델 예측하기"
      ]
    },
    {
      "cell_type": "code",
      "metadata": {
        "colab": {
          "base_uri": "https://localhost:8080/",
          "height": 279
        },
        "id": "d1wkbs3qoGrb",
        "outputId": "a5933f88-ec0f-4388-dcd4-4f4822c74b4e"
      },
      "source": [
        "test_predictions = model.predict(X_test).flatten()\n",
        "\n",
        "plt.scatter(y_test, test_predictions)\n",
        "plt.xlabel('True Values [Price]')\n",
        "plt.ylabel('Predictions [Price]')\n",
        "plt.axis('equal')\n",
        "plt.axis('square')\n",
        "plt.xlim([0,plt.xlim()[1]])\n",
        "plt.ylim([0,plt.ylim()[1]])\n",
        "_ = plt.plot([-100, 100], [-100, 100])"
      ],
      "execution_count": 14,
      "outputs": [
        {
          "output_type": "display_data",
          "data": {
            "image/png": "[encoded data removed]",
            "text/plain": [
              "<Figure size 432x288 with 1 Axes>"
            ]
          },
          "metadata": {
            "tags": [],
            "needs_background": "light"
          }
        }
      ]
    }
  ]
}