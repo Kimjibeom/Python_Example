{
  "nbformat": 4,
  "nbformat_minor": 0,
  "metadata": {
    "colab": {
      "name": "XOR 게이트 구현하기.ipynb",
      "provenance": [],
      "authorship_tag": "ABX9TyOIWfsBxO2yggmOTVJcmjrL",
      "include_colab_link": true
    },
    "kernelspec": {
      "name": "python3",
      "display_name": "Python 3"
    },
    "language_info": {
      "name": "python"
    }
  },
  "cells": [
    {
      "cell_type": "markdown",
      "metadata": {
        "id": "view-in-github",
        "colab_type": "text"
      },
      "source": [
        "<a href=\"https://colab.research.google.com/github/Kimjibeom/Python_Example/blob/main/XOR_%EA%B2%8C%EC%9D%B4%ED%8A%B8_%EA%B5%AC%ED%98%84%ED%95%98%EA%B8%B0.ipynb\" target=\"_parent\"><img src=\"https://colab.research.google.com/assets/colab-badge.svg\" alt=\"Open In Colab\"/></a>"
      ]
    },
    {
      "cell_type": "markdown",
      "metadata": {
        "id": "LGND3g0wMwlx"
      },
      "source": [
        "OR 게이트 구현해보기 0,0->0 1,0->1 0,1->1 1,1->1"
      ]
    },
    {
      "cell_type": "markdown",
      "metadata": {
        "id": "mPlX9bpnM8Pz"
      },
      "source": [
        "데이터 준비하기"
      ]
    },
    {
      "cell_type": "code",
      "metadata": {
        "id": "AHgzm5PfIA-f"
      },
      "source": [
        "import numpy as np\n",
        "\n",
        "import tensorflow as tf\n",
        "tf.random.set_seed(777)\n",
        "\n",
        "from tensorflow.keras.models import Sequential\n",
        "from tensorflow.keras.layers import Dense\n",
        "from tensorflow.keras.optimizers import SGD\n",
        "from tensorflow.keras.optimizers import RMSprop\n",
        "from tensorflow.keras.losses import mse"
      ],
      "execution_count": 1,
      "outputs": []
    },
    {
      "cell_type": "code",
      "metadata": {
        "id": "5hZ9s2fENVFS"
      },
      "source": [
        "# 데이터 준비하기\n",
        "data = np.array([[0,0],[1,0],[0,1],[1,1]])  # XOR 연산 학습 데이터\n",
        "label = np.array([[0],[1],[1],[0]])         # 정답 XOR"
      ],
      "execution_count": 2,
      "outputs": []
    },
    {
      "cell_type": "markdown",
      "metadata": {
        "id": "JM_F6s2cN4j4"
      },
      "source": [
        "모델 구성하기"
      ]
    },
    {
      "cell_type": "code",
      "metadata": {
        "id": "dKYGgQ2gNtJ2"
      },
      "source": [
        "model = Sequential()\n",
        "model.add(Dense(32, input_shape=(2,), activation='relu')) # 단층 퍼셉트론을 구성\n",
        "model.add(Dense(1, activation='sigmoid'))"
      ],
      "execution_count": 3,
      "outputs": []
    },
    {
      "cell_type": "markdown",
      "metadata": {
        "id": "XK1EC-5dOeWJ"
      },
      "source": [
        "모델 설정하기"
      ]
    },
    {
      "cell_type": "code",
      "metadata": {
        "id": "18gbyEsgORBx"
      },
      "source": [
        "# model.compile(optimizer = SGD(), loss=mse, metrics=['acc])RMSprop\n",
        "model.compile(optimizer= RMSprop(), loss=mse, metrics=['acc'])"
      ],
      "execution_count": 4,
      "outputs": []
    },
    {
      "cell_type": "code",
      "metadata": {
        "colab": {
          "base_uri": "https://localhost:8080/"
        },
        "id": "7mB5fx16O2d1",
        "outputId": "63d6fe04-e293-4847-88e8-e7ca83725df1"
      },
      "source": [
        "# 모델 확인하기\n",
        "model.summary()"
      ],
      "execution_count": 5,
      "outputs": [
        {
          "output_type": "stream",
          "text": [
            "Model: \"sequential\"\n",
            "_________________________________________________________________\n",
            "Layer (type)                 Output Shape              Param #   \n",
            "=================================================================\n",
            "dense (Dense)                (None, 32)                96        \n",
            "_________________________________________________________________\n",
            "dense_1 (Dense)              (None, 1)                 33        \n",
            "=================================================================\n",
            "Total params: 129\n",
            "Trainable params: 129\n",
            "Non-trainable params: 0\n",
            "_________________________________________________________________\n"
          ],
          "name": "stdout"
        }
      ]
    },
    {
      "cell_type": "code",
      "metadata": {
        "colab": {
          "base_uri": "https://localhost:8080/",
          "height": 312
        },
        "id": "qfcsekpuO6rZ",
        "outputId": "a7465acb-58e1-4023-80a7-6aad17b9879c"
      },
      "source": [
        "tf.keras.utils.plot_model(model, show_shapes=True, show_layer_names=True,rankdir='TB', expand_nested=False, dpi=96)"
      ],
      "execution_count": 6,
      "outputs": [
        {
          "output_type": "execute_result",
          "data": {
            "image/png": "[encoded data removed]",
            "text/plain": [
              "<IPython.core.display.Image object>"
            ]
          },
          "metadata": {
            "tags": []
          },
          "execution_count": 6
        }
      ]
    },
    {
      "cell_type": "markdown",
      "metadata": {
        "id": "QJB561cbPKf3"
      },
      "source": [
        "모델 학습시키기"
      ]
    },
    {
      "cell_type": "code",
      "metadata": {
        "colab": {
          "base_uri": "https://localhost:8080/"
        },
        "id": "m0rONigAPDqv",
        "outputId": "97dc4fe5-240d-44d8-b7f5-95ae80d8bc76"
      },
      "source": [
        "history = model.fit(data, label, epochs=150) # 학습데이터, 정답, 공부 횟수"
      ],
      "execution_count": 7,
      "outputs": [
        {
          "output_type": "stream",
          "text": [
            "Epoch 1/150\n",
            "1/1 [==============================] - 0s 492ms/step - loss: 0.2646 - acc: 0.5000\n",
            "Epoch 2/150\n",
            "1/1 [==============================] - 0s 7ms/step - loss: 0.2621 - acc: 0.2500\n",
            "Epoch 3/150\n",
            "1/1 [==============================] - 0s 5ms/step - loss: 0.2603 - acc: 0.2500\n",
            "Epoch 4/150\n",
            "1/1 [==============================] - 0s 6ms/step - loss: 0.2589 - acc: 0.2500\n",
            "Epoch 5/150\n",
            "1/1 [==============================] - 0s 4ms/step - loss: 0.2578 - acc: 0.2500\n",
            "Epoch 6/150\n",
            "1/1 [==============================] - 0s 8ms/step - loss: 0.2568 - acc: 0.2500\n",
            "Epoch 7/150\n",
            "1/1 [==============================] - 0s 5ms/step - loss: 0.2558 - acc: 0.2500\n",
            "Epoch 8/150\n",
            "1/1 [==============================] - 0s 6ms/step - loss: 0.2550 - acc: 0.2500\n",
            "Epoch 9/150\n",
            "1/1 [==============================] - 0s 8ms/step - loss: 0.2541 - acc: 0.2500\n",
            "Epoch 10/150\n",
            "1/1 [==============================] - 0s 5ms/step - loss: 0.2533 - acc: 0.2500\n",
            "Epoch 11/150\n",
            "1/1 [==============================] - 0s 5ms/step - loss: 0.2526 - acc: 0.5000\n",
            "Epoch 12/150\n",
            "1/1 [==============================] - 0s 5ms/step - loss: 0.2518 - acc: 0.5000\n",
            "Epoch 13/150\n",
            "1/1 [==============================] - 0s 9ms/step - loss: 0.2512 - acc: 0.5000\n",
            "Epoch 14/150\n",
            "1/1 [==============================] - 0s 12ms/step - loss: 0.2505 - acc: 0.5000\n",
            "Epoch 15/150\n",
            "1/1 [==============================] - 0s 5ms/step - loss: 0.2499 - acc: 0.5000\n",
            "Epoch 16/150\n",
            "1/1 [==============================] - 0s 5ms/step - loss: 0.2493 - acc: 0.5000\n",
            "Epoch 17/150\n",
            "1/1 [==============================] - 0s 5ms/step - loss: 0.2487 - acc: 0.5000\n",
            "Epoch 18/150\n",
            "1/1 [==============================] - 0s 8ms/step - loss: 0.2481 - acc: 0.5000\n",
            "Epoch 19/150\n",
            "1/1 [==============================] - 0s 4ms/step - loss: 0.2475 - acc: 0.5000\n",
            "Epoch 20/150\n",
            "1/1 [==============================] - 0s 4ms/step - loss: 0.2470 - acc: 0.5000\n",
            "Epoch 21/150\n",
            "1/1 [==============================] - 0s 8ms/step - loss: 0.2464 - acc: 0.5000\n",
            "Epoch 22/150\n",
            "1/1 [==============================] - 0s 13ms/step - loss: 0.2459 - acc: 0.5000\n",
            "Epoch 23/150\n",
            "1/1 [==============================] - 0s 5ms/step - loss: 0.2453 - acc: 0.5000\n",
            "Epoch 24/150\n",
            "1/1 [==============================] - 0s 6ms/step - loss: 0.2448 - acc: 0.5000\n",
            "Epoch 25/150\n",
            "1/1 [==============================] - 0s 7ms/step - loss: 0.2443 - acc: 0.5000\n",
            "Epoch 26/150\n",
            "1/1 [==============================] - 0s 6ms/step - loss: 0.2437 - acc: 0.5000\n",
            "Epoch 27/150\n",
            "1/1 [==============================] - 0s 7ms/step - loss: 0.2432 - acc: 0.5000\n",
            "Epoch 28/150\n",
            "1/1 [==============================] - 0s 5ms/step - loss: 0.2427 - acc: 0.5000\n",
            "Epoch 29/150\n",
            "1/1 [==============================] - 0s 5ms/step - loss: 0.2422 - acc: 0.5000\n",
            "Epoch 30/150\n",
            "1/1 [==============================] - 0s 5ms/step - loss: 0.2416 - acc: 0.5000\n",
            "Epoch 31/150\n",
            "1/1 [==============================] - 0s 6ms/step - loss: 0.2411 - acc: 0.5000\n",
            "Epoch 32/150\n",
            "1/1 [==============================] - 0s 5ms/step - loss: 0.2406 - acc: 0.5000\n",
            "Epoch 33/150\n",
            "1/1 [==============================] - 0s 4ms/step - loss: 0.2401 - acc: 0.5000\n",
            "Epoch 34/150\n",
            "1/1 [==============================] - 0s 5ms/step - loss: 0.2396 - acc: 0.5000\n",
            "Epoch 35/150\n",
            "1/1 [==============================] - 0s 8ms/step - loss: 0.2390 - acc: 0.5000\n",
            "Epoch 36/150\n",
            "1/1 [==============================] - 0s 6ms/step - loss: 0.2385 - acc: 0.5000\n",
            "Epoch 37/150\n",
            "1/1 [==============================] - 0s 6ms/step - loss: 0.2380 - acc: 0.5000\n",
            "Epoch 38/150\n",
            "1/1 [==============================] - 0s 6ms/step - loss: 0.2375 - acc: 0.5000\n",
            "Epoch 39/150\n",
            "1/1 [==============================] - 0s 6ms/step - loss: 0.2369 - acc: 0.5000\n",
            "Epoch 40/150\n",
            "1/1 [==============================] - 0s 6ms/step - loss: 0.2364 - acc: 0.5000\n",
            "Epoch 41/150\n",
            "1/1 [==============================] - 0s 6ms/step - loss: 0.2359 - acc: 0.7500\n",
            "Epoch 42/150\n",
            "1/1 [==============================] - 0s 13ms/step - loss: 0.2354 - acc: 0.7500\n",
            "Epoch 43/150\n",
            "1/1 [==============================] - 0s 8ms/step - loss: 0.2349 - acc: 0.7500\n",
            "Epoch 44/150\n",
            "1/1 [==============================] - 0s 9ms/step - loss: 0.2344 - acc: 0.7500\n",
            "Epoch 45/150\n",
            "1/1 [==============================] - 0s 5ms/step - loss: 0.2339 - acc: 0.7500\n",
            "Epoch 46/150\n",
            "1/1 [==============================] - 0s 5ms/step - loss: 0.2334 - acc: 0.7500\n",
            "Epoch 47/150\n",
            "1/1 [==============================] - 0s 5ms/step - loss: 0.2330 - acc: 0.7500\n",
            "Epoch 48/150\n",
            "1/1 [==============================] - 0s 7ms/step - loss: 0.2325 - acc: 0.7500\n",
            "Epoch 49/150\n",
            "1/1 [==============================] - 0s 6ms/step - loss: 0.2320 - acc: 0.7500\n",
            "Epoch 50/150\n",
            "1/1 [==============================] - 0s 7ms/step - loss: 0.2316 - acc: 0.7500\n",
            "Epoch 51/150\n",
            "1/1 [==============================] - 0s 8ms/step - loss: 0.2311 - acc: 0.7500\n",
            "Epoch 52/150\n",
            "1/1 [==============================] - 0s 7ms/step - loss: 0.2307 - acc: 0.7500\n",
            "Epoch 53/150\n",
            "1/1 [==============================] - 0s 6ms/step - loss: 0.2302 - acc: 0.7500\n",
            "Epoch 54/150\n",
            "1/1 [==============================] - 0s 6ms/step - loss: 0.2298 - acc: 0.7500\n",
            "Epoch 55/150\n",
            "1/1 [==============================] - 0s 7ms/step - loss: 0.2293 - acc: 0.7500\n",
            "Epoch 56/150\n",
            "1/1 [==============================] - 0s 8ms/step - loss: 0.2288 - acc: 0.7500\n",
            "Epoch 57/150\n",
            "1/1 [==============================] - 0s 9ms/step - loss: 0.2283 - acc: 0.7500\n",
            "Epoch 58/150\n",
            "1/1 [==============================] - 0s 4ms/step - loss: 0.2278 - acc: 1.0000\n",
            "Epoch 59/150\n",
            "1/1 [==============================] - 0s 4ms/step - loss: 0.2273 - acc: 1.0000\n",
            "Epoch 60/150\n",
            "1/1 [==============================] - 0s 5ms/step - loss: 0.2269 - acc: 1.0000\n",
            "Epoch 61/150\n",
            "1/1 [==============================] - 0s 11ms/step - loss: 0.2265 - acc: 1.0000\n",
            "Epoch 62/150\n",
            "1/1 [==============================] - 0s 4ms/step - loss: 0.2261 - acc: 1.0000\n",
            "Epoch 63/150\n",
            "1/1 [==============================] - 0s 4ms/step - loss: 0.2258 - acc: 1.0000\n",
            "Epoch 64/150\n",
            "1/1 [==============================] - 0s 4ms/step - loss: 0.2254 - acc: 1.0000\n",
            "Epoch 65/150\n",
            "1/1 [==============================] - 0s 5ms/step - loss: 0.2250 - acc: 1.0000\n",
            "Epoch 66/150\n",
            "1/1 [==============================] - 0s 5ms/step - loss: 0.2246 - acc: 1.0000\n",
            "Epoch 67/150\n",
            "1/1 [==============================] - 0s 5ms/step - loss: 0.2242 - acc: 1.0000\n",
            "Epoch 68/150\n",
            "1/1 [==============================] - 0s 5ms/step - loss: 0.2238 - acc: 1.0000\n",
            "Epoch 69/150\n",
            "1/1 [==============================] - 0s 4ms/step - loss: 0.2234 - acc: 1.0000\n",
            "Epoch 70/150\n",
            "1/1 [==============================] - 0s 6ms/step - loss: 0.2230 - acc: 1.0000\n",
            "Epoch 71/150\n",
            "1/1 [==============================] - 0s 6ms/step - loss: 0.2226 - acc: 1.0000\n",
            "Epoch 72/150\n",
            "1/1 [==============================] - 0s 4ms/step - loss: 0.2222 - acc: 1.0000\n",
            "Epoch 73/150\n",
            "1/1 [==============================] - 0s 6ms/step - loss: 0.2219 - acc: 1.0000\n",
            "Epoch 74/150\n",
            "1/1 [==============================] - 0s 6ms/step - loss: 0.2214 - acc: 1.0000\n",
            "Epoch 75/150\n",
            "1/1 [==============================] - 0s 4ms/step - loss: 0.2210 - acc: 1.0000\n",
            "Epoch 76/150\n",
            "1/1 [==============================] - 0s 6ms/step - loss: 0.2206 - acc: 1.0000\n",
            "Epoch 77/150\n",
            "1/1 [==============================] - 0s 6ms/step - loss: 0.2203 - acc: 1.0000\n",
            "Epoch 78/150\n",
            "1/1 [==============================] - 0s 6ms/step - loss: 0.2198 - acc: 1.0000\n",
            "Epoch 79/150\n",
            "1/1 [==============================] - 0s 5ms/step - loss: 0.2195 - acc: 1.0000\n",
            "Epoch 80/150\n",
            "1/1 [==============================] - 0s 7ms/step - loss: 0.2191 - acc: 1.0000\n",
            "Epoch 81/150\n",
            "1/1 [==============================] - 0s 7ms/step - loss: 0.2187 - acc: 1.0000\n",
            "Epoch 82/150\n",
            "1/1 [==============================] - 0s 7ms/step - loss: 0.2183 - acc: 1.0000\n",
            "Epoch 83/150\n",
            "1/1 [==============================] - 0s 6ms/step - loss: 0.2179 - acc: 1.0000\n",
            "Epoch 84/150\n",
            "1/1 [==============================] - 0s 6ms/step - loss: 0.2175 - acc: 1.0000\n",
            "Epoch 85/150\n",
            "1/1 [==============================] - 0s 7ms/step - loss: 0.2171 - acc: 1.0000\n",
            "Epoch 86/150\n",
            "1/1 [==============================] - 0s 4ms/step - loss: 0.2167 - acc: 1.0000\n",
            "Epoch 87/150\n",
            "1/1 [==============================] - 0s 7ms/step - loss: 0.2163 - acc: 1.0000\n",
            "Epoch 88/150\n",
            "1/1 [==============================] - 0s 6ms/step - loss: 0.2159 - acc: 1.0000\n",
            "Epoch 89/150\n",
            "1/1 [==============================] - 0s 4ms/step - loss: 0.2155 - acc: 1.0000\n",
            "Epoch 90/150\n",
            "1/1 [==============================] - 0s 6ms/step - loss: 0.2151 - acc: 1.0000\n",
            "Epoch 91/150\n",
            "1/1 [==============================] - 0s 5ms/step - loss: 0.2147 - acc: 1.0000\n",
            "Epoch 92/150\n",
            "1/1 [==============================] - 0s 38ms/step - loss: 0.2143 - acc: 1.0000\n",
            "Epoch 93/150\n",
            "1/1 [==============================] - 0s 12ms/step - loss: 0.2138 - acc: 1.0000\n",
            "Epoch 94/150\n",
            "1/1 [==============================] - 0s 7ms/step - loss: 0.2135 - acc: 1.0000\n",
            "Epoch 95/150\n",
            "1/1 [==============================] - 0s 4ms/step - loss: 0.2130 - acc: 1.0000\n",
            "Epoch 96/150\n",
            "1/1 [==============================] - 0s 6ms/step - loss: 0.2126 - acc: 1.0000\n",
            "Epoch 97/150\n",
            "1/1 [==============================] - 0s 6ms/step - loss: 0.2122 - acc: 1.0000\n",
            "Epoch 98/150\n",
            "1/1 [==============================] - 0s 6ms/step - loss: 0.2118 - acc: 1.0000\n",
            "Epoch 99/150\n",
            "1/1 [==============================] - 0s 6ms/step - loss: 0.2114 - acc: 1.0000\n",
            "Epoch 100/150\n",
            "1/1 [==============================] - 0s 4ms/step - loss: 0.2110 - acc: 1.0000\n",
            "Epoch 101/150\n",
            "1/1 [==============================] - 0s 6ms/step - loss: 0.2106 - acc: 1.0000\n",
            "Epoch 102/150\n",
            "1/1 [==============================] - 0s 4ms/step - loss: 0.2102 - acc: 1.0000\n",
            "Epoch 103/150\n",
            "1/1 [==============================] - 0s 4ms/step - loss: 0.2098 - acc: 1.0000\n",
            "Epoch 104/150\n",
            "1/1 [==============================] - 0s 6ms/step - loss: 0.2094 - acc: 1.0000\n",
            "Epoch 105/150\n",
            "1/1 [==============================] - 0s 6ms/step - loss: 0.2091 - acc: 1.0000\n",
            "Epoch 106/150\n",
            "1/1 [==============================] - 0s 5ms/step - loss: 0.2087 - acc: 1.0000\n",
            "Epoch 107/150\n",
            "1/1 [==============================] - 0s 4ms/step - loss: 0.2083 - acc: 1.0000\n",
            "Epoch 108/150\n",
            "1/1 [==============================] - 0s 7ms/step - loss: 0.2079 - acc: 1.0000\n",
            "Epoch 109/150\n",
            "1/1 [==============================] - 0s 6ms/step - loss: 0.2075 - acc: 1.0000\n",
            "Epoch 110/150\n",
            "1/1 [==============================] - 0s 8ms/step - loss: 0.2071 - acc: 1.0000\n",
            "Epoch 111/150\n",
            "1/1 [==============================] - 0s 4ms/step - loss: 0.2067 - acc: 1.0000\n",
            "Epoch 112/150\n",
            "1/1 [==============================] - 0s 4ms/step - loss: 0.2063 - acc: 1.0000\n",
            "Epoch 113/150\n",
            "1/1 [==============================] - 0s 49ms/step - loss: 0.2059 - acc: 1.0000\n",
            "Epoch 114/150\n",
            "1/1 [==============================] - 0s 4ms/step - loss: 0.2056 - acc: 1.0000\n",
            "Epoch 115/150\n",
            "1/1 [==============================] - 0s 4ms/step - loss: 0.2051 - acc: 1.0000\n",
            "Epoch 116/150\n",
            "1/1 [==============================] - 0s 7ms/step - loss: 0.2048 - acc: 1.0000\n",
            "Epoch 117/150\n",
            "1/1 [==============================] - 0s 9ms/step - loss: 0.2043 - acc: 1.0000\n",
            "Epoch 118/150\n",
            "1/1 [==============================] - 0s 23ms/step - loss: 0.2040 - acc: 1.0000\n",
            "Epoch 119/150\n",
            "1/1 [==============================] - 0s 8ms/step - loss: 0.2035 - acc: 1.0000\n",
            "Epoch 120/150\n",
            "1/1 [==============================] - 0s 7ms/step - loss: 0.2032 - acc: 1.0000\n",
            "Epoch 121/150\n",
            "1/1 [==============================] - 0s 5ms/step - loss: 0.2027 - acc: 1.0000\n",
            "Epoch 122/150\n",
            "1/1 [==============================] - 0s 7ms/step - loss: 0.2024 - acc: 1.0000\n",
            "Epoch 123/150\n",
            "1/1 [==============================] - 0s 6ms/step - loss: 0.2020 - acc: 1.0000\n",
            "Epoch 124/150\n",
            "1/1 [==============================] - 0s 11ms/step - loss: 0.2015 - acc: 1.0000\n",
            "Epoch 125/150\n",
            "1/1 [==============================] - 0s 6ms/step - loss: 0.2012 - acc: 1.0000\n",
            "Epoch 126/150\n",
            "1/1 [==============================] - 0s 5ms/step - loss: 0.2008 - acc: 1.0000\n",
            "Epoch 127/150\n",
            "1/1 [==============================] - 0s 7ms/step - loss: 0.2003 - acc: 1.0000\n",
            "Epoch 128/150\n",
            "1/1 [==============================] - 0s 5ms/step - loss: 0.1999 - acc: 1.0000\n",
            "Epoch 129/150\n",
            "1/1 [==============================] - 0s 5ms/step - loss: 0.1995 - acc: 1.0000\n",
            "Epoch 130/150\n",
            "1/1 [==============================] - 0s 4ms/step - loss: 0.1991 - acc: 1.0000\n",
            "Epoch 131/150\n",
            "1/1 [==============================] - 0s 5ms/step - loss: 0.1987 - acc: 1.0000\n",
            "Epoch 132/150\n",
            "1/1 [==============================] - 0s 6ms/step - loss: 0.1983 - acc: 1.0000\n",
            "Epoch 133/150\n",
            "1/1 [==============================] - 0s 5ms/step - loss: 0.1979 - acc: 1.0000\n",
            "Epoch 134/150\n",
            "1/1 [==============================] - 0s 8ms/step - loss: 0.1975 - acc: 1.0000\n",
            "Epoch 135/150\n",
            "1/1 [==============================] - 0s 6ms/step - loss: 0.1971 - acc: 1.0000\n",
            "Epoch 136/150\n",
            "1/1 [==============================] - 0s 6ms/step - loss: 0.1967 - acc: 1.0000\n",
            "Epoch 137/150\n",
            "1/1 [==============================] - 0s 6ms/step - loss: 0.1963 - acc: 1.0000\n",
            "Epoch 138/150\n",
            "1/1 [==============================] - 0s 5ms/step - loss: 0.1958 - acc: 1.0000\n",
            "Epoch 139/150\n",
            "1/1 [==============================] - 0s 8ms/step - loss: 0.1954 - acc: 1.0000\n",
            "Epoch 140/150\n",
            "1/1 [==============================] - 0s 7ms/step - loss: 0.1950 - acc: 1.0000\n",
            "Epoch 141/150\n",
            "1/1 [==============================] - 0s 7ms/step - loss: 0.1946 - acc: 1.0000\n",
            "Epoch 142/150\n",
            "1/1 [==============================] - 0s 6ms/step - loss: 0.1942 - acc: 1.0000\n",
            "Epoch 143/150\n",
            "1/1 [==============================] - 0s 6ms/step - loss: 0.1938 - acc: 1.0000\n",
            "Epoch 144/150\n",
            "1/1 [==============================] - 0s 6ms/step - loss: 0.1934 - acc: 1.0000\n",
            "Epoch 145/150\n",
            "1/1 [==============================] - 0s 4ms/step - loss: 0.1930 - acc: 1.0000\n",
            "Epoch 146/150\n",
            "1/1 [==============================] - 0s 8ms/step - loss: 0.1925 - acc: 1.0000\n",
            "Epoch 147/150\n",
            "1/1 [==============================] - 0s 6ms/step - loss: 0.1921 - acc: 1.0000\n",
            "Epoch 148/150\n",
            "1/1 [==============================] - 0s 7ms/step - loss: 0.1917 - acc: 1.0000\n",
            "Epoch 149/150\n",
            "1/1 [==============================] - 0s 6ms/step - loss: 0.1913 - acc: 1.0000\n",
            "Epoch 150/150\n",
            "1/1 [==============================] - 0s 8ms/step - loss: 0.1909 - acc: 1.0000\n"
          ],
          "name": "stdout"
        }
      ]
    },
    {
      "cell_type": "markdown",
      "metadata": {
        "id": "GlasM8nEPxkp"
      },
      "source": [
        "학습결과 그려보기"
      ]
    },
    {
      "cell_type": "code",
      "metadata": {
        "colab": {
          "base_uri": "https://localhost:8080/",
          "height": 350
        },
        "id": "m39DcbqgPZhc",
        "outputId": "8a27808b-ee2a-4391-c2b8-d67807507db1"
      },
      "source": [
        "import matplotlib.pyplot as plt\n",
        "\n",
        "his_dict = history.history\n",
        "loss = his_dict['loss']\n",
        "\n",
        "epochs = range(1, len(loss) + 1)\n",
        "fig = plt.figure(figsize = (10, 5))\n",
        "\n",
        "# 훈련 및 검증 손실 그리기\n",
        "ax1 = fig.add_subplot(1, 2, 1)\n",
        "ax1.plot(epochs, loss, color = 'orange', label = 'train_loss')\n",
        "ax1.set_title('train loss')\n",
        "ax1.set_xlabel('epochs')\n",
        "ax1.set_ylabel('loss')\n",
        "ax1.legend()\n",
        "\n",
        "acc = his_dict['acc']\n",
        "\n",
        "# 훈련 및 검증 정확도 그리기\n",
        "ax2 = fig.add_subplot(1, 2, 2)\n",
        "ax2.plot(epochs, acc, color = 'blue', label = 'train_accuracy')\n",
        "ax2.set_title('train accuracy')\n",
        "ax2.set_xlabel('epochs')\n",
        "ax2.set_ylabel('accuracy')\n",
        "ax2.legend()\n",
        "\n",
        "plt.show()"
      ],
      "execution_count": 8,
      "outputs": [
        {
          "output_type": "display_data",
          "data": {
            "image/png": "[encoded data removed]",
            "text/plain": [
              "<Figure size 720x360 with 2 Axes>"
            ]
          },
          "metadata": {
            "tags": [],
            "needs_background": "light"
          }
        }
      ]
    },
    {
      "cell_type": "markdown",
      "metadata": {
        "id": "uaFLIdeBQQuk"
      },
      "source": [
        "모델 가중치 확인"
      ]
    },
    {
      "cell_type": "code",
      "metadata": {
        "colab": {
          "base_uri": "https://localhost:8080/"
        },
        "id": "XX2i5U0rP3mL",
        "outputId": "c0794eeb-c375-43d2-fb38-f21c367b386c"
      },
      "source": [
        "model.get_weights()"
      ],
      "execution_count": 9,
      "outputs": [
        {
          "output_type": "execute_result",
          "data": {
            "text/plain": [
              "[array([[ 0.1980461 , -0.27609634,  0.53895414,  0.10854518, -0.21431386,\n",
              "          0.2543306 ,  0.34462258, -0.05306936, -0.13779789, -0.23925437,\n",
              "          0.09946181, -0.02900733,  0.13589987,  0.12446781,  0.1270931 ,\n",
              "          0.42332327, -0.03311983, -0.37055987, -0.3493019 ,  0.22283524,\n",
              "         -0.25554582, -0.29647002, -0.12625915,  0.12671351, -0.2702025 ,\n",
              "         -0.4093977 ,  0.39525303, -0.17278033, -0.19288148,  0.34947097,\n",
              "         -0.33862218, -0.00082418],\n",
              "        [-0.32846928,  0.2744771 ,  0.21336174, -0.19489145,  0.17586312,\n",
              "          0.14932764, -0.17635453,  0.2883298 ,  0.06527963,  0.19069424,\n",
              "          0.09976406,  0.13599649,  0.0532534 ,  0.40327534,  0.3782639 ,\n",
              "          0.2714045 , -0.01398495, -0.06497911,  0.04891233,  0.42132214,\n",
              "          0.3835885 ,  0.29967758, -0.2543157 ,  0.34121653,  0.35323194,\n",
              "         -0.17654489, -0.396119  , -0.3430747 ,  0.19147064,  0.24481004,\n",
              "          0.05100494, -0.4087645 ]], dtype=float32),\n",
              " array([ 0.00226321, -0.00024045,  0.00162775, -0.11007863,  0.00142481,\n",
              "        -0.14852922, -0.04640261,  0.06439696, -0.06691755,  0.0012121 ,\n",
              "        -0.09758376,  0.07539326, -0.11322195, -0.12343182, -0.12651573,\n",
              "         0.00148276,  0.        ,  0.        , -0.04907775, -0.1613867 ,\n",
              "        -0.01964985, -0.00104649,  0.        , -0.12713864, -0.02206378,\n",
              "         0.        , -0.0006207 ,  0.        , -0.00026135,  0.00167735,\n",
              "        -0.05225775,  0.        ], dtype=float32),\n",
              " array([[ 0.08966399],\n",
              "        [ 0.36361882],\n",
              "        [ 0.27044475],\n",
              "        [-0.24905556],\n",
              "        [ 0.37699395],\n",
              "        [-0.47287923],\n",
              "        [ 0.03920263],\n",
              "        [-0.03018188],\n",
              "        [-0.33924052],\n",
              "        [ 0.31069583],\n",
              "        [-0.16602829],\n",
              "        [-0.34734342],\n",
              "        [-0.37149245],\n",
              "        [-0.3057852 ],\n",
              "        [-0.490483  ],\n",
              "        [ 0.22268093],\n",
              "        [ 0.32401264],\n",
              "        [-0.16413954],\n",
              "        [-0.23799042],\n",
              "        [-0.22607854],\n",
              "        [ 0.570688  ],\n",
              "        [ 0.2369563 ],\n",
              "        [ 0.08726311],\n",
              "        [-0.4814859 ],\n",
              "        [ 0.3146888 ],\n",
              "        [ 0.28108388],\n",
              "        [ 0.29994327],\n",
              "        [-0.16080421],\n",
              "        [ 0.30408674],\n",
              "        [ 0.27420658],\n",
              "        [-0.33338794],\n",
              "        [ 0.32357073]], dtype=float32),\n",
              " array([-0.10083389], dtype=float32)]"
            ]
          },
          "metadata": {
            "tags": []
          },
          "execution_count": 9
        }
      ]
    },
    {
      "cell_type": "markdown",
      "metadata": {
        "id": "BooUORSaQc7w"
      },
      "source": [
        "모델 예측하기"
      ]
    },
    {
      "cell_type": "code",
      "metadata": {
        "colab": {
          "base_uri": "https://localhost:8080/"
        },
        "id": "799yCmDXQVRd",
        "outputId": "43264ce0-c726-4a37-adc0-0382a53cdd45"
      },
      "source": [
        "result = model.predict(data)\n",
        "print(result)"
      ],
      "execution_count": 10,
      "outputs": [
        {
          "output_type": "stream",
          "text": [
            "[[0.46838775]\n",
            " [0.5731102 ]\n",
            " [0.5736987 ]\n",
            " [0.4223943 ]]\n"
          ],
          "name": "stdout"
        }
      ]
    },
    {
      "cell_type": "code",
      "metadata": {
        "colab": {
          "base_uri": "https://localhost:8080/"
        },
        "id": "dVLwJSlQQjNq",
        "outputId": "10aba2ea-7be5-4d13-9ce1-b87113b939d9"
      },
      "source": [
        "result = model.predict_classes(data)\n",
        "print(result)"
      ],
      "execution_count": 11,
      "outputs": [
        {
          "output_type": "stream",
          "text": [
            "[[0]\n",
            " [1]\n",
            " [1]\n",
            " [0]]\n"
          ],
          "name": "stdout"
        },
        {
          "output_type": "stream",
          "text": [
            "/usr/local/lib/python3.7/dist-packages/tensorflow/python/keras/engine/sequential.py:455: UserWarning: `model.predict_classes()` is deprecated and will be removed after 2021-01-01. Please use instead:* `np.argmax(model.predict(x), axis=-1)`,   if your model does multi-class classification   (e.g. if it uses a `softmax` last-layer activation).* `(model.predict(x) > 0.5).astype(\"int32\")`,   if your model does binary classification   (e.g. if it uses a `sigmoid` last-layer activation).\n",
            "  warnings.warn('`model.predict_classes()` is deprecated and '\n"
          ],
          "name": "stderr"
        }
      ]
    },
    {
      "cell_type": "code",
      "metadata": {
        "id": "AOGJzJLmQvI0"
      },
      "source": [
        ""
      ],
      "execution_count": 11,
      "outputs": []
    }
  ]
}