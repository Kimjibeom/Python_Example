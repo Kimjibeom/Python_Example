{
  "nbformat": 4,
  "nbformat_minor": 0,
  "metadata": {
    "colab": {
      "name": "폐암 수술 환자의 생존유무 예측하기.ipynb",
      "provenance": []
    },
    "kernelspec": {
      "name": "python3",
      "display_name": "Python 3"
    },
    "language_info": {
      "name": "python"
    }
  },
  "cells": [
    {
      "cell_type": "markdown",
      "metadata": {
        "id": "scMULeVgjgIr"
      },
      "source": [
        "폐암 수술 환자의 생존유무 예측하기(1: 생존, 0: 사망)"
      ]
    },
    {
      "cell_type": "markdown",
      "metadata": {
        "id": "D-qMYYcdjm-h"
      },
      "source": [
        "데이터 준비하기"
      ]
    },
    {
      "cell_type": "code",
      "metadata": {
        "id": "diMWdF9QjNyA"
      },
      "source": [
        "import numpy as np\n",
        "import tensorflow as tf\n",
        "from keras.models import Sequential\n",
        "from keras.layers import Dense\n",
        "\n",
        "# 랜덤 시드 고정시키기\n",
        "np.random.seed(5)"
      ],
      "execution_count": null,
      "outputs": []
    },
    {
      "cell_type": "code",
      "metadata": {
        "colab": {
          "base_uri": "https://localhost:8080/"
        },
        "id": "IB2_r9LIjqry",
        "outputId": "53bdbb55-5a31-430e-e6e1-cb46ac740811"
      },
      "source": [
        "dataset = np.loadtxt('ThoraricSurgery.csv', delimiter=',')\n",
        "dataset.shape"
      ],
      "execution_count": null,
      "outputs": [
        {
          "output_type": "execute_result",
          "data": {
            "text/plain": [
              "(470, 18)"
            ]
          },
          "metadata": {
            "tags": []
          },
          "execution_count": 3
        }
      ]
    },
    {
      "cell_type": "markdown",
      "metadata": {
        "id": "0wf27M8bkOOH"
      },
      "source": [
        "데이터셋 생성하기 - 입력(속성값 17개;문제집), 출력(판정결과 1개;정답지) 변수로 분리"
      ]
    },
    {
      "cell_type": "code",
      "metadata": {
        "colab": {
          "base_uri": "https://localhost:8080/"
        },
        "id": "ZrZphC3pj34f",
        "outputId": "d097cae1-223d-4162-dbb5-bb6813b23547"
      },
      "source": [
        "# 학습 데이터 420개 가져오기\n",
        "X_train = dataset[:420,0:17]\n",
        "y_train = dataset[:420, 17]\n",
        "\n",
        "# 테스트 데이터 50개 가져오기\n",
        "X_test = dataset[420:, 0:17]\n",
        "y_test = dataset[420:, 17]\n",
        "\n",
        "X_train.shape"
      ],
      "execution_count": null,
      "outputs": [
        {
          "output_type": "execute_result",
          "data": {
            "text/plain": [
              "(420, 17)"
            ]
          },
          "metadata": {
            "tags": []
          },
          "execution_count": 4
        }
      ]
    },
    {
      "cell_type": "markdown",
      "metadata": {
        "id": "AhrH-riPkxU-"
      },
      "source": [
        "모델 구성하기"
      ]
    },
    {
      "cell_type": "code",
      "metadata": {
        "id": "SdIQQCavkchR"
      },
      "source": [
        "model = Sequential()\n",
        "model.add(Dense(30, input_dim=17, activation='relu'))\n",
        "model.add(Dense(20, activation='relu'))\n",
        "model.add(Dense(10, activation='relu'))\n",
        "model.add(Dense(1, activation = 'sigmoid'))"
      ],
      "execution_count": null,
      "outputs": []
    },
    {
      "cell_type": "markdown",
      "metadata": {
        "id": "txhpA2ZMlqCB"
      },
      "source": [
        "모델 설정하기"
      ]
    },
    {
      "cell_type": "code",
      "metadata": {
        "id": "zEFBMQLBlpeq"
      },
      "source": [
        "model.compile(loss='binary_crossentropy', \n",
        "              optimizer='adam',\n",
        "              metrics=['accuracy'])"
      ],
      "execution_count": null,
      "outputs": []
    },
    {
      "cell_type": "markdown",
      "metadata": {
        "id": "DgvXIsQQlvv_"
      },
      "source": [
        "모델 학습하기"
      ]
    },
    {
      "cell_type": "code",
      "metadata": {
        "colab": {
          "base_uri": "https://localhost:8080/"
        },
        "id": "-EqTrlCplvZs",
        "outputId": "062abaef-5909-4321-bf86-9e3c0f05b08a"
      },
      "source": [
        "history = model.fit(X_train, y_train,\n",
        "                    epochs=100,\n",
        "                    batch_size=64)"
      ],
      "execution_count": null,
      "outputs": [
        {
          "output_type": "stream",
          "text": [
            "Epoch 1/100\n",
            "7/7 [==============================] - 14s 3ms/step - loss: 4.8472 - accuracy: 0.2841\n",
            "Epoch 2/100\n",
            "7/7 [==============================] - 0s 2ms/step - loss: 1.3088 - accuracy: 0.8465\n",
            "Epoch 3/100\n",
            "7/7 [==============================] - 0s 2ms/step - loss: 1.4519 - accuracy: 0.8613\n",
            "Epoch 4/100\n",
            "7/7 [==============================] - 0s 3ms/step - loss: 1.0666 - accuracy: 0.8552\n",
            "Epoch 5/100\n",
            "7/7 [==============================] - 0s 2ms/step - loss: 0.5402 - accuracy: 0.7885\n",
            "Epoch 6/100\n",
            "7/7 [==============================] - 0s 3ms/step - loss: 0.4805 - accuracy: 0.8329\n",
            "Epoch 7/100\n",
            "7/7 [==============================] - 0s 3ms/step - loss: 0.5033 - accuracy: 0.8693\n",
            "Epoch 8/100\n",
            "7/7 [==============================] - 0s 2ms/step - loss: 0.4983 - accuracy: 0.8316\n",
            "Epoch 9/100\n",
            "7/7 [==============================] - 0s 2ms/step - loss: 0.4446 - accuracy: 0.8535\n",
            "Epoch 10/100\n",
            "7/7 [==============================] - 0s 3ms/step - loss: 0.4504 - accuracy: 0.8535\n",
            "Epoch 11/100\n",
            "7/7 [==============================] - 0s 2ms/step - loss: 0.4860 - accuracy: 0.8271\n",
            "Epoch 12/100\n",
            "7/7 [==============================] - 0s 3ms/step - loss: 0.4135 - accuracy: 0.8621\n",
            "Epoch 13/100\n",
            "7/7 [==============================] - 0s 3ms/step - loss: 0.4471 - accuracy: 0.8502\n",
            "Epoch 14/100\n",
            "7/7 [==============================] - 0s 2ms/step - loss: 0.4417 - accuracy: 0.8563\n",
            "Epoch 15/100\n",
            "7/7 [==============================] - 0s 2ms/step - loss: 0.4197 - accuracy: 0.8678\n",
            "Epoch 16/100\n",
            "7/7 [==============================] - 0s 3ms/step - loss: 0.3974 - accuracy: 0.8737\n",
            "Epoch 17/100\n",
            "7/7 [==============================] - 0s 3ms/step - loss: 0.4932 - accuracy: 0.8270\n",
            "Epoch 18/100\n",
            "7/7 [==============================] - 0s 2ms/step - loss: 0.4332 - accuracy: 0.8611\n",
            "Epoch 19/100\n",
            "7/7 [==============================] - 0s 3ms/step - loss: 0.4249 - accuracy: 0.8613\n",
            "Epoch 20/100\n",
            "7/7 [==============================] - 0s 3ms/step - loss: 0.4192 - accuracy: 0.8562\n",
            "Epoch 21/100\n",
            "7/7 [==============================] - 0s 3ms/step - loss: 0.4631 - accuracy: 0.8428\n",
            "Epoch 22/100\n",
            "7/7 [==============================] - 0s 3ms/step - loss: 0.5256 - accuracy: 0.8252\n",
            "Epoch 23/100\n",
            "7/7 [==============================] - 0s 3ms/step - loss: 0.4507 - accuracy: 0.8425\n",
            "Epoch 24/100\n",
            "7/7 [==============================] - 0s 3ms/step - loss: 0.4116 - accuracy: 0.8658\n",
            "Epoch 25/100\n",
            "7/7 [==============================] - 0s 2ms/step - loss: 0.4212 - accuracy: 0.8614\n",
            "Epoch 26/100\n",
            "7/7 [==============================] - 0s 2ms/step - loss: 0.4437 - accuracy: 0.8496\n",
            "Epoch 27/100\n",
            "7/7 [==============================] - 0s 2ms/step - loss: 0.4173 - accuracy: 0.8545\n",
            "Epoch 28/100\n",
            "7/7 [==============================] - 0s 3ms/step - loss: 0.3730 - accuracy: 0.8816\n",
            "Epoch 29/100\n",
            "7/7 [==============================] - 0s 3ms/step - loss: 0.4262 - accuracy: 0.8625\n",
            "Epoch 30/100\n",
            "7/7 [==============================] - 0s 3ms/step - loss: 0.4372 - accuracy: 0.8490\n",
            "Epoch 31/100\n",
            "7/7 [==============================] - 0s 3ms/step - loss: 0.4154 - accuracy: 0.8524\n",
            "Epoch 32/100\n",
            "7/7 [==============================] - 0s 4ms/step - loss: 0.4109 - accuracy: 0.8592\n",
            "Epoch 33/100\n",
            "7/7 [==============================] - 0s 2ms/step - loss: 0.4171 - accuracy: 0.8568\n",
            "Epoch 34/100\n",
            "7/7 [==============================] - 0s 2ms/step - loss: 0.4034 - accuracy: 0.8641\n",
            "Epoch 35/100\n",
            "7/7 [==============================] - 0s 4ms/step - loss: 0.3743 - accuracy: 0.8800\n",
            "Epoch 36/100\n",
            "7/7 [==============================] - 0s 3ms/step - loss: 0.4220 - accuracy: 0.8603\n",
            "Epoch 37/100\n",
            "7/7 [==============================] - 0s 3ms/step - loss: 0.3915 - accuracy: 0.8640\n",
            "Epoch 38/100\n",
            "7/7 [==============================] - 0s 3ms/step - loss: 0.4301 - accuracy: 0.8511\n",
            "Epoch 39/100\n",
            "7/7 [==============================] - 0s 3ms/step - loss: 0.4067 - accuracy: 0.8563\n",
            "Epoch 40/100\n",
            "7/7 [==============================] - 0s 3ms/step - loss: 0.3866 - accuracy: 0.8762\n",
            "Epoch 41/100\n",
            "7/7 [==============================] - 0s 3ms/step - loss: 0.4256 - accuracy: 0.8471\n",
            "Epoch 42/100\n",
            "7/7 [==============================] - 0s 3ms/step - loss: 0.4392 - accuracy: 0.8520\n",
            "Epoch 43/100\n",
            "7/7 [==============================] - 0s 2ms/step - loss: 0.4226 - accuracy: 0.8522\n",
            "Epoch 44/100\n",
            "7/7 [==============================] - 0s 3ms/step - loss: 0.4838 - accuracy: 0.8358\n",
            "Epoch 45/100\n",
            "7/7 [==============================] - 0s 3ms/step - loss: 0.4207 - accuracy: 0.8482\n",
            "Epoch 46/100\n",
            "7/7 [==============================] - 0s 3ms/step - loss: 0.4171 - accuracy: 0.8521\n",
            "Epoch 47/100\n",
            "7/7 [==============================] - 0s 3ms/step - loss: 0.3929 - accuracy: 0.8662\n",
            "Epoch 48/100\n",
            "7/7 [==============================] - 0s 3ms/step - loss: 0.4135 - accuracy: 0.8496\n",
            "Epoch 49/100\n",
            "7/7 [==============================] - 0s 2ms/step - loss: 0.3798 - accuracy: 0.8674\n",
            "Epoch 50/100\n",
            "7/7 [==============================] - 0s 4ms/step - loss: 0.3840 - accuracy: 0.8839\n",
            "Epoch 51/100\n",
            "7/7 [==============================] - 0s 3ms/step - loss: 0.4134 - accuracy: 0.8619\n",
            "Epoch 52/100\n",
            "7/7 [==============================] - 0s 2ms/step - loss: 0.4075 - accuracy: 0.8638\n",
            "Epoch 53/100\n",
            "7/7 [==============================] - 0s 3ms/step - loss: 0.4068 - accuracy: 0.8556\n",
            "Epoch 54/100\n",
            "7/7 [==============================] - 0s 3ms/step - loss: 0.4303 - accuracy: 0.8404\n",
            "Epoch 55/100\n",
            "7/7 [==============================] - 0s 3ms/step - loss: 0.4378 - accuracy: 0.8501\n",
            "Epoch 56/100\n",
            "7/7 [==============================] - 0s 2ms/step - loss: 0.4081 - accuracy: 0.8644\n",
            "Epoch 57/100\n",
            "7/7 [==============================] - 0s 2ms/step - loss: 0.4207 - accuracy: 0.8481\n",
            "Epoch 58/100\n",
            "7/7 [==============================] - 0s 3ms/step - loss: 0.4254 - accuracy: 0.8484\n",
            "Epoch 59/100\n",
            "7/7 [==============================] - 0s 3ms/step - loss: 0.4306 - accuracy: 0.8449\n",
            "Epoch 60/100\n",
            "7/7 [==============================] - 0s 3ms/step - loss: 0.4553 - accuracy: 0.8460\n",
            "Epoch 61/100\n",
            "7/7 [==============================] - 0s 3ms/step - loss: 0.4378 - accuracy: 0.8479\n",
            "Epoch 62/100\n",
            "7/7 [==============================] - 0s 4ms/step - loss: 0.4130 - accuracy: 0.8520\n",
            "Epoch 63/100\n",
            "7/7 [==============================] - 0s 3ms/step - loss: 0.3853 - accuracy: 0.8626\n",
            "Epoch 64/100\n",
            "7/7 [==============================] - 0s 3ms/step - loss: 0.4267 - accuracy: 0.8397\n",
            "Epoch 65/100\n",
            "7/7 [==============================] - 0s 3ms/step - loss: 0.4171 - accuracy: 0.8513\n",
            "Epoch 66/100\n",
            "7/7 [==============================] - 0s 4ms/step - loss: 0.3947 - accuracy: 0.8579\n",
            "Epoch 67/100\n",
            "7/7 [==============================] - 0s 3ms/step - loss: 0.4201 - accuracy: 0.8423\n",
            "Epoch 68/100\n",
            "7/7 [==============================] - 0s 3ms/step - loss: 0.4852 - accuracy: 0.8233\n",
            "Epoch 69/100\n",
            "7/7 [==============================] - 0s 3ms/step - loss: 0.4992 - accuracy: 0.8435\n",
            "Epoch 70/100\n",
            "7/7 [==============================] - 0s 4ms/step - loss: 0.4090 - accuracy: 0.8585\n",
            "Epoch 71/100\n",
            "7/7 [==============================] - 0s 3ms/step - loss: 0.3810 - accuracy: 0.8645\n",
            "Epoch 72/100\n",
            "7/7 [==============================] - 0s 3ms/step - loss: 0.4227 - accuracy: 0.8437\n",
            "Epoch 73/100\n",
            "7/7 [==============================] - 0s 3ms/step - loss: 0.4141 - accuracy: 0.8579\n",
            "Epoch 74/100\n",
            "7/7 [==============================] - 0s 3ms/step - loss: 0.4322 - accuracy: 0.8358\n",
            "Epoch 75/100\n",
            "7/7 [==============================] - 0s 3ms/step - loss: 0.4074 - accuracy: 0.8483\n",
            "Epoch 76/100\n",
            "7/7 [==============================] - 0s 3ms/step - loss: 0.4255 - accuracy: 0.8502\n",
            "Epoch 77/100\n",
            "7/7 [==============================] - 0s 3ms/step - loss: 0.4228 - accuracy: 0.8447\n",
            "Epoch 78/100\n",
            "7/7 [==============================] - 0s 3ms/step - loss: 0.3932 - accuracy: 0.8629\n",
            "Epoch 79/100\n",
            "7/7 [==============================] - 0s 3ms/step - loss: 0.3711 - accuracy: 0.8714\n",
            "Epoch 80/100\n",
            "7/7 [==============================] - 0s 3ms/step - loss: 0.3780 - accuracy: 0.8812\n",
            "Epoch 81/100\n",
            "7/7 [==============================] - 0s 3ms/step - loss: 0.4215 - accuracy: 0.8550\n",
            "Epoch 82/100\n",
            "7/7 [==============================] - 0s 3ms/step - loss: 0.4081 - accuracy: 0.8585\n",
            "Epoch 83/100\n",
            "7/7 [==============================] - 0s 3ms/step - loss: 0.4471 - accuracy: 0.8410\n",
            "Epoch 84/100\n",
            "7/7 [==============================] - 0s 3ms/step - loss: 0.3940 - accuracy: 0.8607\n",
            "Epoch 85/100\n",
            "7/7 [==============================] - 0s 2ms/step - loss: 0.4081 - accuracy: 0.8660\n",
            "Epoch 86/100\n",
            "7/7 [==============================] - 0s 3ms/step - loss: 0.4504 - accuracy: 0.8313\n",
            "Epoch 87/100\n",
            "7/7 [==============================] - 0s 3ms/step - loss: 0.3976 - accuracy: 0.8649\n",
            "Epoch 88/100\n",
            "7/7 [==============================] - 0s 3ms/step - loss: 0.3913 - accuracy: 0.8651\n",
            "Epoch 89/100\n",
            "7/7 [==============================] - 0s 3ms/step - loss: 0.3861 - accuracy: 0.8608\n",
            "Epoch 90/100\n",
            "7/7 [==============================] - 0s 3ms/step - loss: 0.4008 - accuracy: 0.8471\n",
            "Epoch 91/100\n",
            "7/7 [==============================] - 0s 4ms/step - loss: 0.3873 - accuracy: 0.8642\n",
            "Epoch 92/100\n",
            "7/7 [==============================] - 0s 2ms/step - loss: 0.4035 - accuracy: 0.8498\n",
            "Epoch 93/100\n",
            "7/7 [==============================] - 0s 3ms/step - loss: 0.4078 - accuracy: 0.8477\n",
            "Epoch 94/100\n",
            "7/7 [==============================] - 0s 3ms/step - loss: 0.3949 - accuracy: 0.8543\n",
            "Epoch 95/100\n",
            "7/7 [==============================] - 0s 4ms/step - loss: 0.3937 - accuracy: 0.8486\n",
            "Epoch 96/100\n",
            "7/7 [==============================] - 0s 3ms/step - loss: 0.3697 - accuracy: 0.8657\n",
            "Epoch 97/100\n",
            "7/7 [==============================] - 0s 3ms/step - loss: 0.4004 - accuracy: 0.8471\n",
            "Epoch 98/100\n",
            "7/7 [==============================] - 0s 3ms/step - loss: 0.4065 - accuracy: 0.8478\n",
            "Epoch 99/100\n",
            "7/7 [==============================] - 0s 3ms/step - loss: 0.4105 - accuracy: 0.8418\n",
            "Epoch 100/100\n",
            "7/7 [==============================] - 0s 3ms/step - loss: 0.3466 - accuracy: 0.8813\n"
          ],
          "name": "stdout"
        }
      ]
    },
    {
      "cell_type": "markdown",
      "metadata": {
        "id": "gzuZHk-qmASI"
      },
      "source": [
        "학습 결과 그려보기"
      ]
    },
    {
      "cell_type": "code",
      "metadata": {
        "colab": {
          "base_uri": "https://localhost:8080/",
          "height": 350
        },
        "id": "qFE77kPtlzTC",
        "outputId": "088378ee-32eb-4b64-a929-16ce8c7c1176"
      },
      "source": [
        "import matplotlib.pyplot as plt\n",
        "\n",
        "his_dict = history.history\n",
        "loss = his_dict['loss']\n",
        "\n",
        "epochs = range(1, len(loss) + 1)\n",
        "fig = plt.figure(figsize = (10, 5))\n",
        "\n",
        "# 훈련 및 검증 손실 그리기\n",
        "ax1 = fig.add_subplot(1, 2, 1)\n",
        "ax1.plot(epochs, loss, color = 'orange', label = 'train_loss')\n",
        "ax1.set_title('train loss')\n",
        "ax1.set_xlabel('epochs')\n",
        "ax1.set_ylabel('loss')\n",
        "ax1.legend()\n",
        "\n",
        "acc = his_dict['accuracy']\n",
        "\n",
        "# 훈련 및 검증 정확도 그리기\n",
        "ax2 = fig.add_subplot(1, 2, 2)\n",
        "ax2.plot(epochs, acc, color = 'blue', label = 'train_accuracy')\n",
        "ax2.set_title('train accuracy')\n",
        "ax2.set_xlabel('epochs')\n",
        "ax2.set_ylabel('accuracy')\n",
        "ax2.legend()\n",
        "\n",
        "plt.show()"
      ],
      "execution_count": null,
      "outputs": [
        {
          "output_type": "display_data",
          "data": {
            "image/png": "[encoded data removed]",
            "text/plain": [
              "<Figure size 720x360 with 2 Axes>"
            ]
          },
          "metadata": {
            "tags": [],
            "needs_background": "light"
          }
        }
      ]
    },
    {
      "cell_type": "markdown",
      "metadata": {
        "id": "Rym11lJ8mJZd"
      },
      "source": [
        "모델 평가하기"
      ]
    },
    {
      "cell_type": "code",
      "metadata": {
        "colab": {
          "base_uri": "https://localhost:8080/"
        },
        "id": "kzAtSlbFmBW1",
        "outputId": "bfe492b7-b956-4953-9380-1740198f8b09"
      },
      "source": [
        "scores = model.evaluate(X_test, y_test)\n",
        "print(\"%s: %.2f%%\" %(model.metrics_names[1], scores[1]*100))"
      ],
      "execution_count": null,
      "outputs": [
        {
          "output_type": "stream",
          "text": [
            "2/2 [==============================] - 1s 6ms/step - loss: 0.5438 - accuracy: 0.8000\n",
            "accuracy: 80.00%\n"
          ],
          "name": "stdout"
        }
      ]
    },
    {
      "cell_type": "markdown",
      "metadata": {
        "id": "rnRtzKiCmPaw"
      },
      "source": [
        "모델 성능 평가하기"
      ]
    },
    {
      "cell_type": "code",
      "metadata": {
        "id": "dR6l3VmlmMrx"
      },
      "source": [
        "def plot_auc_roc(model):\n",
        "    probs = model.predict_classes(X_test)\n",
        "    fpr, tpr, threshold = metrics.roc_curve(y_test, probs)\n",
        "    roc_auc = metrics.auc(fpr, tpr)\n",
        "\n",
        "    # method I: plt\n",
        "    import matplotlib.pyplot as plt\n",
        "    plt.title('Receiver Operating Characteristic')\n",
        "    plt.plot(fpr, tpr, 'b', label = 'AUC = %0.2f' % roc_auc)\n",
        "    plt.legend(loc = 'lower right')\n",
        "    plt.plot([0, 1], [0, 1],'r--')\n",
        "    plt.xlim([0, 1])\n",
        "    plt.ylim([0, 1])\n",
        "    plt.ylabel('True Positive Rate')\n",
        "    plt.xlabel('False Positive Rate')\n",
        "    plt.show()"
      ],
      "execution_count": null,
      "outputs": []
    },
    {
      "cell_type": "code",
      "metadata": {
        "colab": {
          "base_uri": "https://localhost:8080/"
        },
        "id": "3vHDFkbtmRMY",
        "outputId": "39d18171-30f5-45a7-93c2-bc50189978e7"
      },
      "source": [
        "# 모델 예측하기\n",
        "result = model.predict_classes(X_test)"
      ],
      "execution_count": null,
      "outputs": [
        {
          "output_type": "stream",
          "text": [
            "/usr/local/lib/python3.7/dist-packages/keras/engine/sequential.py:450: UserWarning: `model.predict_classes()` is deprecated and will be removed after 2021-01-01. Please use instead:* `np.argmax(model.predict(x), axis=-1)`,   if your model does multi-class classification   (e.g. if it uses a `softmax` last-layer activation).* `(model.predict(x) > 0.5).astype(\"int32\")`,   if your model does binary classification   (e.g. if it uses a `sigmoid` last-layer activation).\n",
            "  warnings.warn('`model.predict_classes()` is deprecated and '\n"
          ],
          "name": "stderr"
        }
      ]
    },
    {
      "cell_type": "code",
      "metadata": {
        "colab": {
          "base_uri": "https://localhost:8080/"
        },
        "id": "wMTcNxvumTPf",
        "outputId": "00f45e3e-4528-4731-87c2-73841573dd56"
      },
      "source": [
        "from sklearn import metrics\n",
        "report = metrics.classification_report(y_test, result)\n",
        "print(report)"
      ],
      "execution_count": null,
      "outputs": [
        {
          "output_type": "stream",
          "text": [
            "              precision    recall  f1-score   support\n",
            "\n",
            "         0.0       0.80      1.00      0.89        40\n",
            "         1.0       0.00      0.00      0.00        10\n",
            "\n",
            "    accuracy                           0.80        50\n",
            "   macro avg       0.40      0.50      0.44        50\n",
            "weighted avg       0.64      0.80      0.71        50\n",
            "\n"
          ],
          "name": "stdout"
        },
        {
          "output_type": "stream",
          "text": [
            "/usr/local/lib/python3.7/dist-packages/sklearn/metrics/_classification.py:1272: UndefinedMetricWarning: Precision and F-score are ill-defined and being set to 0.0 in labels with no predicted samples. Use `zero_division` parameter to control this behavior.\n",
            "  _warn_prf(average, modifier, msg_start, len(result))\n"
          ],
          "name": "stderr"
        }
      ]
    },
    {
      "cell_type": "code",
      "metadata": {
        "colab": {
          "base_uri": "https://localhost:8080/"
        },
        "id": "Gd0clNBRmVCy",
        "outputId": "c26c1dcf-6d98-45e5-9515-b18195a86087"
      },
      "source": [
        "print(metrics.precision_score(y_test,result))\n",
        "print(metrics.recall_score(y_test,result))"
      ],
      "execution_count": null,
      "outputs": [
        {
          "output_type": "stream",
          "text": [
            "0.0\n",
            "0.0\n"
          ],
          "name": "stdout"
        },
        {
          "output_type": "stream",
          "text": [
            "/usr/local/lib/python3.7/dist-packages/sklearn/metrics/_classification.py:1272: UndefinedMetricWarning: Precision is ill-defined and being set to 0.0 due to no predicted samples. Use `zero_division` parameter to control this behavior.\n",
            "  _warn_prf(average, modifier, msg_start, len(result))\n"
          ],
          "name": "stderr"
        }
      ]
    },
    {
      "cell_type": "code",
      "metadata": {
        "colab": {
          "base_uri": "https://localhost:8080/",
          "height": 349
        },
        "id": "Kc_MvhvAmXMA",
        "outputId": "d0d1cc4b-e91b-4134-d860-7479783dc48a"
      },
      "source": [
        "plot_auc_roc(model)"
      ],
      "execution_count": null,
      "outputs": [
        {
          "output_type": "stream",
          "text": [
            "/usr/local/lib/python3.7/dist-packages/keras/engine/sequential.py:450: UserWarning: `model.predict_classes()` is deprecated and will be removed after 2021-01-01. Please use instead:* `np.argmax(model.predict(x), axis=-1)`,   if your model does multi-class classification   (e.g. if it uses a `softmax` last-layer activation).* `(model.predict(x) > 0.5).astype(\"int32\")`,   if your model does binary classification   (e.g. if it uses a `sigmoid` last-layer activation).\n",
            "  warnings.warn('`model.predict_classes()` is deprecated and '\n"
          ],
          "name": "stderr"
        },
        {
          "output_type": "display_data",
          "data": {
            "image/png": "[encoded data removed]",
            "text/plain": [
              "<Figure size 432x288 with 1 Axes>"
            ]
          },
          "metadata": {
            "tags": [],
            "needs_background": "light"
          }
        }
      ]
    },
    {
      "cell_type": "code",
      "metadata": {
        "id": "nydzZobcmYtr"
      },
      "source": [
        ""
      ],
      "execution_count": null,
      "outputs": []
    }
  ]
}