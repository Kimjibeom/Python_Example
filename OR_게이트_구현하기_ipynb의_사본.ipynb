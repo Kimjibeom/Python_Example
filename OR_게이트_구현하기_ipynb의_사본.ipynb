{
  "nbformat": 4,
  "nbformat_minor": 0,
  "metadata": {
    "colab": {
      "name": "OR 게이트 구현하기.ipynb의 사본",
      "provenance": [],
      "authorship_tag": "ABX9TyMjPSa17h74zsCbsmAj4q8/",
      "include_colab_link": true
    },
    "kernelspec": {
      "name": "python3",
      "display_name": "Python 3"
    },
    "language_info": {
      "name": "python"
    }
  },
  "cells": [
    {
      "cell_type": "markdown",
      "metadata": {
        "id": "view-in-github",
        "colab_type": "text"
      },
      "source": [
        "<a href=\"https://colab.research.google.com/github/Kimjibeom/Python_Example/blob/main/OR_%EA%B2%8C%EC%9D%B4%ED%8A%B8_%EA%B5%AC%ED%98%84%ED%95%98%EA%B8%B0_ipynb%EC%9D%98_%EC%82%AC%EB%B3%B8.ipynb\" target=\"_parent\"><img src=\"https://colab.research.google.com/assets/colab-badge.svg\" alt=\"Open In Colab\"/></a>"
      ]
    },
    {
      "cell_type": "markdown",
      "metadata": {
        "id": "LGND3g0wMwlx"
      },
      "source": [
        "OR 게이트 구현해보기 0,0->0 1,0->1 0,1->1 1,1->1"
      ]
    },
    {
      "cell_type": "markdown",
      "metadata": {
        "id": "mPlX9bpnM8Pz"
      },
      "source": [
        "데이터 준비하기"
      ]
    },
    {
      "cell_type": "code",
      "metadata": {
        "id": "AHgzm5PfIA-f"
      },
      "source": [
        "import numpy as np\n",
        "\n",
        "import tensorflow as tf\n",
        "tf.random.set_seed(777)\n",
        "\n",
        "from tensorflow.keras.models import Sequential\n",
        "from tensorflow.keras.layers import Dense\n",
        "from tensorflow.keras.optimizers import SGD\n",
        "from tensorflow.keras.losses import mse"
      ],
      "execution_count": null,
      "outputs": []
    },
    {
      "cell_type": "code",
      "metadata": {
        "id": "5hZ9s2fENVFS"
      },
      "source": [
        "# 데이터 준비하기\n",
        "data = np.array([[0,0],[1,0],[0,1],[1,1]])  # OR 연산 학습 데이터\n",
        "label = np.array([[0],[1],[1],[1]])         # 정답"
      ],
      "execution_count": null,
      "outputs": []
    },
    {
      "cell_type": "markdown",
      "metadata": {
        "id": "JM_F6s2cN4j4"
      },
      "source": [
        "모델 구성하기"
      ]
    },
    {
      "cell_type": "code",
      "metadata": {
        "id": "dKYGgQ2gNtJ2"
      },
      "source": [
        "model = Sequential()\n",
        "model.add(Dense(1, input_shape=(2,), activation='linear')) # 단층 퍼셉트론을 구성"
      ],
      "execution_count": null,
      "outputs": []
    },
    {
      "cell_type": "markdown",
      "metadata": {
        "id": "XK1EC-5dOeWJ"
      },
      "source": [
        "모델 설정하기"
      ]
    },
    {
      "cell_type": "code",
      "metadata": {
        "id": "18gbyEsgORBx"
      },
      "source": [
        "model.compile(optimizer= SGD(), loss=mse, metrics=['acc'])"
      ],
      "execution_count": null,
      "outputs": []
    },
    {
      "cell_type": "code",
      "metadata": {
        "colab": {
          "base_uri": "https://localhost:8080/"
        },
        "id": "7mB5fx16O2d1",
        "outputId": "c6e14d6c-2c33-42d6-eb2a-d84f6418cc9f"
      },
      "source": [
        "# 모델 확인하기\n",
        "model.summary()"
      ],
      "execution_count": null,
      "outputs": [
        {
          "output_type": "stream",
          "text": [
            "Model: \"sequential\"\n",
            "_________________________________________________________________\n",
            "Layer (type)                 Output Shape              Param #   \n",
            "=================================================================\n",
            "dense (Dense)                (None, 1)                 3         \n",
            "=================================================================\n",
            "Total params: 3\n",
            "Trainable params: 3\n",
            "Non-trainable params: 0\n",
            "_________________________________________________________________\n"
          ],
          "name": "stdout"
        }
      ]
    },
    {
      "cell_type": "code",
      "metadata": {
        "colab": {
          "base_uri": "https://localhost:8080/",
          "height": 201
        },
        "id": "qfcsekpuO6rZ",
        "outputId": "7ac1cd5e-bbe1-4f96-8bac-70e63b005f9c"
      },
      "source": [
        "tf.keras.utils.plot_model(model, show_shapes=True, show_layer_names=True,rankdir='TB', expand_nested=False, dpi=96)"
      ],
      "execution_count": null,
      "outputs": [
        {
          "output_type": "execute_result",
          "data": {
            "image/png": "[encoded data removed]",
            "text/plain": [
              "<IPython.core.display.Image object>"
            ]
          },
          "metadata": {
            "tags": []
          },
          "execution_count": 6
        }
      ]
    },
    {
      "cell_type": "markdown",
      "metadata": {
        "id": "QJB561cbPKf3"
      },
      "source": [
        "모델 학습시키기"
      ]
    },
    {
      "cell_type": "code",
      "metadata": {
        "colab": {
          "base_uri": "https://localhost:8080/"
        },
        "id": "m0rONigAPDqv",
        "outputId": "12f8e510-c116-407f-b911-ee967f53730c"
      },
      "source": [
        "history = model.fit(data, label, epochs=250) # 학습데이터, 정답, 공부 횟수"
      ],
      "execution_count": null,
      "outputs": [
        {
          "output_type": "stream",
          "text": [
            "Epoch 1/250\n",
            "1/1 [==============================] - 0s 305ms/step - loss: 1.4290 - acc: 0.5000\n",
            "Epoch 2/250\n",
            "1/1 [==============================] - 0s 5ms/step - loss: 1.3602 - acc: 0.5000\n",
            "Epoch 3/250\n",
            "1/1 [==============================] - 0s 7ms/step - loss: 1.2956 - acc: 0.5000\n",
            "Epoch 4/250\n",
            "1/1 [==============================] - 0s 4ms/step - loss: 1.2349 - acc: 0.5000\n",
            "Epoch 5/250\n",
            "1/1 [==============================] - 0s 4ms/step - loss: 1.1779 - acc: 0.5000\n",
            "Epoch 6/250\n",
            "1/1 [==============================] - 0s 4ms/step - loss: 1.1242 - acc: 0.5000\n",
            "Epoch 7/250\n",
            "1/1 [==============================] - 0s 5ms/step - loss: 1.0738 - acc: 0.5000\n",
            "Epoch 8/250\n",
            "1/1 [==============================] - 0s 5ms/step - loss: 1.0264 - acc: 0.5000\n",
            "Epoch 9/250\n",
            "1/1 [==============================] - 0s 5ms/step - loss: 0.9819 - acc: 0.5000\n",
            "Epoch 10/250\n",
            "1/1 [==============================] - 0s 4ms/step - loss: 0.9399 - acc: 0.5000\n",
            "Epoch 11/250\n",
            "1/1 [==============================] - 0s 5ms/step - loss: 0.9005 - acc: 0.5000\n",
            "Epoch 12/250\n",
            "1/1 [==============================] - 0s 5ms/step - loss: 0.8634 - acc: 0.5000\n",
            "Epoch 13/250\n",
            "1/1 [==============================] - 0s 3ms/step - loss: 0.8284 - acc: 0.5000\n",
            "Epoch 14/250\n",
            "1/1 [==============================] - 0s 4ms/step - loss: 0.7955 - acc: 0.5000\n",
            "Epoch 15/250\n",
            "1/1 [==============================] - 0s 5ms/step - loss: 0.7646 - acc: 0.5000\n",
            "Epoch 16/250\n",
            "1/1 [==============================] - 0s 4ms/step - loss: 0.7354 - acc: 0.5000\n",
            "Epoch 17/250\n",
            "1/1 [==============================] - 0s 4ms/step - loss: 0.7079 - acc: 0.5000\n",
            "Epoch 18/250\n",
            "1/1 [==============================] - 0s 4ms/step - loss: 0.6820 - acc: 0.5000\n",
            "Epoch 19/250\n",
            "1/1 [==============================] - 0s 3ms/step - loss: 0.6576 - acc: 0.5000\n",
            "Epoch 20/250\n",
            "1/1 [==============================] - 0s 4ms/step - loss: 0.6346 - acc: 0.5000\n",
            "Epoch 21/250\n",
            "1/1 [==============================] - 0s 5ms/step - loss: 0.6129 - acc: 0.5000\n",
            "Epoch 22/250\n",
            "1/1 [==============================] - 0s 4ms/step - loss: 0.5925 - acc: 0.5000\n",
            "Epoch 23/250\n",
            "1/1 [==============================] - 0s 4ms/step - loss: 0.5732 - acc: 0.5000\n",
            "Epoch 24/250\n",
            "1/1 [==============================] - 0s 5ms/step - loss: 0.5549 - acc: 0.5000\n",
            "Epoch 25/250\n",
            "1/1 [==============================] - 0s 4ms/step - loss: 0.5377 - acc: 0.5000\n",
            "Epoch 26/250\n",
            "1/1 [==============================] - 0s 5ms/step - loss: 0.5215 - acc: 0.5000\n",
            "Epoch 27/250\n",
            "1/1 [==============================] - 0s 4ms/step - loss: 0.5061 - acc: 0.5000\n",
            "Epoch 28/250\n",
            "1/1 [==============================] - 0s 5ms/step - loss: 0.4916 - acc: 0.5000\n",
            "Epoch 29/250\n",
            "1/1 [==============================] - 0s 4ms/step - loss: 0.4778 - acc: 0.5000\n",
            "Epoch 30/250\n",
            "1/1 [==============================] - 0s 4ms/step - loss: 0.4648 - acc: 0.5000\n",
            "Epoch 31/250\n",
            "1/1 [==============================] - 0s 5ms/step - loss: 0.4525 - acc: 0.7500\n",
            "Epoch 32/250\n",
            "1/1 [==============================] - 0s 5ms/step - loss: 0.4409 - acc: 0.7500\n",
            "Epoch 33/250\n",
            "1/1 [==============================] - 0s 6ms/step - loss: 0.4298 - acc: 0.7500\n",
            "Epoch 34/250\n",
            "1/1 [==============================] - 0s 5ms/step - loss: 0.4193 - acc: 0.7500\n",
            "Epoch 35/250\n",
            "1/1 [==============================] - 0s 4ms/step - loss: 0.4094 - acc: 0.7500\n",
            "Epoch 36/250\n",
            "1/1 [==============================] - 0s 5ms/step - loss: 0.4000 - acc: 0.7500\n",
            "Epoch 37/250\n",
            "1/1 [==============================] - 0s 9ms/step - loss: 0.3911 - acc: 0.7500\n",
            "Epoch 38/250\n",
            "1/1 [==============================] - 0s 10ms/step - loss: 0.3826 - acc: 0.7500\n",
            "Epoch 39/250\n",
            "1/1 [==============================] - 0s 5ms/step - loss: 0.3745 - acc: 0.7500\n",
            "Epoch 40/250\n",
            "1/1 [==============================] - 0s 9ms/step - loss: 0.3668 - acc: 0.7500\n",
            "Epoch 41/250\n",
            "1/1 [==============================] - 0s 5ms/step - loss: 0.3595 - acc: 0.7500\n",
            "Epoch 42/250\n",
            "1/1 [==============================] - 0s 5ms/step - loss: 0.3525 - acc: 0.7500\n",
            "Epoch 43/250\n",
            "1/1 [==============================] - 0s 4ms/step - loss: 0.3459 - acc: 0.7500\n",
            "Epoch 44/250\n",
            "1/1 [==============================] - 0s 4ms/step - loss: 0.3396 - acc: 0.7500\n",
            "Epoch 45/250\n",
            "1/1 [==============================] - 0s 5ms/step - loss: 0.3336 - acc: 0.7500\n",
            "Epoch 46/250\n",
            "1/1 [==============================] - 0s 4ms/step - loss: 0.3278 - acc: 0.7500\n",
            "Epoch 47/250\n",
            "1/1 [==============================] - 0s 5ms/step - loss: 0.3223 - acc: 0.7500\n",
            "Epoch 48/250\n",
            "1/1 [==============================] - 0s 5ms/step - loss: 0.3170 - acc: 0.7500\n",
            "Epoch 49/250\n",
            "1/1 [==============================] - 0s 4ms/step - loss: 0.3120 - acc: 0.7500\n",
            "Epoch 50/250\n",
            "1/1 [==============================] - 0s 5ms/step - loss: 0.3072 - acc: 0.7500\n",
            "Epoch 51/250\n",
            "1/1 [==============================] - 0s 6ms/step - loss: 0.3026 - acc: 0.7500\n",
            "Epoch 52/250\n",
            "1/1 [==============================] - 0s 4ms/step - loss: 0.2982 - acc: 0.7500\n",
            "Epoch 53/250\n",
            "1/1 [==============================] - 0s 11ms/step - loss: 0.2939 - acc: 0.7500\n",
            "Epoch 54/250\n",
            "1/1 [==============================] - 0s 5ms/step - loss: 0.2898 - acc: 0.7500\n",
            "Epoch 55/250\n",
            "1/1 [==============================] - 0s 6ms/step - loss: 0.2859 - acc: 0.7500\n",
            "Epoch 56/250\n",
            "1/1 [==============================] - 0s 5ms/step - loss: 0.2822 - acc: 0.7500\n",
            "Epoch 57/250\n",
            "1/1 [==============================] - 0s 4ms/step - loss: 0.2785 - acc: 0.7500\n",
            "Epoch 58/250\n",
            "1/1 [==============================] - 0s 6ms/step - loss: 0.2750 - acc: 0.7500\n",
            "Epoch 59/250\n",
            "1/1 [==============================] - 0s 6ms/step - loss: 0.2717 - acc: 0.7500\n",
            "Epoch 60/250\n",
            "1/1 [==============================] - 0s 8ms/step - loss: 0.2684 - acc: 0.7500\n",
            "Epoch 61/250\n",
            "1/1 [==============================] - 0s 6ms/step - loss: 0.2653 - acc: 0.7500\n",
            "Epoch 62/250\n",
            "1/1 [==============================] - 0s 3ms/step - loss: 0.2623 - acc: 0.7500\n",
            "Epoch 63/250\n",
            "1/1 [==============================] - 0s 4ms/step - loss: 0.2594 - acc: 0.7500\n",
            "Epoch 64/250\n",
            "1/1 [==============================] - 0s 4ms/step - loss: 0.2565 - acc: 0.7500\n",
            "Epoch 65/250\n",
            "1/1 [==============================] - 0s 9ms/step - loss: 0.2538 - acc: 0.7500\n",
            "Epoch 66/250\n",
            "1/1 [==============================] - 0s 5ms/step - loss: 0.2511 - acc: 0.7500\n",
            "Epoch 67/250\n",
            "1/1 [==============================] - 0s 6ms/step - loss: 0.2486 - acc: 0.7500\n",
            "Epoch 68/250\n",
            "1/1 [==============================] - 0s 6ms/step - loss: 0.2461 - acc: 0.7500\n",
            "Epoch 69/250\n",
            "1/1 [==============================] - 0s 5ms/step - loss: 0.2436 - acc: 0.7500\n",
            "Epoch 70/250\n",
            "1/1 [==============================] - 0s 5ms/step - loss: 0.2413 - acc: 0.7500\n",
            "Epoch 71/250\n",
            "1/1 [==============================] - 0s 4ms/step - loss: 0.2390 - acc: 0.7500\n",
            "Epoch 72/250\n",
            "1/1 [==============================] - 0s 5ms/step - loss: 0.2368 - acc: 0.7500\n",
            "Epoch 73/250\n",
            "1/1 [==============================] - 0s 4ms/step - loss: 0.2346 - acc: 0.7500\n",
            "Epoch 74/250\n",
            "1/1 [==============================] - 0s 6ms/step - loss: 0.2325 - acc: 0.7500\n",
            "Epoch 75/250\n",
            "1/1 [==============================] - 0s 4ms/step - loss: 0.2304 - acc: 0.7500\n",
            "Epoch 76/250\n",
            "1/1 [==============================] - 0s 5ms/step - loss: 0.2284 - acc: 0.7500\n",
            "Epoch 77/250\n",
            "1/1 [==============================] - 0s 5ms/step - loss: 0.2264 - acc: 0.7500\n",
            "Epoch 78/250\n",
            "1/1 [==============================] - 0s 10ms/step - loss: 0.2245 - acc: 0.7500\n",
            "Epoch 79/250\n",
            "1/1 [==============================] - 0s 6ms/step - loss: 0.2226 - acc: 0.7500\n",
            "Epoch 80/250\n",
            "1/1 [==============================] - 0s 8ms/step - loss: 0.2208 - acc: 0.7500\n",
            "Epoch 81/250\n",
            "1/1 [==============================] - 0s 9ms/step - loss: 0.2190 - acc: 0.7500\n",
            "Epoch 82/250\n",
            "1/1 [==============================] - 0s 7ms/step - loss: 0.2173 - acc: 0.7500\n",
            "Epoch 83/250\n",
            "1/1 [==============================] - 0s 6ms/step - loss: 0.2155 - acc: 0.7500\n",
            "Epoch 84/250\n",
            "1/1 [==============================] - 0s 4ms/step - loss: 0.2139 - acc: 0.7500\n",
            "Epoch 85/250\n",
            "1/1 [==============================] - 0s 4ms/step - loss: 0.2122 - acc: 0.7500\n",
            "Epoch 86/250\n",
            "1/1 [==============================] - 0s 9ms/step - loss: 0.2106 - acc: 0.7500\n",
            "Epoch 87/250\n",
            "1/1 [==============================] - 0s 8ms/step - loss: 0.2090 - acc: 0.7500\n",
            "Epoch 88/250\n",
            "1/1 [==============================] - 0s 14ms/step - loss: 0.2074 - acc: 0.7500\n",
            "Epoch 89/250\n",
            "1/1 [==============================] - 0s 6ms/step - loss: 0.2059 - acc: 0.7500\n",
            "Epoch 90/250\n",
            "1/1 [==============================] - 0s 4ms/step - loss: 0.2044 - acc: 0.7500\n",
            "Epoch 91/250\n",
            "1/1 [==============================] - 0s 9ms/step - loss: 0.2029 - acc: 0.7500\n",
            "Epoch 92/250\n",
            "1/1 [==============================] - 0s 7ms/step - loss: 0.2015 - acc: 0.7500\n",
            "Epoch 93/250\n",
            "1/1 [==============================] - 0s 4ms/step - loss: 0.2000 - acc: 0.7500\n",
            "Epoch 94/250\n",
            "1/1 [==============================] - 0s 5ms/step - loss: 0.1986 - acc: 0.7500\n",
            "Epoch 95/250\n",
            "1/1 [==============================] - 0s 26ms/step - loss: 0.1973 - acc: 0.7500\n",
            "Epoch 96/250\n",
            "1/1 [==============================] - 0s 6ms/step - loss: 0.1959 - acc: 0.7500\n",
            "Epoch 97/250\n",
            "1/1 [==============================] - 0s 5ms/step - loss: 0.1946 - acc: 0.7500\n",
            "Epoch 98/250\n",
            "1/1 [==============================] - 0s 12ms/step - loss: 0.1932 - acc: 0.7500\n",
            "Epoch 99/250\n",
            "1/1 [==============================] - 0s 21ms/step - loss: 0.1919 - acc: 0.7500\n",
            "Epoch 100/250\n",
            "1/1 [==============================] - 0s 10ms/step - loss: 0.1907 - acc: 0.7500\n",
            "Epoch 101/250\n",
            "1/1 [==============================] - 0s 6ms/step - loss: 0.1894 - acc: 0.7500\n",
            "Epoch 102/250\n",
            "1/1 [==============================] - 0s 11ms/step - loss: 0.1881 - acc: 0.7500\n",
            "Epoch 103/250\n",
            "1/1 [==============================] - 0s 10ms/step - loss: 0.1869 - acc: 0.7500\n",
            "Epoch 104/250\n",
            "1/1 [==============================] - 0s 4ms/step - loss: 0.1857 - acc: 0.7500\n",
            "Epoch 105/250\n",
            "1/1 [==============================] - 0s 9ms/step - loss: 0.1845 - acc: 0.7500\n",
            "Epoch 106/250\n",
            "1/1 [==============================] - 0s 3ms/step - loss: 0.1833 - acc: 0.7500\n",
            "Epoch 107/250\n",
            "1/1 [==============================] - 0s 3ms/step - loss: 0.1822 - acc: 0.7500\n",
            "Epoch 108/250\n",
            "1/1 [==============================] - 0s 4ms/step - loss: 0.1810 - acc: 0.7500\n",
            "Epoch 109/250\n",
            "1/1 [==============================] - 0s 5ms/step - loss: 0.1799 - acc: 0.7500\n",
            "Epoch 110/250\n",
            "1/1 [==============================] - 0s 9ms/step - loss: 0.1787 - acc: 0.7500\n",
            "Epoch 111/250\n",
            "1/1 [==============================] - 0s 4ms/step - loss: 0.1776 - acc: 0.7500\n",
            "Epoch 112/250\n",
            "1/1 [==============================] - 0s 6ms/step - loss: 0.1765 - acc: 0.7500\n",
            "Epoch 113/250\n",
            "1/1 [==============================] - 0s 4ms/step - loss: 0.1755 - acc: 0.7500\n",
            "Epoch 114/250\n",
            "1/1 [==============================] - 0s 5ms/step - loss: 0.1744 - acc: 0.7500\n",
            "Epoch 115/250\n",
            "1/1 [==============================] - 0s 4ms/step - loss: 0.1733 - acc: 0.7500\n",
            "Epoch 116/250\n",
            "1/1 [==============================] - 0s 6ms/step - loss: 0.1723 - acc: 0.7500\n",
            "Epoch 117/250\n",
            "1/1 [==============================] - 0s 7ms/step - loss: 0.1712 - acc: 0.7500\n",
            "Epoch 118/250\n",
            "1/1 [==============================] - 0s 4ms/step - loss: 0.1702 - acc: 0.7500\n",
            "Epoch 119/250\n",
            "1/1 [==============================] - 0s 6ms/step - loss: 0.1692 - acc: 0.7500\n",
            "Epoch 120/250\n",
            "1/1 [==============================] - 0s 5ms/step - loss: 0.1682 - acc: 0.7500\n",
            "Epoch 121/250\n",
            "1/1 [==============================] - 0s 4ms/step - loss: 0.1672 - acc: 0.7500\n",
            "Epoch 122/250\n",
            "1/1 [==============================] - 0s 6ms/step - loss: 0.1663 - acc: 0.7500\n",
            "Epoch 123/250\n",
            "1/1 [==============================] - 0s 5ms/step - loss: 0.1653 - acc: 0.7500\n",
            "Epoch 124/250\n",
            "1/1 [==============================] - 0s 4ms/step - loss: 0.1643 - acc: 0.7500\n",
            "Epoch 125/250\n",
            "1/1 [==============================] - 0s 6ms/step - loss: 0.1634 - acc: 0.7500\n",
            "Epoch 126/250\n",
            "1/1 [==============================] - 0s 7ms/step - loss: 0.1625 - acc: 0.7500\n",
            "Epoch 127/250\n",
            "1/1 [==============================] - 0s 6ms/step - loss: 0.1615 - acc: 0.7500\n",
            "Epoch 128/250\n",
            "1/1 [==============================] - 0s 10ms/step - loss: 0.1606 - acc: 0.7500\n",
            "Epoch 129/250\n",
            "1/1 [==============================] - 0s 8ms/step - loss: 0.1597 - acc: 0.7500\n",
            "Epoch 130/250\n",
            "1/1 [==============================] - 0s 8ms/step - loss: 0.1588 - acc: 0.7500\n",
            "Epoch 131/250\n",
            "1/1 [==============================] - 0s 3ms/step - loss: 0.1579 - acc: 0.7500\n",
            "Epoch 132/250\n",
            "1/1 [==============================] - 0s 11ms/step - loss: 0.1570 - acc: 0.7500\n",
            "Epoch 133/250\n",
            "1/1 [==============================] - 0s 3ms/step - loss: 0.1562 - acc: 0.7500\n",
            "Epoch 134/250\n",
            "1/1 [==============================] - 0s 5ms/step - loss: 0.1553 - acc: 0.7500\n",
            "Epoch 135/250\n",
            "1/1 [==============================] - 0s 4ms/step - loss: 0.1545 - acc: 0.7500\n",
            "Epoch 136/250\n",
            "1/1 [==============================] - 0s 4ms/step - loss: 0.1536 - acc: 0.7500\n",
            "Epoch 137/250\n",
            "1/1 [==============================] - 0s 6ms/step - loss: 0.1528 - acc: 0.7500\n",
            "Epoch 138/250\n",
            "1/1 [==============================] - 0s 4ms/step - loss: 0.1520 - acc: 0.7500\n",
            "Epoch 139/250\n",
            "1/1 [==============================] - 0s 4ms/step - loss: 0.1511 - acc: 0.7500\n",
            "Epoch 140/250\n",
            "1/1 [==============================] - 0s 5ms/step - loss: 0.1503 - acc: 0.7500\n",
            "Epoch 141/250\n",
            "1/1 [==============================] - 0s 6ms/step - loss: 0.1495 - acc: 0.7500\n",
            "Epoch 142/250\n",
            "1/1 [==============================] - 0s 3ms/step - loss: 0.1487 - acc: 0.7500\n",
            "Epoch 143/250\n",
            "1/1 [==============================] - 0s 3ms/step - loss: 0.1480 - acc: 0.7500\n",
            "Epoch 144/250\n",
            "1/1 [==============================] - 0s 3ms/step - loss: 0.1472 - acc: 0.7500\n",
            "Epoch 145/250\n",
            "1/1 [==============================] - 0s 5ms/step - loss: 0.1464 - acc: 0.7500\n",
            "Epoch 146/250\n",
            "1/1 [==============================] - 0s 6ms/step - loss: 0.1456 - acc: 0.7500\n",
            "Epoch 147/250\n",
            "1/1 [==============================] - 0s 3ms/step - loss: 0.1449 - acc: 0.7500\n",
            "Epoch 148/250\n",
            "1/1 [==============================] - 0s 6ms/step - loss: 0.1441 - acc: 0.7500\n",
            "Epoch 149/250\n",
            "1/1 [==============================] - 0s 4ms/step - loss: 0.1434 - acc: 0.7500\n",
            "Epoch 150/250\n",
            "1/1 [==============================] - 0s 6ms/step - loss: 0.1427 - acc: 0.7500\n",
            "Epoch 151/250\n",
            "1/1 [==============================] - 0s 4ms/step - loss: 0.1419 - acc: 0.7500\n",
            "Epoch 152/250\n",
            "1/1 [==============================] - 0s 5ms/step - loss: 0.1412 - acc: 0.7500\n",
            "Epoch 153/250\n",
            "1/1 [==============================] - 0s 8ms/step - loss: 0.1405 - acc: 0.7500\n",
            "Epoch 154/250\n",
            "1/1 [==============================] - 0s 4ms/step - loss: 0.1398 - acc: 0.7500\n",
            "Epoch 155/250\n",
            "1/1 [==============================] - 0s 10ms/step - loss: 0.1391 - acc: 0.7500\n",
            "Epoch 156/250\n",
            "1/1 [==============================] - 0s 14ms/step - loss: 0.1384 - acc: 0.7500\n",
            "Epoch 157/250\n",
            "1/1 [==============================] - 0s 6ms/step - loss: 0.1377 - acc: 0.7500\n",
            "Epoch 158/250\n",
            "1/1 [==============================] - 0s 9ms/step - loss: 0.1370 - acc: 0.7500\n",
            "Epoch 159/250\n",
            "1/1 [==============================] - 0s 6ms/step - loss: 0.1364 - acc: 0.7500\n",
            "Epoch 160/250\n",
            "1/1 [==============================] - 0s 3ms/step - loss: 0.1357 - acc: 0.7500\n",
            "Epoch 161/250\n",
            "1/1 [==============================] - 0s 5ms/step - loss: 0.1350 - acc: 0.7500\n",
            "Epoch 162/250\n",
            "1/1 [==============================] - 0s 7ms/step - loss: 0.1344 - acc: 0.7500\n",
            "Epoch 163/250\n",
            "1/1 [==============================] - 0s 4ms/step - loss: 0.1337 - acc: 0.7500\n",
            "Epoch 164/250\n",
            "1/1 [==============================] - 0s 4ms/step - loss: 0.1331 - acc: 0.7500\n",
            "Epoch 165/250\n",
            "1/1 [==============================] - 0s 4ms/step - loss: 0.1325 - acc: 0.7500\n",
            "Epoch 166/250\n",
            "1/1 [==============================] - 0s 6ms/step - loss: 0.1318 - acc: 0.7500\n",
            "Epoch 167/250\n",
            "1/1 [==============================] - 0s 4ms/step - loss: 0.1312 - acc: 0.7500\n",
            "Epoch 168/250\n",
            "1/1 [==============================] - 0s 7ms/step - loss: 0.1306 - acc: 0.7500\n",
            "Epoch 169/250\n",
            "1/1 [==============================] - 0s 4ms/step - loss: 0.1300 - acc: 0.7500\n",
            "Epoch 170/250\n",
            "1/1 [==============================] - 0s 8ms/step - loss: 0.1294 - acc: 0.7500\n",
            "Epoch 171/250\n",
            "1/1 [==============================] - 0s 5ms/step - loss: 0.1288 - acc: 0.7500\n",
            "Epoch 172/250\n",
            "1/1 [==============================] - 0s 6ms/step - loss: 0.1282 - acc: 0.7500\n",
            "Epoch 173/250\n",
            "1/1 [==============================] - 0s 4ms/step - loss: 0.1276 - acc: 0.7500\n",
            "Epoch 174/250\n",
            "1/1 [==============================] - 0s 7ms/step - loss: 0.1270 - acc: 0.7500\n",
            "Epoch 175/250\n",
            "1/1 [==============================] - 0s 4ms/step - loss: 0.1264 - acc: 0.7500\n",
            "Epoch 176/250\n",
            "1/1 [==============================] - 0s 6ms/step - loss: 0.1258 - acc: 0.7500\n",
            "Epoch 177/250\n",
            "1/1 [==============================] - 0s 6ms/step - loss: 0.1253 - acc: 0.7500\n",
            "Epoch 178/250\n",
            "1/1 [==============================] - 0s 5ms/step - loss: 0.1247 - acc: 0.7500\n",
            "Epoch 179/250\n",
            "1/1 [==============================] - 0s 7ms/step - loss: 0.1242 - acc: 0.7500\n",
            "Epoch 180/250\n",
            "1/1 [==============================] - 0s 6ms/step - loss: 0.1236 - acc: 0.7500\n",
            "Epoch 181/250\n",
            "1/1 [==============================] - 0s 6ms/step - loss: 0.1231 - acc: 0.7500\n",
            "Epoch 182/250\n",
            "1/1 [==============================] - 0s 4ms/step - loss: 0.1225 - acc: 0.7500\n",
            "Epoch 183/250\n",
            "1/1 [==============================] - 0s 6ms/step - loss: 0.1220 - acc: 0.7500\n",
            "Epoch 184/250\n",
            "1/1 [==============================] - 0s 4ms/step - loss: 0.1214 - acc: 0.7500\n",
            "Epoch 185/250\n",
            "1/1 [==============================] - 0s 11ms/step - loss: 0.1209 - acc: 0.7500\n",
            "Epoch 186/250\n",
            "1/1 [==============================] - 0s 3ms/step - loss: 0.1204 - acc: 0.7500\n",
            "Epoch 187/250\n",
            "1/1 [==============================] - 0s 6ms/step - loss: 0.1199 - acc: 0.7500\n",
            "Epoch 188/250\n",
            "1/1 [==============================] - 0s 3ms/step - loss: 0.1194 - acc: 0.7500\n",
            "Epoch 189/250\n",
            "1/1 [==============================] - 0s 4ms/step - loss: 0.1189 - acc: 0.7500\n",
            "Epoch 190/250\n",
            "1/1 [==============================] - 0s 5ms/step - loss: 0.1184 - acc: 0.7500\n",
            "Epoch 191/250\n",
            "1/1 [==============================] - 0s 3ms/step - loss: 0.1179 - acc: 0.7500\n",
            "Epoch 192/250\n",
            "1/1 [==============================] - 0s 6ms/step - loss: 0.1174 - acc: 1.0000\n",
            "Epoch 193/250\n",
            "1/1 [==============================] - 0s 6ms/step - loss: 0.1169 - acc: 1.0000\n",
            "Epoch 194/250\n",
            "1/1 [==============================] - 0s 8ms/step - loss: 0.1164 - acc: 1.0000\n",
            "Epoch 195/250\n",
            "1/1 [==============================] - 0s 19ms/step - loss: 0.1159 - acc: 1.0000\n",
            "Epoch 196/250\n",
            "1/1 [==============================] - 0s 14ms/step - loss: 0.1154 - acc: 1.0000\n",
            "Epoch 197/250\n",
            "1/1 [==============================] - 0s 4ms/step - loss: 0.1150 - acc: 1.0000\n",
            "Epoch 198/250\n",
            "1/1 [==============================] - 0s 6ms/step - loss: 0.1145 - acc: 1.0000\n",
            "Epoch 199/250\n",
            "1/1 [==============================] - 0s 5ms/step - loss: 0.1140 - acc: 1.0000\n",
            "Epoch 200/250\n",
            "1/1 [==============================] - 0s 7ms/step - loss: 0.1136 - acc: 1.0000\n",
            "Epoch 201/250\n",
            "1/1 [==============================] - 0s 6ms/step - loss: 0.1131 - acc: 1.0000\n",
            "Epoch 202/250\n",
            "1/1 [==============================] - 0s 4ms/step - loss: 0.1127 - acc: 1.0000\n",
            "Epoch 203/250\n",
            "1/1 [==============================] - 0s 8ms/step - loss: 0.1122 - acc: 1.0000\n",
            "Epoch 204/250\n",
            "1/1 [==============================] - 0s 7ms/step - loss: 0.1118 - acc: 1.0000\n",
            "Epoch 205/250\n",
            "1/1 [==============================] - 0s 4ms/step - loss: 0.1114 - acc: 1.0000\n",
            "Epoch 206/250\n",
            "1/1 [==============================] - 0s 6ms/step - loss: 0.1109 - acc: 1.0000\n",
            "Epoch 207/250\n",
            "1/1 [==============================] - 0s 3ms/step - loss: 0.1105 - acc: 1.0000\n",
            "Epoch 208/250\n",
            "1/1 [==============================] - 0s 5ms/step - loss: 0.1101 - acc: 1.0000\n",
            "Epoch 209/250\n",
            "1/1 [==============================] - 0s 4ms/step - loss: 0.1096 - acc: 1.0000\n",
            "Epoch 210/250\n",
            "1/1 [==============================] - 0s 5ms/step - loss: 0.1092 - acc: 1.0000\n",
            "Epoch 211/250\n",
            "1/1 [==============================] - 0s 4ms/step - loss: 0.1088 - acc: 1.0000\n",
            "Epoch 212/250\n",
            "1/1 [==============================] - 0s 4ms/step - loss: 0.1084 - acc: 1.0000\n",
            "Epoch 213/250\n",
            "1/1 [==============================] - 0s 5ms/step - loss: 0.1080 - acc: 1.0000\n",
            "Epoch 214/250\n",
            "1/1 [==============================] - 0s 7ms/step - loss: 0.1076 - acc: 1.0000\n",
            "Epoch 215/250\n",
            "1/1 [==============================] - 0s 4ms/step - loss: 0.1072 - acc: 1.0000\n",
            "Epoch 216/250\n",
            "1/1 [==============================] - 0s 9ms/step - loss: 0.1068 - acc: 1.0000\n",
            "Epoch 217/250\n",
            "1/1 [==============================] - 0s 5ms/step - loss: 0.1064 - acc: 1.0000\n",
            "Epoch 218/250\n",
            "1/1 [==============================] - 0s 6ms/step - loss: 0.1060 - acc: 1.0000\n",
            "Epoch 219/250\n",
            "1/1 [==============================] - 0s 4ms/step - loss: 0.1056 - acc: 1.0000\n",
            "Epoch 220/250\n",
            "1/1 [==============================] - 0s 7ms/step - loss: 0.1053 - acc: 1.0000\n",
            "Epoch 221/250\n",
            "1/1 [==============================] - 0s 4ms/step - loss: 0.1049 - acc: 1.0000\n",
            "Epoch 222/250\n",
            "1/1 [==============================] - 0s 6ms/step - loss: 0.1045 - acc: 1.0000\n",
            "Epoch 223/250\n",
            "1/1 [==============================] - 0s 3ms/step - loss: 0.1041 - acc: 1.0000\n",
            "Epoch 224/250\n",
            "1/1 [==============================] - 0s 6ms/step - loss: 0.1038 - acc: 1.0000\n",
            "Epoch 225/250\n",
            "1/1 [==============================] - 0s 4ms/step - loss: 0.1034 - acc: 1.0000\n",
            "Epoch 226/250\n",
            "1/1 [==============================] - 0s 7ms/step - loss: 0.1030 - acc: 1.0000\n",
            "Epoch 227/250\n",
            "1/1 [==============================] - 0s 4ms/step - loss: 0.1027 - acc: 1.0000\n",
            "Epoch 228/250\n",
            "1/1 [==============================] - 0s 4ms/step - loss: 0.1023 - acc: 1.0000\n",
            "Epoch 229/250\n",
            "1/1 [==============================] - 0s 7ms/step - loss: 0.1020 - acc: 1.0000\n",
            "Epoch 230/250\n",
            "1/1 [==============================] - 0s 4ms/step - loss: 0.1016 - acc: 1.0000\n",
            "Epoch 231/250\n",
            "1/1 [==============================] - 0s 3ms/step - loss: 0.1013 - acc: 1.0000\n",
            "Epoch 232/250\n",
            "1/1 [==============================] - 0s 7ms/step - loss: 0.1009 - acc: 1.0000\n",
            "Epoch 233/250\n",
            "1/1 [==============================] - 0s 3ms/step - loss: 0.1006 - acc: 1.0000\n",
            "Epoch 234/250\n",
            "1/1 [==============================] - 0s 3ms/step - loss: 0.1003 - acc: 1.0000\n",
            "Epoch 235/250\n",
            "1/1 [==============================] - 0s 3ms/step - loss: 0.0999 - acc: 1.0000\n",
            "Epoch 236/250\n",
            "1/1 [==============================] - 0s 5ms/step - loss: 0.0996 - acc: 1.0000\n",
            "Epoch 237/250\n",
            "1/1 [==============================] - 0s 3ms/step - loss: 0.0993 - acc: 1.0000\n",
            "Epoch 238/250\n",
            "1/1 [==============================] - 0s 18ms/step - loss: 0.0990 - acc: 1.0000\n",
            "Epoch 239/250\n",
            "1/1 [==============================] - 0s 4ms/step - loss: 0.0986 - acc: 1.0000\n",
            "Epoch 240/250\n",
            "1/1 [==============================] - 0s 8ms/step - loss: 0.0983 - acc: 1.0000\n",
            "Epoch 241/250\n",
            "1/1 [==============================] - 0s 8ms/step - loss: 0.0980 - acc: 1.0000\n",
            "Epoch 242/250\n",
            "1/1 [==============================] - 0s 4ms/step - loss: 0.0977 - acc: 1.0000\n",
            "Epoch 243/250\n",
            "1/1 [==============================] - 0s 10ms/step - loss: 0.0974 - acc: 1.0000\n",
            "Epoch 244/250\n",
            "1/1 [==============================] - 0s 8ms/step - loss: 0.0971 - acc: 1.0000\n",
            "Epoch 245/250\n",
            "1/1 [==============================] - 0s 12ms/step - loss: 0.0968 - acc: 1.0000\n",
            "Epoch 246/250\n",
            "1/1 [==============================] - 0s 6ms/step - loss: 0.0965 - acc: 1.0000\n",
            "Epoch 247/250\n",
            "1/1 [==============================] - 0s 10ms/step - loss: 0.0962 - acc: 1.0000\n",
            "Epoch 248/250\n",
            "1/1 [==============================] - 0s 4ms/step - loss: 0.0959 - acc: 1.0000\n",
            "Epoch 249/250\n",
            "1/1 [==============================] - 0s 14ms/step - loss: 0.0956 - acc: 1.0000\n",
            "Epoch 250/250\n",
            "1/1 [==============================] - 0s 4ms/step - loss: 0.0953 - acc: 1.0000\n"
          ],
          "name": "stdout"
        }
      ]
    },
    {
      "cell_type": "markdown",
      "metadata": {
        "id": "GlasM8nEPxkp"
      },
      "source": [
        "학습결과 그려보기"
      ]
    },
    {
      "cell_type": "code",
      "metadata": {
        "colab": {
          "base_uri": "https://localhost:8080/",
          "height": 350
        },
        "id": "m39DcbqgPZhc",
        "outputId": "d1faf4cd-fecd-4a73-cfaf-4403e25ebc14"
      },
      "source": [
        "import matplotlib.pyplot as plt\n",
        "\n",
        "his_dict = history.history\n",
        "loss = his_dict['loss']\n",
        "\n",
        "epochs = range(1, len(loss) + 1)\n",
        "fig = plt.figure(figsize = (10, 5))\n",
        "\n",
        "# 훈련 및 검증 손실 그리기\n",
        "ax1 = fig.add_subplot(1, 2, 1)\n",
        "ax1.plot(epochs, loss, color = 'orange', label = 'train_loss')\n",
        "ax1.set_title('train loss')\n",
        "ax1.set_xlabel('epochs')\n",
        "ax1.set_ylabel('loss')\n",
        "ax1.legend()\n",
        "\n",
        "acc = his_dict['acc']\n",
        "\n",
        "# 훈련 및 검증 정확도 그리기\n",
        "ax2 = fig.add_subplot(1, 2, 2)\n",
        "ax2.plot(epochs, acc, color = 'blue', label = 'train_accuracy')\n",
        "ax2.set_title('train accuracy')\n",
        "ax2.set_xlabel('epochs')\n",
        "ax2.set_ylabel('accuracy')\n",
        "ax2.legend()\n",
        "\n",
        "plt.show()"
      ],
      "execution_count": null,
      "outputs": [
        {
          "output_type": "display_data",
          "data": {
            "image/png": "[encoded data removed]",
            "text/plain": [
              "<Figure size 720x360 with 2 Axes>"
            ]
          },
          "metadata": {
            "tags": [],
            "needs_background": "light"
          }
        }
      ]
    },
    {
      "cell_type": "markdown",
      "metadata": {
        "id": "uaFLIdeBQQuk"
      },
      "source": [
        "모델 가중치 확인"
      ]
    },
    {
      "cell_type": "code",
      "metadata": {
        "colab": {
          "base_uri": "https://localhost:8080/"
        },
        "id": "XX2i5U0rP3mL",
        "outputId": "9ec88081-63ba-46e4-89cf-d6c17ed0285b"
      },
      "source": [
        "model.get_weights()"
      ],
      "execution_count": null,
      "outputs": [
        {
          "output_type": "execute_result",
          "data": {
            "text/plain": [
              "[array([[0.5650373 ],\n",
              "        [0.14912505]], dtype=float32), array([0.41919875], dtype=float32)]"
            ]
          },
          "metadata": {
            "tags": []
          },
          "execution_count": 9
        }
      ]
    },
    {
      "cell_type": "markdown",
      "metadata": {
        "id": "BooUORSaQc7w"
      },
      "source": [
        "모델 예측하기"
      ]
    },
    {
      "cell_type": "code",
      "metadata": {
        "colab": {
          "base_uri": "https://localhost:8080/"
        },
        "id": "799yCmDXQVRd",
        "outputId": "d910d9f3-418b-43ff-ce17-a83c1321d095"
      },
      "source": [
        "result = model.predict(data)\n",
        "print(result)"
      ],
      "execution_count": null,
      "outputs": [
        {
          "output_type": "stream",
          "text": [
            "[[0.41919875]\n",
            " [0.98423606]\n",
            " [0.5683238 ]\n",
            " [1.1333611 ]]\n"
          ],
          "name": "stdout"
        }
      ]
    },
    {
      "cell_type": "code",
      "metadata": {
        "colab": {
          "base_uri": "https://localhost:8080/"
        },
        "id": "dVLwJSlQQjNq",
        "outputId": "c916f72c-6117-429d-f849-ba54ffb44872"
      },
      "source": [
        "result = model.predict_classes(data)\n",
        "print(result)"
      ],
      "execution_count": null,
      "outputs": [
        {
          "output_type": "stream",
          "text": [
            "[[0]\n",
            " [1]\n",
            " [1]\n",
            " [1]]\n"
          ],
          "name": "stdout"
        },
        {
          "output_type": "stream",
          "text": [
            "/usr/local/lib/python3.7/dist-packages/tensorflow/python/keras/engine/sequential.py:455: UserWarning: `model.predict_classes()` is deprecated and will be removed after 2021-01-01. Please use instead:* `np.argmax(model.predict(x), axis=-1)`,   if your model does multi-class classification   (e.g. if it uses a `softmax` last-layer activation).* `(model.predict(x) > 0.5).astype(\"int32\")`,   if your model does binary classification   (e.g. if it uses a `sigmoid` last-layer activation).\n",
            "  warnings.warn('`model.predict_classes()` is deprecated and '\n"
          ],
          "name": "stderr"
        }
      ]
    },
    {
      "cell_type": "code",
      "metadata": {
        "id": "AOGJzJLmQvI0"
      },
      "source": [
        ""
      ],
      "execution_count": null,
      "outputs": []
    }
  ]
}